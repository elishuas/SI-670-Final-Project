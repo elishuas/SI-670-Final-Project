{
 "cells": [
  {
   "cell_type": "markdown",
   "id": "9fec92f3-7761-4974-8482-ac00fe101217",
   "metadata": {},
   "source": [
    "# XG-Boost"
   ]
  },
  {
   "cell_type": "code",
   "execution_count": 3,
   "id": "b13fcdf3-896f-423b-b9af-96c0ddad6914",
   "metadata": {},
   "outputs": [],
   "source": [
    "import pandas as pd\n",
    "import numpy as np\n",
    "import xgboost as xgb \n",
    "from sklearn.model_selection import GridSearchCV\n",
    "from sklearn.model_selection import KFold\n",
    "from sklearn.metrics import auc\n",
    "from sklearn.metrics import precision_recall_curve\n",
    "from sklearn.model_selection import validation_curve\n",
    "from sklearn.metrics import precision_score\n",
    "from sklearn.metrics import recall_score\n",
    "from sklearn.metrics import fbeta_score\n",
    "import Utils as U\n",
    "import matplotlib.pyplot as plt\n",
    "import warnings\n",
    "warnings.filterwarnings('ignore')"
   ]
  },
  {
   "cell_type": "code",
   "execution_count": 4,
   "id": "22348044-6285-4b1a-b10c-6284f8b92373",
   "metadata": {},
   "outputs": [],
   "source": [
    "# Load data\n",
    "\n",
    "paths = U.load_paths()\n",
    "\n",
    "data_dir = paths['data_dir']\n",
    "train = pd.read_csv(data_dir + 'train.csv')\n",
    "test = pd.read_csv(data_dir + 'test.csv')\n",
    "\n",
    "X_train = train.drop(columns='died')\n",
    "X_test = test.drop(columns='died')\n",
    "y_train = train.died\n",
    "y_test = test.died"
   ]
  },
  {
   "cell_type": "code",
   "execution_count": 5,
   "id": "ac31f092-d0dd-49d6-b95a-c7c1b9fbc161",
   "metadata": {},
   "outputs": [],
   "source": [
    "lasso_features = np.r_[1:16, 17:  18:35, 38:41, 43:46, 47, 49, 50:54, 56:71,\n",
    "                       73:77, 79:81, 84:86, 87, 89, 93, 95, 97, 99:105, 107, \n",
    "                       109:111, 112:116, 118:120, 122, 124:140, 142:145, \n",
    "                       146:151, 152:156, 158, 160:162, 163:169, 173:175, 177, \n",
    "                       179:188, 189, 191, 194:197, 201, 204:208, 210:212, 213, \n",
    "                       216:218, 219, 221, 224, 226, 228, 230, 232:235, 236]"
   ]
  },
  {
   "cell_type": "code",
   "execution_count": 6,
   "id": "19dfefe8-44de-4179-896b-4777b8740f6b",
   "metadata": {},
   "outputs": [],
   "source": [
    "X_train = X_train.iloc[:, lasso_features]\n",
    "X_test = X_test.iloc[:, lasso_features]"
   ]
  },
  {
   "cell_type": "code",
   "execution_count": 7,
   "id": "2c6fdff9-68cd-4139-926a-a3ce7074cb3b",
   "metadata": {},
   "outputs": [],
   "source": [
    "# XG-Boost doesn't accept characters such as <, > in feature names\n",
    "X_train.rename(columns={'numbedscategory_<100': 'numbedscategory_lt_100', \n",
    "                        'numbedscategory_>= 500': 'numbedscategory_gte_500'}, \n",
    "               inplace=True)\n",
    "X_test.rename(columns={'numbedscategory_<100': 'numbedscategory_lt_100', \n",
    "                       'numbedscategory_>= 500': 'numbedscategory_gte_500'}, \n",
    "              inplace=True)"
   ]
  },
  {
   "cell_type": "markdown",
   "id": "5a1ec48f-5d4d-432d-8b5a-c1e2140d0f90",
   "metadata": {},
   "source": [
    "### Train baseline XG-Boost with default parameters"
   ]
  },
  {
   "cell_type": "code",
   "execution_count": 8,
   "id": "dc6b5f9e-aaea-44f6-9a4f-04c701202c21",
   "metadata": {},
   "outputs": [
    {
     "name": "stdout",
     "output_type": "stream",
     "text": [
      "0.984\n",
      "0.493\n"
     ]
    }
   ],
   "source": [
    "xgb_mod = xgb.XGBClassifier(random_state=670).fit(X_train, y_train)\n",
    "\n",
    "train_precision, train_recall, _ = (\n",
    "    precision_recall_curve(y_train, xgb_mod.predict_proba(X_train)[:, 1])\n",
    ")\n",
    "test_precision, test_recall, _ = (\n",
    "    precision_recall_curve(y_test, xgb_mod.predict_proba(X_test)[:, 1])\n",
    ")\n",
    "\n",
    "train_auprc = auc(train_recall, train_precision)\n",
    "test_auprc = auc(test_recall, test_precision)\n",
    "\n",
    "print(round(train_auprc, 3))\n",
    "print(round(test_auprc, 3))"
   ]
  },
  {
   "cell_type": "code",
   "execution_count": 9,
   "id": "50abb928-cfac-4c44-be4d-d77af42ccdf4",
   "metadata": {},
   "outputs": [
    {
     "name": "stdout",
     "output_type": "stream",
     "text": [
      "{'learning_rate': 0.1, 'n_estimators': 500}\n",
      "0.576\n",
      "0.458\n"
     ]
    }
   ],
   "source": [
    "# Set up k-fold validation set\n",
    "k_folds = KFold(n_splits=5, shuffle=True, random_state=670)\n",
    "splits = list(k_folds.split(X_train, y_train))\n",
    "\n",
    "param_grid = {'n_estimators': range(100, 600, 100),\n",
    "              'learning_rate': [0.001, 0.01, 0.1]}\n",
    "\n",
    "xgb_mod.set_params(**{'max_depth': 1})\n",
    "grid_search = GridSearchCV(estimator=xgb_mod,\n",
    "                           param_grid=param_grid,\n",
    "                           scoring='average_precision',\n",
    "                           cv=splits,\n",
    "                           n_jobs=-1)\n",
    "grid_search.fit(X_train, y_train) \n",
    "\n",
    "# Get best parameters from Grid Search\n",
    "print(grid_search.best_params_)\n",
    "\n",
    "train_precision, train_recall, _ = (\n",
    "    precision_recall_curve(y_train, grid_search.predict_proba(X_train)[:, 1])\n",
    ")\n",
    "test_precision, test_recall, _ = (\n",
    "    precision_recall_curve(y_test, grid_search.predict_proba(X_test)[:, 1])\n",
    ")\n",
    "\n",
    "train_auprc = auc(train_recall, train_precision)\n",
    "test_auprc = auc(test_recall, test_precision)\n",
    "\n",
    "print(round(train_auprc, 3))\n",
    "print(round(test_auprc, 3))"
   ]
  },
  {
   "cell_type": "code",
   "execution_count": 10,
   "id": "f4c454f7-61c6-49ff-bee6-42478a2d9783",
   "metadata": {},
   "outputs": [
    {
     "ename": "NameError",
     "evalue": "name 'plot_validation_curves' is not defined",
     "output_type": "error",
     "traceback": [
      "\u001b[0;31m---------------------------------------------------------------------------\u001b[0m",
      "\u001b[0;31mNameError\u001b[0m                                 Traceback (most recent call last)",
      "Cell \u001b[0;32mIn [10], line 2\u001b[0m\n\u001b[1;32m      1\u001b[0m \u001b[39m# Plot validation curves for n_estimators\u001b[39;00m\n\u001b[0;32m----> 2\u001b[0m plot_validation_curves(model\u001b[39m=\u001b[39mxgb_mod, \n\u001b[1;32m      3\u001b[0m                        param_range\u001b[39m=\u001b[39m\u001b[39mrange\u001b[39m(\u001b[39m100\u001b[39m, \u001b[39m600\u001b[39m, \u001b[39m100\u001b[39m), \n\u001b[1;32m      4\u001b[0m                        data\u001b[39m=\u001b[39mX_train, \n\u001b[1;32m      5\u001b[0m                        target\u001b[39m=\u001b[39my_train, \n\u001b[1;32m      6\u001b[0m                        param_name\u001b[39m=\u001b[39m\u001b[39m'\u001b[39m\u001b[39mn_estimators\u001b[39m\u001b[39m'\u001b[39m, \n\u001b[1;32m      7\u001b[0m                        scoring\u001b[39m=\u001b[39m\u001b[39m'\u001b[39m\u001b[39maverage_precision\u001b[39m\u001b[39m'\u001b[39m, \n\u001b[1;32m      8\u001b[0m                        cv\u001b[39m=\u001b[39msplits, \n\u001b[1;32m      9\u001b[0m                        ylabel\u001b[39m=\u001b[39m\u001b[39m'\u001b[39m\u001b[39mAUPRC Score\u001b[39m\u001b[39m'\u001b[39m)\n",
      "\u001b[0;31mNameError\u001b[0m: name 'plot_validation_curves' is not defined"
     ]
    }
   ],
   "source": [
    "# Plot validation curves for n_estimators\n",
    "plot_validation_curves(model=xgb_mod, \n",
    "                       param_range=range(100, 600, 100), \n",
    "                       data=X_train, \n",
    "                       target=y_train, \n",
    "                       param_name='n_estimators', \n",
    "                       scoring='average_precision', \n",
    "                       cv=splits, \n",
    "                       ylabel='AUPRC Score')"
   ]
  },
  {
   "cell_type": "code",
   "execution_count": null,
   "id": "4a4751a9-b495-4218-94c3-329c30cce9c1",
   "metadata": {},
   "outputs": [
    {
     "data": {
      "image/png": "[encoded data removed]",
      "text/plain": [
       "<Figure size 640x480 with 1 Axes>"
      ]
     },
     "metadata": {},
     "output_type": "display_data"
    }
   ],
   "source": [
    "# Plot validation curves for learning rate\n",
    "plot_validation_curves(model=xgb_mod, \n",
    "                       param_range=np.arange(0.1, 1.1, 0.1), \n",
    "                       data=X_train, \n",
    "                       target=y_train, \n",
    "                       param_name='learning_rate', \n",
    "                       scoring='average_precision', \n",
    "                       cv=splits, \n",
    "                       ylabel='AUPRC Score')"
   ]
  },
  {
   "cell_type": "code",
   "execution_count": null,
   "id": "8117ed46-6fef-4ac6-b0f6-96abf463342f",
   "metadata": {},
   "outputs": [
    {
     "data": {
      "image/png": "[encoded data removed]",
      "text/plain": [
       "<Figure size 640x480 with 1 Axes>"
      ]
     },
     "metadata": {},
     "output_type": "display_data"
    }
   ],
   "source": [
    "# Plot validation curves for max depth\n",
    "plot_validation_curves(model=xgb_mod, \n",
    "                       param_range=range(2, 15, 1), \n",
    "                       data=X_train, \n",
    "                       target=y_train, \n",
    "                       param_name='max_depth', \n",
    "                       scoring='roc_auc', \n",
    "                       cv=splits, \n",
    "                       ylabel='AUC Score')"
   ]
  },
  {
   "cell_type": "markdown",
   "id": "47fe80e9-ca8b-4100-b5f8-eb4acb0359ba",
   "metadata": {},
   "source": [
    "### Evaluate final model"
   ]
  },
  {
   "cell_type": "code",
   "execution_count": 11,
   "id": "194e398c-23c1-4e48-8b9d-b4923f13ee78",
   "metadata": {},
   "outputs": [
    {
     "name": "stdout",
     "output_type": "stream",
     "text": [
      "    threshold  precision    recall   f-score\n",
      "13       0.13   0.342928  0.784177  0.623679\n",
      "    threshold  precision    recall   f-score\n",
      "12       0.12   0.305609  0.780247  0.595328\n"
     ]
    }
   ],
   "source": [
    "train_pred_probs = grid_search.predict_proba(X_train)[:, 1]\n",
    "test_pred_probs = grid_search.predict_proba(X_test)[:, 1]\n",
    "\n",
    "train_results = U.compute_metrics(train_pred_probs, y_train)\n",
    "test_results = U.compute_metrics(test_pred_probs, y_test)\n",
    "\n",
    "print(train_results)\n",
    "print(test_results)"
   ]
  },
  {
   "cell_type": "code",
   "execution_count": 12,
   "id": "cc9aaf5e",
   "metadata": {},
   "outputs": [
    {
     "data": {
      "text/html": [
       "<div>\n",
       "<style scoped>\n",
       "    .dataframe tbody tr th:only-of-type {\n",
       "        vertical-align: middle;\n",
       "    }\n",
       "\n",
       "    .dataframe tbody tr th {\n",
       "        vertical-align: top;\n",
       "    }\n",
       "\n",
       "    .dataframe thead th {\n",
       "        text-align: right;\n",
       "    }\n",
       "</style>\n",
       "<table border=\"1\" class=\"dataframe\">\n",
       "  <thead>\n",
       "    <tr style=\"text-align: right;\">\n",
       "      <th></th>\n",
       "      <th>threshold</th>\n",
       "      <th>precision</th>\n",
       "      <th>recall</th>\n",
       "      <th>f-score</th>\n",
       "      <th>auprc</th>\n",
       "      <th>model</th>\n",
       "    </tr>\n",
       "    <tr>\n",
       "      <th>data</th>\n",
       "      <th></th>\n",
       "      <th></th>\n",
       "      <th></th>\n",
       "      <th></th>\n",
       "      <th></th>\n",
       "      <th></th>\n",
       "    </tr>\n",
       "  </thead>\n",
       "  <tbody>\n",
       "    <tr>\n",
       "      <th>train</th>\n",
       "      <td>0.13</td>\n",
       "      <td>0.342928</td>\n",
       "      <td>0.784177</td>\n",
       "      <td>0.623679</td>\n",
       "      <td>0.576</td>\n",
       "      <td>XGboost</td>\n",
       "    </tr>\n",
       "    <tr>\n",
       "      <th>test</th>\n",
       "      <td>0.12</td>\n",
       "      <td>0.305609</td>\n",
       "      <td>0.780247</td>\n",
       "      <td>0.595328</td>\n",
       "      <td>0.458</td>\n",
       "      <td>XGboost</td>\n",
       "    </tr>\n",
       "  </tbody>\n",
       "</table>\n",
       "</div>"
      ],
      "text/plain": [
       "       threshold  precision    recall   f-score  auprc    model\n",
       "data                                                           \n",
       "train       0.13   0.342928  0.784177  0.623679  0.576  XGboost\n",
       "test        0.12   0.305609  0.780247  0.595328  0.458  XGboost"
      ]
     },
     "execution_count": 12,
     "metadata": {},
     "output_type": "execute_result"
    }
   ],
   "source": [
    "U.save_metrics({\"train\": train_results, \"test\": test_results},\n",
    "                [train_auprc, test_auprc],\n",
    "                model_name =\"XGboost\",\n",
    "                save = True)"
   ]
  }
 ],
 "metadata": {
  "kernelspec": {
   "display_name": "base",
   "language": "python",
   "name": "python3"
  },
  "language_info": {
   "codemirror_mode": {
    "name": "ipython",
    "version": 3
   },
   "file_extension": ".py",
   "mimetype": "text/x-python",
   "name": "python",
   "nbconvert_exporter": "python",
   "pygments_lexer": "ipython3",
   "version": "3.9.15"
  },
  "vscode": {
   "interpreter": {
    "hash": "e8e217df1a51f16b4118bceccac207465a20dc972e4fca6b2d476b9422120149"
   }
  }
 },
 "nbformat": 4,
 "nbformat_minor": 5
}
