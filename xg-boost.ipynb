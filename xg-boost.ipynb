{
 "cells": [
  {
   "cell_type": "markdown",
   "id": "9fec92f3-7761-4974-8482-ac00fe101217",
   "metadata": {},
   "source": [
    "# XG-Boost"
   ]
  },
  {
   "cell_type": "code",
   "execution_count": 1,
   "id": "b13fcdf3-896f-423b-b9af-96c0ddad6914",
   "metadata": {},
   "outputs": [],
   "source": [
    "import pandas as pd\n",
    "import numpy as np\n",
    "import xgboost as xgb \n",
    "from sklearn.model_selection import GridSearchCV\n",
    "from sklearn.model_selection import KFold\n",
    "from sklearn.model_selection import validation_curve\n",
    "from sklearn.metrics import roc_auc_score\n",
    "import matplotlib.pyplot as plt\n",
    "import warnings\n",
    "warnings.filterwarnings('ignore')"
   ]
  },
  {
   "cell_type": "code",
   "execution_count": 2,
   "id": "ac31f092-d0dd-49d6-b95a-c7c1b9fbc161",
   "metadata": {},
   "outputs": [],
   "source": [
    "lasso_features = ['admissionheight', 'admissionweight', 'dischargeweight' ,\n",
    "                  'icuduration', 'weightdiffafterdischarge', 'intubated', \n",
    "                  'vent', 'dialysis', 'urine', 'wbc', 'temperature',\n",
    "                  'respiratoryrate', 'sodium', 'heartrate', 'meanbp', \n",
    "                  'creatinine', 'glucose', 'bun', 'meanapachescore',\n",
    "                  'meanpredictedicumortality', 'meanpredictediculos',\n",
    "                  'immunosuppression', 'diabetes', 'teachingstatus', \n",
    "                  'minnoninvasivesystolic', 'meannoninvasivesystolic', \n",
    "                  'maxnoninvasivesystolic', 'minnoninvasivediastolic', \n",
    "                  'meannoninvasivediastolic', 'maxnoninvasivediastolic', \n",
    "                  'noninvasivemeanmin', 'noninvasivemeanavg', \n",
    "                  'noninvasivemeanmax', 'age0-9', 'age10-19', 'age20-29',\n",
    "                  'age30-39', 'age40-49', 'age50-59', 'age60-69', 'age>89', \n",
    "                  'gendermale', 'ethnicity_African American', 'ethnicity_Asian',\n",
    "                  'ethnicity_Caucasian', 'ethnicity_Hispanic', \n",
    "                  'ethnicity_Native American', 'ethnicity_Other/Unknown',\n",
    "                  'hospitaladmitsource_Acute Care/Floor', \n",
    "                  'hospitaladmitsource_Chest Pain Center', \n",
    "                  'hospitaladmitsource_Direct Admit', \n",
    "                  'hospitaladmitsource_Emergency Department', \n",
    "                  'hospitaladmitsource_Floor', 'hospitaladmitsource_ICU', \n",
    "                  'hospitaladmitsource_ICU to SDU', \n",
    "                  'hospitaladmitsource_Observation', \n",
    "                  'hospitaladmitsource_Operating Room', \n",
    "                  'hospitaladmitsource_Other Hospital', \n",
    "                  'hospitaladmitsource_Other ICU', \n",
    "                  'hospitaladmitsource_Step-Down Unit (SDU)', \n",
    "                  'unittype_CCU-CTICU', 'unittype_CSICU', 'unittype_CTICU', \n",
    "                  'unittype_Cardiac ICU', 'unittype_MICU', \n",
    "                  'unittype_Med-Surg ICU', 'unittype_Neuro ICU', \n",
    "                  'unitadmitsource_Acute Care/Floor', \n",
    "                  'unitadmitsource_Chest Pain Center', \n",
    "                  'unitadmitsource_Direct Admit', \n",
    "                  'unitadmitsource_Emergency Department', \n",
    "                  'unitadmitsource_Floor', 'unitadmitsource_ICU',\n",
    "                  'unitadmitsource_ICU to SDU', 'unitadmitsource_Observation',\n",
    "                  'unitadmitsource_Operating Room', \n",
    "                  'unitadmitsource_Other Hospital', 'unitadmitsource_Other ICU',\n",
    "                  'unitadmitsource_PACU', 'unitadmitsource_Recovery Room', \n",
    "                  'unitadmitsource_Step-Down Unit (SDU)', \n",
    "                  'numbedscategory_100 - 249', 'numbedscategory_250 - 499',\n",
    "                  'numbedscategory_<100', 'numbedscategory_>= 500', \n",
    "                  'hospitalregion_Midwest', 'hospitalregion_South', \n",
    "                  'dischargehour8-14']"
   ]
  },
  {
   "cell_type": "code",
   "execution_count": 3,
   "id": "22348044-6285-4b1a-b10c-6284f8b92373",
   "metadata": {},
   "outputs": [],
   "source": [
    "# Load data\n",
    "train = pd.read_csv('train.csv')\n",
    "test = pd.read_csv('test.csv')\n",
    "\n",
    "X_train = train.loc[:, lasso_features]\n",
    "X_test = test.loc[:, lasso_features]\n",
    "y_train = train.died\n",
    "y_test = test.died"
   ]
  },
  {
   "cell_type": "code",
   "execution_count": 4,
   "id": "2c6fdff9-68cd-4139-926a-a3ce7074cb3b",
   "metadata": {},
   "outputs": [],
   "source": [
    "# XG-Boost doesn't accept characters such as <, > in feature names\n",
    "X_train.rename(columns={'numbedscategory_<100': 'numbedscategory_lt_100', \n",
    "                        'numbedscategory_>= 500': 'numbedscategory_gte_500'}, \n",
    "               inplace=True)\n",
    "X_test.rename(columns={'numbedscategory_<100': 'numbedscategory_lt_100', \n",
    "                       'numbedscategory_>= 500': 'numbedscategory_gte_500'}, \n",
    "              inplace=True)"
   ]
  },
  {
   "cell_type": "markdown",
   "id": "5a1ec48f-5d4d-432d-8b5a-c1e2140d0f90",
   "metadata": {},
   "source": [
    "### Train baseline XG-Boost with default parameters"
   ]
  },
  {
   "cell_type": "code",
   "execution_count": 5,
   "id": "dc6b5f9e-aaea-44f6-9a4f-04c701202c21",
   "metadata": {},
   "outputs": [
    {
     "name": "stdout",
     "output_type": "stream",
     "text": [
      "1.0\n",
      "0.829\n"
     ]
    }
   ],
   "source": [
    "xgb_mod = xgb.XGBClassifier(random_state=670)\n",
    "xgb_mod.fit(X_train, y_train)\n",
    "train_auc = roc_auc_score(y_train, xgb_mod.predict_proba(X_train)[:, 1])\n",
    "test_auc = roc_auc_score(y_test, xgb_mod.predict_proba(X_test)[:, 1])\n",
    "\n",
    "print(round(train_auc, 3))\n",
    "print(round(test_auc, 3))"
   ]
  },
  {
   "cell_type": "code",
   "execution_count": 8,
   "id": "0dcfd687-8f73-4433-8a30-7c185ab626e1",
   "metadata": {},
   "outputs": [],
   "source": [
    "# Set up k-fold validation set\n",
    "k_folds = KFold(n_splits=5, shuffle=True, random_state=670)\n",
    "splits = list(k_folds.split(X_train, y_train))"
   ]
  },
  {
   "cell_type": "code",
   "execution_count": 16,
   "id": "50abb928-cfac-4c44-be4d-d77af42ccdf4",
   "metadata": {},
   "outputs": [
    {
     "name": "stdout",
     "output_type": "stream",
     "text": [
      "{'learning_rate': 0.1, 'max_depth': 2, 'n_estimators': 500}\n",
      "0.917\n",
      "0.855\n"
     ]
    }
   ],
   "source": [
    "param_grid = {'n_estimators': range(100, 600, 100),\n",
    "              'learning_rate': [0.001, 0.01, 0.1, 1],\n",
    "              'max_depth': [2, 4, 6, 8]}\n",
    "\n",
    "grid_search = GridSearchCV(estimator=xgb_mod,\n",
    "                           param_grid=param_grid,\n",
    "                           scoring='roc_auc',\n",
    "                           cv=splits,\n",
    "                           n_jobs=-1)\n",
    "grid_search.fit(X_train, y_train) \n",
    "\n",
    "# Get best parameters from Grid Search\n",
    "print(grid_search.best_params_)\n",
    "\n",
    "train_auc = grid_search.score(X_train, y_train)\n",
    "test_auc = grid_search.score(X_test, y_test)\n",
    "\n",
    "print(round(train_auc, 3))\n",
    "print(round(test_auc, 3))"
   ]
  },
  {
   "cell_type": "code",
   "execution_count": 12,
   "id": "c896de49-d012-43ad-897c-cf57ccbeced6",
   "metadata": {},
   "outputs": [
    {
     "name": "stdout",
     "output_type": "stream",
     "text": [
      "{'learning_rate': 0.15, 'n_estimators': 400}\n",
      "0.924\n",
      "0.853\n"
     ]
    }
   ],
   "source": [
    "param_grid_2 = {'n_estimators': [400, 500, 600],\n",
    "                'learning_rate': [0.05, 0.1, 0.15]}\n",
    "\n",
    "grid_search_2 = GridSearchCV(estimator=xgb.XGBClassifier(max_depth=2,\n",
    "                                                         random_state=670),\n",
    "                             param_grid=param_grid_2,\n",
    "                             scoring='roc_auc',\n",
    "                             cv=splits,\n",
    "                             n_jobs=-1)\n",
    "grid_search_2.fit(X_train, y_train) \n",
    "\n",
    "# Get best parameters from Grid Search\n",
    "print(grid_search_2.best_params_)\n",
    "\n",
    "train_auc = grid_search_2.score(X_train, y_train)\n",
    "test_auc = grid_search_2.score(X_test, y_test)\n",
    "\n",
    "print(round(train_auc, 3))\n",
    "print(round(test_auc, 3))"
   ]
  }
 ],
 "metadata": {
  "kernelspec": {
   "display_name": "Python 3 (ipykernel)",
   "language": "python",
   "name": "python3"
  },
  "language_info": {
   "codemirror_mode": {
    "name": "ipython",
    "version": 3
   },
   "file_extension": ".py",
   "mimetype": "text/x-python",
   "name": "python",
   "nbconvert_exporter": "python",
   "pygments_lexer": "ipython3",
   "version": "3.9.13"
  }
 },
 "nbformat": 4,
 "nbformat_minor": 5
}
