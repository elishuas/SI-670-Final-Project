{
 "cells": [
  {
   "cell_type": "markdown",
   "id": "e0d09205",
   "metadata": {},
   "source": [
    "# Neural Net Training Workspace\n",
    "*Work produced by Stephen Toner, Fall 2022*"
   ]
  },
  {
   "cell_type": "code",
   "execution_count": 8,
   "id": "7289fc63",
   "metadata": {},
   "outputs": [],
   "source": [
    "import torch\n",
    "import numpy as np\n",
    "import random\n",
    "from sklearn.preprocessing import StandardScaler\n",
    "from sklearn.preprocessing import MinMaxScaler\n",
    "from keras import models\n",
    "from keras import layers\n",
    "from tensorflow.keras.utils import to_categorical\n",
    "import Utils as U\n",
    "\n",
    "from tensorflow.keras.models import load_model\n",
    "import pandas as pd\n",
    "\n",
    "from sklearn.model_selection import train_test_split"
   ]
  },
  {
   "cell_type": "code",
   "execution_count": 9,
   "id": "db17e1a3",
   "metadata": {},
   "outputs": [],
   "source": [
    "data = pd.read_csv(\"timeseries_readyformodel.csv\")\n",
    "\n",
    "y = data['died']\n",
    "X = data.drop(columns = ['died', 'patientunitstayid']).to_numpy().astype('float32')\n",
    "\n",
    "X_train, X_test, y_train, y_test = train_test_split(X, y, \n",
    "                                                    test_size=0.20, \n",
    "                                                    random_state=607)"
   ]
  },
  {
   "cell_type": "code",
   "execution_count": 10,
   "id": "5afad3ff",
   "metadata": {},
   "outputs": [],
   "source": [
    "X_train_scaled = X_train\n",
    "X_test_scaled = X_test\n",
    "\n",
    "y_train_cat = to_categorical(y_train)\n",
    "y_test_cat = to_categorical(y_test)\n",
    "\n"
   ]
  },
  {
   "cell_type": "markdown",
   "id": "ba741e58",
   "metadata": {},
   "source": [
    "params = {'legend.fontsize': 'x-large',\n",
    "        'axes.labelsize': 'x-large',\n",
    "        'axes.titlesize':'x-large',\n",
    "       'xtick.labelsize':'x-large',\n",
    "        'ytick.labelsize':'x-large'}\n",
    "pylab.rcParams.update(params)"
   ]
  },
  {
   "cell_type": "code",
   "execution_count": 31,
   "id": "748137f1",
   "metadata": {},
   "outputs": [],
   "source": [
    "X_test_scaled.shape\n",
    "\n",
    "X_tst_ts = X_test_scaled.reshape((X_test_scaled.shape[0], 1, X_test_scaled.shape[1]))"
   ]
  },
  {
   "cell_type": "code",
   "execution_count": 32,
   "id": "fe4a1eea",
   "metadata": {
    "lines_to_next_cell": 2
   },
   "outputs": [
    {
     "name": "stdout",
     "output_type": "stream",
     "text": [
      "Model: \"sequential\"\n",
      "_________________________________________________________________\n",
      " Layer (type)                Output Shape              Param #   \n",
      "=================================================================\n",
      " lstm (LSTM)                 (None, 100)               54400     \n",
      "                                                                 \n",
      " dense (Dense)               (None, 16)                1616      \n",
      "                                                                 \n",
      " dense_1 (Dense)             (None, 32)                544       \n",
      "                                                                 \n",
      " dense_2 (Dense)             (None, 64)                2112      \n",
      "                                                                 \n",
      " dense_3 (Dense)             (None, 256)               16640     \n",
      "                                                                 \n",
      " dense_4 (Dense)             (None, 2)                 514       \n",
      "                                                                 \n",
      "=================================================================\n",
      "Total params: 75,826\n",
      "Trainable params: 75,826\n",
      "Non-trainable params: 0\n",
      "_________________________________________________________________\n",
      "(None, 1, 35)\n",
      "(None, 100)\n",
      "(None, 16)\n",
      "(None, 32)\n",
      "(None, 64)\n",
      "(None, 256)\n",
      "1569/1569 [==============================] - 1s 594us/step - loss: 1.1583 - auc: 0.8726 - recall: 0.8726 - precision: 0.8726\n"
     ]
    }
   ],
   "source": [
    "model = load_model('LSTM_model/')\n",
    "\n",
    "model.summary()\n",
    "\n",
    "for layer in model.layers:\n",
    "    print(layer.input_shape)\n",
    "results = model.evaluate(X_tst_ts, y_test_cat)\n",
    "# y_pred = model.predict((None, X_test_scaled.shape[0], X_test_scaled.shape[1]))"
   ]
  },
  {
   "cell_type": "code",
   "execution_count": 26,
   "id": "91067825",
   "metadata": {},
   "outputs": [
    {
     "ename": "NameError",
     "evalue": "name 'test_accuracy' is not defined",
     "output_type": "error",
     "traceback": [
      "\u001b[0;31m---------------------------------------------------------------------------\u001b[0m",
      "\u001b[0;31mNameError\u001b[0m                                 Traceback (most recent call last)",
      "Cell \u001b[0;32mIn[26], line 1\u001b[0m\n\u001b[0;32m----> 1\u001b[0m \u001b[39mprint\u001b[39m(\u001b[39mf\u001b[39m\u001b[39m'\u001b[39m\u001b[39mTest Accuracy: \u001b[39m\u001b[39m{\u001b[39;00mtest_accuracy\u001b[39m}\u001b[39;00m\u001b[39m'\u001b[39m)\n\u001b[1;32m      2\u001b[0m eval_metrics \u001b[39m=\u001b[39m U\u001b[39m.\u001b[39mevaluation_metrics(X_train_scaled, y_train_cat, X_test_scaled, y_test_cat)\n",
      "\u001b[0;31mNameError\u001b[0m: name 'test_accuracy' is not defined"
     ]
    }
   ],
   "source": [
    "print(f'Test Accuracy: {test_accuracy}')\n",
    "eval_metrics = U.evaluation_metrics(X_train_scaled, y_train_cat, X_test_scaled, y_test_cat)"
   ]
  },
  {
   "cell_type": "code",
   "execution_count": null,
   "id": "14849b3d",
   "metadata": {},
   "outputs": [],
   "source": [
    "y_pred_prob = net.predict_prob()\n",
    "results = U.compute_metrics(y_pred_prob, y_test)"
   ]
  },
  {
   "cell_type": "code",
   "execution_count": 11,
   "id": "9cdfd9e9",
   "metadata": {},
   "outputs": [],
   "source": [
    "model = load_model('LSTM_model/')"
   ]
  },
  {
   "cell_type": "code",
   "execution_count": 15,
   "id": "94f20bc5",
   "metadata": {},
   "outputs": [],
   "source": [
    "X_tst_ts = X_test_scaled.reshape((X_test_scaled.shape[0], 1, X_test_scaled.shape[1]))"
   ]
  },
  {
   "cell_type": "code",
   "execution_count": 33,
   "id": "53319128",
   "metadata": {},
   "outputs": [
    {
     "name": "stdout",
     "output_type": "stream",
     "text": [
      "1569/1569 [==============================] - 1s 632us/step - loss: 1.1583 - auc: 0.8726 - recall: 0.8726 - precision: 0.8726\n"
     ]
    },
    {
     "data": {
      "text/plain": [
       "[1.1583129167556763,\n",
       " 0.8725689649581909,\n",
       " 0.8725689649581909,\n",
       " 0.8725689649581909]"
      ]
     },
     "execution_count": 33,
     "metadata": {},
     "output_type": "execute_result"
    }
   ],
   "source": [
    "model.evaluate(X_tst_ts, y_test_cat)"
   ]
  },
  {
   "cell_type": "code",
   "execution_count": null,
   "id": "b54aa093",
   "metadata": {},
   "outputs": [],
   "source": []
  }
 ],
 "metadata": {
  "jupytext": {
   "cell_metadata_filter": "-all",
   "encoding": "# -*- coding: utf-8 -*-",
   "main_language": "python",
   "notebook_metadata_filter": "-all"
  },
  "kernelspec": {
   "display_name": "Python 3.8.15",
   "language": "python",
   "name": "python3"
  },
  "language_info": {
   "codemirror_mode": {
    "name": "ipython",
    "version": 3
   },
   "file_extension": ".py",
   "mimetype": "text/x-python",
   "name": "python",
   "nbconvert_exporter": "python",
   "pygments_lexer": "ipython3",
   "version": "3.8.15"
  },
  "vscode": {
   "interpreter": {
    "hash": "40165c056c83275d9736ec999f27a3c7fc84a8d56239485103817be2cfc333e0"
   }
  }
 },
 "nbformat": 4,
 "nbformat_minor": 5
}
