{
 "cells": [
  {
   "cell_type": "markdown",
   "id": "e0d09205",
   "metadata": {},
   "source": [
    "# Neural Net Training Workspace\n",
    "*Work produced by Stephen Toner, Fall 2022*"
   ]
  },
  {
   "cell_type": "code",
   "execution_count": 1,
   "id": "7289fc63",
   "metadata": {},
   "outputs": [
    {
     "name": "stderr",
     "output_type": "stream",
     "text": [
      "/Users/stephentoner/mambaforge/envs/tf_macos/lib/python3.8/site-packages/tqdm/auto.py:22: TqdmWarning: IProgress not found. Please update jupyter and ipywidgets. See https://ipywidgets.readthedocs.io/en/stable/user_install.html\n",
      "  from .autonotebook import tqdm as notebook_tqdm\n"
     ]
    }
   ],
   "source": [
    "import torch\n",
    "import numpy as np\n",
    "import random\n",
    "from sklearn.preprocessing import StandardScaler\n",
    "from sklearn.preprocessing import MinMaxScaler\n",
    "from keras import models\n",
    "from keras import layers\n",
    "from tensorflow.keras.utils import to_categorical\n",
    "import Utils as U\n",
    "\n",
    "from tensorflow.keras.models import load_model\n",
    "import pandas as pd\n",
    "\n",
    "from sklearn.model_selection import train_test_split"
   ]
  },
  {
   "cell_type": "code",
   "execution_count": 2,
   "id": "db17e1a3",
   "metadata": {},
   "outputs": [],
   "source": [
    "paths = U.load_paths()\n",
    "\n",
    "data_dir = paths['data_dir']\n",
    "data = pd.read_csv(data_dir + \"timeseries_readyformodel.csv\")\n",
    "\n",
    "y = data['died']\n",
    "X = data.drop(columns = ['died', 'patientunitstayid']).to_numpy().astype('float32')\n",
    "\n",
    "X_train, X_test, y_train, y_test = train_test_split(X, y, \n",
    "                                                    test_size=0.20, \n",
    "                                                    random_state=607)"
   ]
  },
  {
   "cell_type": "code",
   "execution_count": 3,
   "id": "5afad3ff",
   "metadata": {},
   "outputs": [],
   "source": [
    "X_train_scaled = X_train\n",
    "X_test_scaled = X_test\n",
    "\n",
    "y_train_cat = to_categorical(y_train)\n",
    "y_test_cat = to_categorical(y_test)"
   ]
  },
  {
   "cell_type": "markdown",
   "id": "ba741e58",
   "metadata": {},
   "source": [
    "params = {'legend.fontsize': 'x-large',\n",
    "        'axes.labelsize': 'x-large',\n",
    "        'axes.titlesize':'x-large',\n",
    "       'xtick.labelsize':'x-large',\n",
    "        'ytick.labelsize':'x-large'}\n",
    "pylab.rcParams.update(params)"
   ]
  },
  {
   "cell_type": "code",
   "execution_count": 4,
   "id": "748137f1",
   "metadata": {},
   "outputs": [],
   "source": [
    "X_test_scaled.shape\n",
    "\n",
    "X_tst_ts = U.to_timeseries(X_test_scaled)"
   ]
  },
  {
   "cell_type": "code",
   "execution_count": 5,
   "id": "fe4a1eea",
   "metadata": {
    "lines_to_next_cell": 2
   },
   "outputs": [
    {
     "name": "stdout",
     "output_type": "stream",
     "text": [
      "Model: \"sequential\"\n",
      "_________________________________________________________________\n",
      " Layer (type)                Output Shape              Param #   \n",
      "=================================================================\n",
      " lstm (LSTM)                 (None, 1000)              4144000   \n",
      "                                                                 \n",
      " dense (Dense)               (None, 16)                16016     \n",
      "                                                                 \n",
      " dense_1 (Dense)             (None, 32)                544       \n",
      "                                                                 \n",
      " dense_2 (Dense)             (None, 64)                2112      \n",
      "                                                                 \n",
      " dense_3 (Dense)             (None, 128)               8320      \n",
      "                                                                 \n",
      " dense_4 (Dense)             (None, 256)               33024     \n",
      "                                                                 \n",
      " dense_5 (Dense)             (None, 512)               131584    \n",
      "                                                                 \n",
      " dense_6 (Dense)             (None, 256)               131328    \n",
      "                                                                 \n",
      " dense_7 (Dense)             (None, 2)                 514       \n",
      "                                                                 \n",
      "=================================================================\n",
      "Total params: 4,467,442\n",
      "Trainable params: 4,467,442\n",
      "Non-trainable params: 0\n",
      "_________________________________________________________________\n",
      "(None, 1, 35)\n",
      "(None, 1000)\n",
      "(None, 16)\n",
      "(None, 32)\n",
      "(None, 64)\n",
      "(None, 128)\n",
      "(None, 256)\n",
      "(None, 512)\n",
      "(None, 256)\n"
     ]
    },
    {
     "name": "stderr",
     "output_type": "stream",
     "text": [
      "2022-12-09 13:55:48.414525: W tensorflow/core/platform/profile_utils/cpu_utils.cc:128] Failed to get CPU frequency: 0 Hz\n"
     ]
    },
    {
     "name": "stdout",
     "output_type": "stream",
     "text": [
      "1569/1569 [==============================] - 6s 4ms/step - loss: 1.0389 - auc: 0.8726 - recall: 0.8726 - precision: 0.8726\n"
     ]
    }
   ],
   "source": [
    "model_name = \"LSTM_model/\"\n",
    "\n",
    "model_path = paths['models_path']\n",
    "\n",
    "model = load_model(model_path + model_name)\n",
    "\n",
    "model.summary()\n",
    "\n",
    "for layer in model.layers:\n",
    "    print(layer.input_shape)\n",
    "results = model.evaluate(X_tst_ts, y_test_cat)"
   ]
  },
  {
   "cell_type": "code",
   "execution_count": 6,
   "id": "91067825",
   "metadata": {},
   "outputs": [
    {
     "name": "stdout",
     "output_type": "stream",
     "text": [
      "Test Accuracy: 0.8725689649581909\n"
     ]
    },
    {
     "ename": "TypeError",
     "evalue": "evaluation_metrics() missing 1 required positional argument: 'y_test'",
     "output_type": "error",
     "traceback": [
      "\u001b[0;31m---------------------------------------------------------------------------\u001b[0m",
      "\u001b[0;31mTypeError\u001b[0m                                 Traceback (most recent call last)",
      "Cell \u001b[0;32mIn[6], line 4\u001b[0m\n\u001b[1;32m      1\u001b[0m test_accuracy \u001b[39m=\u001b[39m results[\u001b[39m1\u001b[39m]\n\u001b[1;32m      3\u001b[0m \u001b[39mprint\u001b[39m(\u001b[39mf\u001b[39m\u001b[39m'\u001b[39m\u001b[39mTest Accuracy: \u001b[39m\u001b[39m{\u001b[39;00mtest_accuracy\u001b[39m}\u001b[39;00m\u001b[39m'\u001b[39m)\n\u001b[0;32m----> 4\u001b[0m eval_metrics \u001b[39m=\u001b[39m U\u001b[39m.\u001b[39;49mevaluation_metrics(X_train_scaled, y_train_cat, X_test_scaled, y_test_cat)\n",
      "\u001b[0;31mTypeError\u001b[0m: evaluation_metrics() missing 1 required positional argument: 'y_test'"
     ]
    }
   ],
   "source": [
    "test_accuracy = results[1]\n",
    "\n",
    "print(f'Test Accuracy: {test_accuracy}')\n",
    "# eval_metrics = U.evaluation_metrics(X_train_scaled, y_train_cat, X_test_scaled, y_test_cat)"
   ]
  },
  {
   "cell_type": "code",
   "execution_count": null,
   "id": "14849b3d",
   "metadata": {},
   "outputs": [],
   "source": [
    "y_pred_prob = net.predict_prob()\n",
    "results = U.compute_metrics(y_pred_prob, y_test)"
   ]
  },
  {
   "cell_type": "code",
   "execution_count": 11,
   "id": "9cdfd9e9",
   "metadata": {},
   "outputs": [],
   "source": [
    "model = load_model('LSTM_model/')"
   ]
  },
  {
   "cell_type": "code",
   "execution_count": 15,
   "id": "94f20bc5",
   "metadata": {},
   "outputs": [],
   "source": [
    "X_tst_ts = X_test_scaled.reshape((X_test_scaled.shape[0], 1, X_test_scaled.shape[1]))"
   ]
  },
  {
   "cell_type": "code",
   "execution_count": 33,
   "id": "53319128",
   "metadata": {},
   "outputs": [
    {
     "name": "stdout",
     "output_type": "stream",
     "text": [
      "1569/1569 [==============================] - 1s 632us/step - loss: 1.1583 - auc: 0.8726 - recall: 0.8726 - precision: 0.8726\n"
     ]
    },
    {
     "data": {
      "text/plain": [
       "[1.1583129167556763,\n",
       " 0.8725689649581909,\n",
       " 0.8725689649581909,\n",
       " 0.8725689649581909]"
      ]
     },
     "execution_count": 33,
     "metadata": {},
     "output_type": "execute_result"
    }
   ],
   "source": [
    "model.evaluate(X_tst_ts, y_test_cat)"
   ]
  },
  {
   "cell_type": "code",
   "execution_count": 8,
   "id": "b54aa093",
   "metadata": {},
   "outputs": [
    {
     "data": {
      "text/plain": [
       "[1.0388562679290771,\n",
       " 0.8725689649581909,\n",
       " 0.8725689649581909,\n",
       " 0.8725689649581909]"
      ]
     },
     "execution_count": 8,
     "metadata": {},
     "output_type": "execute_result"
    }
   ],
   "source": [
    "results"
   ]
  }
 ],
 "metadata": {
  "jupytext": {
   "cell_metadata_filter": "-all",
   "encoding": "# -*- coding: utf-8 -*-",
   "main_language": "python",
   "notebook_metadata_filter": "-all"
  },
  "kernelspec": {
   "display_name": "Python 3.8.15",
   "language": "python",
   "name": "python3"
  },
  "language_info": {
   "codemirror_mode": {
    "name": "ipython",
    "version": 3
   },
   "file_extension": ".py",
   "mimetype": "text/x-python",
   "name": "python",
   "nbconvert_exporter": "python",
   "pygments_lexer": "ipython3",
   "version": "3.8.15"
  },
  "vscode": {
   "interpreter": {
    "hash": "40165c056c83275d9736ec999f27a3c7fc84a8d56239485103817be2cfc333e0"
   }
  }
 },
 "nbformat": 4,
 "nbformat_minor": 5
}
