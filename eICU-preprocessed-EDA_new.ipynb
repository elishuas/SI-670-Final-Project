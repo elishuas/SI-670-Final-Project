{
 "cells": [
  {
   "cell_type": "markdown",
   "id": "31be14b6-0945-4a82-aced-b4f899713b03",
   "metadata": {},
   "source": [
    "# EDA\n",
    "\n",
    "Preprocessed Dataset"
   ]
  },
  {
   "cell_type": "code",
   "execution_count": 41,
   "id": "256048bf-6627-48d1-bad7-e065c5523e06",
   "metadata": {},
   "outputs": [],
   "source": [
    "import pandas as pd\n",
    "import numpy as np\n",
    "import random\n",
    "import matplotlib.pyplot as plt\n",
    "from sklearn.impute import SimpleImputer\n",
    "from sklearn.model_selection import train_test_split\n",
    "import Utils as U"
   ]
  },
  {
   "cell_type": "code",
   "execution_count": 42,
   "id": "09e83e84-9cd9-4729-aacb-14a0655c5d84",
   "metadata": {},
   "outputs": [],
   "source": [
    "# Load aggregated eICU patient table\n",
    "\n",
    "paths = U.load_paths()\n",
    "\n",
    "data_dir = paths['data_dir']\n",
    "flat = pd.read_csv(data_dir + 'preprocessed_flat.csv')\n",
    "\n",
    "time_series = pd.read_csv(data_dir + 'preprocessed_timeseries.csv')\n",
    "\n",
    "patient = pd.read_csv('raw_agg_patient_table.csv')\n",
    "\n",
    "flat.head()\n",
    "\n",
    "ts_data = pd.merge(time_series, patient, how = 'left', left_on = 'patient', right_on = 'patientunitstayid').dropna()\n",
    "\n",
    "ts_data.to_csv(data_dir + \"new_timeseries_readyformodel.csv\", index= False)"
   ]
  },
  {
   "cell_type": "code",
   "execution_count": 43,
   "id": "f4d8f6d1",
   "metadata": {},
   "outputs": [],
   "source": [
    "patient['patientunitstayid'] = patient['patientunitstayid'].astype(int)"
   ]
  },
  {
   "cell_type": "code",
   "execution_count": null,
   "id": "4de3bdd9",
   "metadata": {},
   "outputs": [],
   "source": []
  },
  {
   "cell_type": "code",
   "execution_count": 44,
   "id": "cebfd87d",
   "metadata": {},
   "outputs": [
    {
     "data": {
      "text/html": [
       "<div>\n",
       "<style scoped>\n",
       "    .dataframe tbody tr th:only-of-type {\n",
       "        vertical-align: middle;\n",
       "    }\n",
       "\n",
       "    .dataframe tbody tr th {\n",
       "        vertical-align: top;\n",
       "    }\n",
       "\n",
       "    .dataframe thead th {\n",
       "        text-align: right;\n",
       "    }\n",
       "</style>\n",
       "<table border=\"1\" class=\"dataframe\">\n",
       "  <thead>\n",
       "    <tr style=\"text-align: right;\">\n",
       "      <th></th>\n",
       "      <th>patient</th>\n",
       "      <th>time</th>\n",
       "      <th>FiO2</th>\n",
       "      <th>bedside glucose</th>\n",
       "      <th>cvp</th>\n",
       "      <th>heartrate</th>\n",
       "      <th>noninvasivediastolic</th>\n",
       "      <th>noninvasivemean</th>\n",
       "      <th>noninvasivesystolic</th>\n",
       "      <th>respiration</th>\n",
       "      <th>...</th>\n",
       "      <th>respiration_mask</th>\n",
       "      <th>sao2_mask</th>\n",
       "      <th>st1_mask</th>\n",
       "      <th>st2_mask</th>\n",
       "      <th>st3_mask</th>\n",
       "      <th>systemicdiastolic_mask</th>\n",
       "      <th>systemicmean_mask</th>\n",
       "      <th>systemicsystolic_mask</th>\n",
       "      <th>temperature_mask</th>\n",
       "      <th>hour</th>\n",
       "    </tr>\n",
       "  </thead>\n",
       "  <tbody>\n",
       "    <tr>\n",
       "      <th>0</th>\n",
       "      <td>141168</td>\n",
       "      <td>1</td>\n",
       "      <td>0.0</td>\n",
       "      <td>0.0</td>\n",
       "      <td>0.0</td>\n",
       "      <td>0.694915</td>\n",
       "      <td>0.000000</td>\n",
       "      <td>0.000000</td>\n",
       "      <td>0.000000</td>\n",
       "      <td>0.0</td>\n",
       "      <td>...</td>\n",
       "      <td>0.0</td>\n",
       "      <td>1.00</td>\n",
       "      <td>0.0</td>\n",
       "      <td>0.0</td>\n",
       "      <td>0.0</td>\n",
       "      <td>0.0</td>\n",
       "      <td>0.0</td>\n",
       "      <td>0.0</td>\n",
       "      <td>0.0</td>\n",
       "      <td>0.695652</td>\n",
       "    </tr>\n",
       "    <tr>\n",
       "      <th>1</th>\n",
       "      <td>141168</td>\n",
       "      <td>2</td>\n",
       "      <td>0.0</td>\n",
       "      <td>0.0</td>\n",
       "      <td>0.0</td>\n",
       "      <td>0.668079</td>\n",
       "      <td>0.244681</td>\n",
       "      <td>0.234513</td>\n",
       "      <td>0.156442</td>\n",
       "      <td>0.0</td>\n",
       "      <td>...</td>\n",
       "      <td>0.0</td>\n",
       "      <td>0.75</td>\n",
       "      <td>0.0</td>\n",
       "      <td>0.0</td>\n",
       "      <td>0.0</td>\n",
       "      <td>0.0</td>\n",
       "      <td>0.0</td>\n",
       "      <td>0.0</td>\n",
       "      <td>0.0</td>\n",
       "      <td>0.739130</td>\n",
       "    </tr>\n",
       "    <tr>\n",
       "      <th>2</th>\n",
       "      <td>141168</td>\n",
       "      <td>3</td>\n",
       "      <td>0.0</td>\n",
       "      <td>0.0</td>\n",
       "      <td>0.0</td>\n",
       "      <td>0.644068</td>\n",
       "      <td>0.244681</td>\n",
       "      <td>0.234513</td>\n",
       "      <td>0.156442</td>\n",
       "      <td>0.0</td>\n",
       "      <td>...</td>\n",
       "      <td>0.0</td>\n",
       "      <td>1.00</td>\n",
       "      <td>0.0</td>\n",
       "      <td>0.0</td>\n",
       "      <td>0.0</td>\n",
       "      <td>0.0</td>\n",
       "      <td>0.0</td>\n",
       "      <td>0.0</td>\n",
       "      <td>0.0</td>\n",
       "      <td>0.782609</td>\n",
       "    </tr>\n",
       "    <tr>\n",
       "      <th>3</th>\n",
       "      <td>141168</td>\n",
       "      <td>4</td>\n",
       "      <td>0.0</td>\n",
       "      <td>0.0</td>\n",
       "      <td>0.0</td>\n",
       "      <td>0.634181</td>\n",
       "      <td>0.244681</td>\n",
       "      <td>0.234513</td>\n",
       "      <td>0.156442</td>\n",
       "      <td>0.0</td>\n",
       "      <td>...</td>\n",
       "      <td>0.0</td>\n",
       "      <td>1.00</td>\n",
       "      <td>0.0</td>\n",
       "      <td>0.0</td>\n",
       "      <td>0.0</td>\n",
       "      <td>0.0</td>\n",
       "      <td>0.0</td>\n",
       "      <td>0.0</td>\n",
       "      <td>0.0</td>\n",
       "      <td>0.826087</td>\n",
       "    </tr>\n",
       "    <tr>\n",
       "      <th>4</th>\n",
       "      <td>141168</td>\n",
       "      <td>5</td>\n",
       "      <td>0.0</td>\n",
       "      <td>0.0</td>\n",
       "      <td>0.0</td>\n",
       "      <td>0.641243</td>\n",
       "      <td>0.244681</td>\n",
       "      <td>0.212389</td>\n",
       "      <td>0.156442</td>\n",
       "      <td>0.0</td>\n",
       "      <td>...</td>\n",
       "      <td>0.0</td>\n",
       "      <td>1.00</td>\n",
       "      <td>0.0</td>\n",
       "      <td>0.0</td>\n",
       "      <td>0.0</td>\n",
       "      <td>0.0</td>\n",
       "      <td>0.0</td>\n",
       "      <td>0.0</td>\n",
       "      <td>0.0</td>\n",
       "      <td>0.869565</td>\n",
       "    </tr>\n",
       "  </tbody>\n",
       "</table>\n",
       "<p>5 rows × 35 columns</p>\n",
       "</div>"
      ],
      "text/plain": [
       "   patient  time  FiO2  bedside glucose  cvp  heartrate  noninvasivediastolic  \\\n",
       "0   141168     1   0.0              0.0  0.0   0.694915              0.000000   \n",
       "1   141168     2   0.0              0.0  0.0   0.668079              0.244681   \n",
       "2   141168     3   0.0              0.0  0.0   0.644068              0.244681   \n",
       "3   141168     4   0.0              0.0  0.0   0.634181              0.244681   \n",
       "4   141168     5   0.0              0.0  0.0   0.641243              0.244681   \n",
       "\n",
       "   noninvasivemean  noninvasivesystolic  respiration  ...  respiration_mask  \\\n",
       "0         0.000000             0.000000          0.0  ...               0.0   \n",
       "1         0.234513             0.156442          0.0  ...               0.0   \n",
       "2         0.234513             0.156442          0.0  ...               0.0   \n",
       "3         0.234513             0.156442          0.0  ...               0.0   \n",
       "4         0.212389             0.156442          0.0  ...               0.0   \n",
       "\n",
       "   sao2_mask  st1_mask  st2_mask  st3_mask  systemicdiastolic_mask  \\\n",
       "0       1.00       0.0       0.0       0.0                     0.0   \n",
       "1       0.75       0.0       0.0       0.0                     0.0   \n",
       "2       1.00       0.0       0.0       0.0                     0.0   \n",
       "3       1.00       0.0       0.0       0.0                     0.0   \n",
       "4       1.00       0.0       0.0       0.0                     0.0   \n",
       "\n",
       "   systemicmean_mask  systemicsystolic_mask  temperature_mask      hour  \n",
       "0                0.0                    0.0               0.0  0.695652  \n",
       "1                0.0                    0.0               0.0  0.739130  \n",
       "2                0.0                    0.0               0.0  0.782609  \n",
       "3                0.0                    0.0               0.0  0.826087  \n",
       "4                0.0                    0.0               0.0  0.869565  \n",
       "\n",
       "[5 rows x 35 columns]"
      ]
     },
     "execution_count": 44,
     "metadata": {},
     "output_type": "execute_result"
    }
   ],
   "source": [
    "time_series.head()"
   ]
  },
  {
   "cell_type": "code",
   "execution_count": 45,
   "id": "cb2ad83c-1819-4054-a21d-a437bc2b50f5",
   "metadata": {},
   "outputs": [],
   "source": [
    "data = pd.merge(time_series, flat.drop(columns = 'age'), how = 'left', left_on = 'patient', right_on = 'patient')"
   ]
  },
  {
   "cell_type": "code",
   "execution_count": 46,
   "id": "bbfcef95",
   "metadata": {},
   "outputs": [],
   "source": [
    "dup_cols = [c for c in patient.columns if c in data.columns]"
   ]
  },
  {
   "cell_type": "code",
   "execution_count": 47,
   "id": "5d2fe42f",
   "metadata": {},
   "outputs": [],
   "source": [
    "categorical_cols = ['gender', 'age', 'ethnicity', 'apacheadmissiondx', \n",
    "                    'hospitaladmitsource', 'died','unittype', 'unitadmitsource',\n",
    "                    'unitstaytype', 'intubated','aids', 'vent', 'dialysis',\n",
    "                    'lymphoma', 'immunosuppression', 'diabetes', \n",
    "                    'numbedscategory', 'teachingstatus', 'hospitalregion']\n",
    "\n",
    "for col in categorical_cols:\n",
    "    patient[col] = patient[col].astype('category')"
   ]
  },
  {
   "cell_type": "code",
   "execution_count": 48,
   "id": "d6c00641",
   "metadata": {},
   "outputs": [],
   "source": [
    "data = pd.merge(data, patient.drop(columns = dup_cols), how = 'left', left_on = 'patient', right_on = 'patientunitstayid')"
   ]
  },
  {
   "cell_type": "code",
   "execution_count": null,
   "id": "f0ce011a",
   "metadata": {},
   "outputs": [],
   "source": []
  },
  {
   "cell_type": "code",
   "execution_count": 49,
   "id": "b650c80a",
   "metadata": {},
   "outputs": [],
   "source": [
    "# drop_cols = ['']\n",
    "\n",
    "# data.to_csv(data_dir + \"preprocessed_total.csv\")"
   ]
  },
  {
   "cell_type": "code",
   "execution_count": 50,
   "id": "0783346f",
   "metadata": {},
   "outputs": [],
   "source": [
    "# test = data.dropna()\n",
    "\n"
   ]
  },
  {
   "cell_type": "code",
   "execution_count": 51,
   "id": "60734dd2",
   "metadata": {},
   "outputs": [],
   "source": [
    "# test.died.describe()\n",
    "\n",
    "# test.to_csv(data_dir + 'clean_preprocessed_total.csv', index= False)\n",
    "\n",
    "# patient = test"
   ]
  },
  {
   "cell_type": "markdown",
   "id": "9df1308c-dcd2-4587-bd46-066311982a38",
   "metadata": {},
   "source": [
    "### Distribution of numeric variables"
   ]
  },
  {
   "cell_type": "code",
   "execution_count": 52,
   "id": "310e8ece-eead-442d-a89f-b7b1a7582556",
   "metadata": {},
   "outputs": [],
   "source": [
    "# patient_num_vars = data.select_dtypes(include=np.number)\n",
    "# num_vars_to_exclude = ['patientunitstayid', 'patienthealthsystemstayid', \n",
    "#                        'wardid']\n",
    "# num_cols_to_keep = [col for col in patient_num_vars.columns if \n",
    "#                     col not in(num_vars_to_exclude)]\n",
    "# patient_num_vars = patient_num_vars.loc[:, num_cols_to_keep]"
   ]
  },
  {
   "cell_type": "code",
   "execution_count": 53,
   "id": "1ae5b76a-20af-47f9-a3f5-97d9c6c7f235",
   "metadata": {},
   "outputs": [],
   "source": [
    "# pd.set_option('display.max_columns', None)\n",
    "# patient_num_vars.describe()"
   ]
  },
  {
   "cell_type": "code",
   "execution_count": null,
   "id": "413e0310",
   "metadata": {},
   "outputs": [],
   "source": []
  },
  {
   "cell_type": "markdown",
   "id": "5f41d1ab-29bb-4032-a31a-cde0bd53dd4f",
   "metadata": {},
   "source": [
    "There are several variables related to the APACHE score that have a minimum value of -1. We assume that these values are missing so we will recode these as null."
   ]
  },
  {
   "cell_type": "code",
   "execution_count": 54,
   "id": "a88f2bb7-d71d-4360-b338-134f0662bf19",
   "metadata": {},
   "outputs": [],
   "source": [
    "cols_to_recode = ['urine', 'wbc', 'temperature', 'respiratoryrate', 'sodium',\n",
    "                  'heartrate', 'meanbp', 'ph', 'creatinine', 'albumin', \n",
    "                  'glucose', 'bilirubin', 'fio2', 'pao2', 'pco2', 'bun', \n",
    "                  'meanapachescore', 'meanpredictedicumortality', \n",
    "                  'meanpredictediculos']\n",
    "\n",
    "for col in cols_to_recode: \n",
    "    data.loc[data[col] == -1, col] = np.nan"
   ]
  },
  {
   "cell_type": "markdown",
   "id": "6317ef18-26e6-4816-805a-6a6585cf1296",
   "metadata": {},
   "source": [
    "### Distribution of categorical features"
   ]
  },
  {
   "cell_type": "code",
   "execution_count": 55,
   "id": "1401244e-5eae-42d6-9f96-592116215a02",
   "metadata": {},
   "outputs": [],
   "source": [
    "# Define function to get categorical percentages for categorical variables\n",
    "def get_categorical_percentages(df):\n",
    "    \"\"\"\n",
    "    This function computes the percentages of categories for each categorical\n",
    "    variable in the data.\n",
    "    \n",
    "    :param df: data\n",
    "    :type df: pandas dataframe\n",
    "    \n",
    "    :return: prints each variable with their categories and respective \n",
    "    proportions\n",
    "    \"\"\"\n",
    "    cat_df = df.select_dtypes(include='category')\n",
    "    for var in cat_df.columns:\n",
    "        perc = df[var].value_counts(normalize=True)\n",
    "        print(var)\n",
    "        print(perc)"
   ]
  },
  {
   "cell_type": "code",
   "execution_count": 56,
   "id": "c9ebd0fb",
   "metadata": {},
   "outputs": [],
   "source": [
    "data.age = data.age.astype('category')"
   ]
  },
  {
   "cell_type": "code",
   "execution_count": 57,
   "id": "bd8b2182-0caa-406e-8e68-1290fdd4c813",
   "metadata": {},
   "outputs": [],
   "source": [
    "# Recode age, teaching status and gender variables\n",
    "data.age = data.age.cat.rename_categories({'> 89': 90})\n",
    "data.age = pd.to_numeric(data.age, errors='coerce')\n",
    "\n",
    "data['age0-9'] = np.nan\n",
    "data.loc[(data.age >= 0) & (data.age <= 9), 'age0-9'] = 1\n",
    "data.loc[(data.age > 9), 'age0-9'] = 0\n",
    "data['age0-9'] = data['age0-9'].astype('category')\n",
    "\n",
    "data['age10-19'] = np.nan\n",
    "data.loc[(data.age >= 10) & (data.age <= 19), 'age10-19'] = 1\n",
    "data.loc[(data.age > 19), 'age10-19'] = 0\n",
    "data['age10-19'] = data['age10-19'].astype('category')\n",
    "\n",
    "data['age20-29'] = np.nan\n",
    "data.loc[(data.age >= 20) & (data.age <= 29), 'age20-29'] = 1\n",
    "data.loc[(data.age > 29), 'age20-29'] = 0\n",
    "data['age20-29'] = data['age20-29'].astype('category')\n",
    "\n",
    "data['age30-39'] = np.nan\n",
    "data.loc[(data.age >= 30) & (data.age <= 39), 'age30-39'] = 1\n",
    "data.loc[(data.age > 39), 'age30-39'] = 0\n",
    "data['age30-39'] = data['age30-39'].astype('category')\n",
    "\n",
    "data['age40-49'] = np.nan\n",
    "data.loc[(data.age >= 40) & (data.age <= 49), 'age40-49'] = 1\n",
    "data.loc[(data.age > 49), 'age40-49'] = 0\n",
    "data['age40-49'] = data['age40-49'].astype('category')\n",
    "\n",
    "data['age50-59'] = np.nan\n",
    "data.loc[(data.age >= 50) & (data.age <= 59), 'age50-59'] = 1\n",
    "data.loc[(data.age > 59), 'age50-59'] = 0\n",
    "data['age50-59'] = data['age50-59'].astype('category')\n",
    "\n",
    "data['age60-69'] = np.nan\n",
    "data.loc[(data.age >= 60) & (data.age <= 69), 'age60-69'] = 1\n",
    "data.loc[(data.age > 69), 'age60-69'] = 0\n",
    "data['age60-69'] = data['age60-69'].astype('category')\n",
    "\n",
    "data['age70-79'] = np.nan\n",
    "data.loc[(data.age >= 70) & (data.age <= 79), 'age70-79'] = 1\n",
    "data.loc[(data.age > 79), 'age70-79'] = 0\n",
    "data['age70-79'] = data['age70-79'].astype('category')\n",
    "\n",
    "data['age80-89'] = np.nan\n",
    "data.loc[(data.age >= 80) & (data.age <= 89), 'age80-89'] = 1\n",
    "data.loc[(data.age > 89), 'age80-89'] = 0\n",
    "data['age80-89'] = data['age80-89'].astype('category')\n",
    "\n",
    "data['age>89'] = np.nan\n",
    "data.loc[(data.age > 89), 'age>89'] = 1\n",
    "data.loc[(data.age <= 89), 'age>89'] = 0\n",
    "data['age>89'] = data['age>89'].astype('category')\n",
    "data.drop(columns='age', inplace=True)\n",
    "\n",
    "data.teachingstatus = np.where(data.teachingstatus == 't', 1, 0)\n",
    "data.teachingstatus = data.teachingstatus.astype('category')\n",
    "\n",
    "data['gendermale'] = np.nan\n",
    "data.loc[data.gender == 'Male', 'gendermale'] = 1\n",
    "data.loc[data.gender == 'Female', 'gendermale'] = 0\n",
    "data.gendermale = data.gendermale.astype('category')\n",
    "data.drop(columns='gender', inplace=True)"
   ]
  },
  {
   "cell_type": "code",
   "execution_count": 58,
   "id": "244ced2a-bc4d-4cd0-b3be-911a669165cf",
   "metadata": {},
   "outputs": [
    {
     "name": "stdout",
     "output_type": "stream",
     "text": [
      "hospitaladmitsource\n",
      "Emergency Department    0.508096\n",
      "Floor                   0.211850\n",
      "Operating Room          0.076178\n",
      "Direct Admit            0.075074\n",
      "Step-Down Unit (SDU)    0.033734\n",
      "Acute Care/Floor        0.031771\n",
      "Recovery Room           0.027478\n",
      "Other Hospital          0.022571\n",
      "PACU                    0.007360\n",
      "Other ICU               0.003557\n",
      "Chest Pain Center       0.001104\n",
      "ICU to SDU              0.000736\n",
      "ICU                     0.000245\n",
      "Observation             0.000245\n",
      "Other                   0.000000\n",
      "Name: hospitaladmitsource, dtype: float64\n",
      "died\n",
      "0.0    0.869632\n",
      "1.0    0.130368\n",
      "Name: died, dtype: float64\n",
      "aids\n",
      "0.0    0.998087\n",
      "1.0    0.001913\n",
      "Name: aids, dtype: float64\n",
      "lymphoma\n",
      "0.0    0.994739\n",
      "1.0    0.005261\n",
      "Name: lymphoma, dtype: float64\n",
      "immunosuppression\n",
      "0.0    0.961645\n",
      "1.0    0.038355\n",
      "Name: immunosuppression, dtype: float64\n",
      "diabetes\n",
      "0.0    0.816356\n",
      "1.0    0.183644\n",
      "Name: diabetes, dtype: float64\n",
      "numbedscategory\n",
      ">= 500       0.425620\n",
      "250 - 499    0.251837\n",
      "100 - 249    0.250559\n",
      "<100         0.071984\n",
      "Name: numbedscategory, dtype: float64\n",
      "teachingstatus\n",
      "0    0.96635\n",
      "1    0.03365\n",
      "Name: teachingstatus, dtype: float64\n",
      "hospitalregion\n",
      "South        0.411659\n",
      "Midwest      0.338814\n",
      "West         0.145092\n",
      "Northeast    0.104434\n",
      "Name: hospitalregion, dtype: float64\n",
      "age0-9\n",
      "0.0    0.999904\n",
      "1.0    0.000096\n",
      "Name: age0-9, dtype: float64\n",
      "age10-19\n",
      "0.0    0.995408\n",
      "1.0    0.004592\n",
      "Name: age10-19, dtype: float64\n",
      "age20-29\n",
      "0.0    0.968284\n",
      "1.0    0.031716\n",
      "Name: age20-29, dtype: float64\n",
      "age30-39\n",
      "0.0    0.956129\n",
      "1.0    0.043871\n",
      "Name: age30-39, dtype: float64\n",
      "age40-49\n",
      "0.0    0.909063\n",
      "1.0    0.090937\n",
      "Name: age40-49, dtype: float64\n",
      "age50-59\n",
      "0.0    0.784173\n",
      "1.0    0.215827\n",
      "Name: age50-59, dtype: float64\n",
      "age60-69\n",
      "0.0    0.634775\n",
      "1.0    0.365225\n",
      "Name: age60-69, dtype: float64\n",
      "age70-79\n",
      "1.0    0.557238\n",
      "0.0    0.442762\n",
      "Name: age70-79, dtype: float64\n",
      "age80-89\n",
      "1.0    0.809326\n",
      "0.0    0.190674\n",
      "Name: age80-89, dtype: float64\n",
      "age>89\n",
      "0.0    0.964798\n",
      "1.0    0.035202\n",
      "Name: age>89, dtype: float64\n",
      "gendermale\n",
      "1.0    0.544616\n",
      "0.0    0.455384\n",
      "Name: gendermale, dtype: float64\n"
     ]
    }
   ],
   "source": [
    "get_categorical_percentages(data)"
   ]
  },
  {
   "cell_type": "markdown",
   "id": "af5027fb-5354-47e2-81b1-de4b23657261",
   "metadata": {},
   "source": [
    "There are a few features with highly skewed distributions towards one category over the other (99% vs 1%) including `aids` and `lymphoma`. We will drop these features,`apacheadmissiondx` given that there are a lot of categories for this feature, and `unitstaytype` since it is similar to the `hospitaladmitsource` variable."
   ]
  },
  {
   "cell_type": "code",
   "execution_count": 59,
   "id": "ef586b17-6ce7-481b-9254-28457b326bf7",
   "metadata": {},
   "outputs": [],
   "source": [
    "data.drop(columns=['aids', 'lymphoma', 'unitstaytype'], inplace=True)"
   ]
  },
  {
   "cell_type": "code",
   "execution_count": 60,
   "id": "4053ed01-3fe3-4e8b-a1f4-f30db6cc0180",
   "metadata": {},
   "outputs": [],
   "source": [
    "# One hot encode categorical variables\n",
    "categorical_df = data.select_dtypes(include='category')\n",
    "cols_to_encode = [col for col in categorical_df.columns \n",
    "                  if categorical_df[col].nunique() > 2]\n",
    "ind_vars = pd.get_dummies(categorical_df.loc[:, cols_to_encode])\n",
    "ind_vars = ind_vars.apply(lambda x: x.astype('category'))\n",
    "\n",
    "# Remove hospital region from list of columns to drop because it will be used \n",
    "# for stratified sampling later\n",
    "cols_to_encode.remove('hospitalregion')\n",
    "\n",
    "data = data.drop(columns=cols_to_encode)\n",
    "data = pd.concat([data, ind_vars], axis=1)"
   ]
  },
  {
   "cell_type": "markdown",
   "id": "29c5a015-df09-4dc0-9702-8c407d0500e8",
   "metadata": {},
   "source": [
    "### Visualize numeric variables by target"
   ]
  },
  {
   "cell_type": "code",
   "execution_count": 61,
   "id": "505928a3-619e-470e-a49c-020a80b84d5a",
   "metadata": {},
   "outputs": [],
   "source": [
    "# num_df = data.select_dtypes(include=np.number)\n",
    "# num_vars_to_exclude = ['patientunitstayid', 'patienthealthsystemstayid', \n",
    "#                        'wardid', 'hospitalid']\n",
    "# num_cols_to_keep = [col for col in num_df.columns if \n",
    "#                     col not in(num_vars_to_exclude)]\n",
    "# num_df = num_df.loc[:, num_cols_to_keep]\n",
    "# num_df['died'] = data['died']\n",
    "\n",
    "# fig=plt.figure(figsize=(15,70))\n",
    "# variables = num_df.columns.drop('died')\n",
    "# for i, var in enumerate(variables):\n",
    "#     ax=fig.add_subplot(35, 4, i+1)\n",
    "#     ax=plt.gca()\n",
    "#     num_df.boxplot(column=var,\n",
    "#                    by='died', \n",
    "#                    grid=False, \n",
    "#                    ax=ax)\n",
    "#     ax.set(ylabel=var)\n",
    "#     ax.set_title(var)\n",
    "# fig.suptitle('')\n",
    "# fig.tight_layout()\n",
    "# plt.show()\n"
   ]
  },
  {
   "cell_type": "markdown",
   "id": "33b1ab95-91c9-4f54-9a44-5118fbed44e1",
   "metadata": {},
   "source": [
    "### Distribution of categorical variables by target"
   ]
  },
  {
   "cell_type": "code",
   "execution_count": 62,
   "id": "f466db84-a3e5-4ce2-b5b7-5aa202052a16",
   "metadata": {},
   "outputs": [
    {
     "name": "stdout",
     "output_type": "stream",
     "text": [
      "died                    0.0       1.0\n",
      "immunosuppression                    \n",
      "0.0                0.964914  0.939839\n",
      "1.0                0.035086  0.060161 \n",
      "\n",
      "died           0.0       1.0\n",
      "diabetes                    \n",
      "0.0       0.814342  0.829787\n",
      "1.0       0.185658  0.170213 \n",
      "\n",
      "died                 0.0      1.0\n",
      "teachingstatus                   \n",
      "0               0.714144  0.70653\n",
      "1               0.285856  0.29347 \n",
      "\n",
      "died                 0.0       1.0\n",
      "hospitalregion                    \n",
      "Midwest         0.348394  0.275285\n",
      "Northeast       0.101720  0.122433\n",
      "South           0.404472  0.459316\n",
      "West            0.145413  0.142966 \n",
      "\n",
      "died        0.0  1.0\n",
      "age0-9              \n",
      "0.0     0.99989  1.0\n",
      "1.0     0.00011  0.0 \n",
      "\n",
      "died           0.0  1.0\n",
      "age10-19               \n",
      "0.0       0.994719  1.0\n",
      "1.0       0.005281  0.0 \n",
      "\n",
      "died           0.0       1.0\n",
      "age20-29                    \n",
      "0.0       0.965163  0.988995\n",
      "1.0       0.034837  0.011005 \n",
      "\n",
      "died           0.0       1.0\n",
      "age30-39                    \n",
      "0.0       0.952905  0.977003\n",
      "1.0       0.047095  0.022997 \n",
      "\n",
      "died           0.0       1.0\n",
      "age40-49                    \n",
      "0.0       0.901756  0.955201\n",
      "1.0       0.098244  0.044799 \n",
      "\n",
      "died           0.0       1.0\n",
      "age50-59                    \n",
      "0.0       0.768903  0.875199\n",
      "1.0       0.231097  0.124801 \n",
      "\n",
      "died           0.0      1.0\n",
      "age60-69                   \n",
      "0.0       0.618973  0.71753\n",
      "1.0       0.381027  0.28247 \n",
      "\n",
      "died           0.0       1.0\n",
      "age70-79                    \n",
      "0.0       0.425609  0.520253\n",
      "1.0       0.574391  0.479747 \n",
      "\n",
      "died           0.0       1.0\n",
      "age80-89                    \n",
      "0.0       0.181698  0.223844\n",
      "1.0       0.818302  0.776156 \n",
      "\n",
      "died        0.0       1.0\n",
      "age>89                   \n",
      "0.0     0.96964  0.932502\n",
      "1.0     0.03036  0.067498 \n",
      "\n",
      "died             0.0       1.0\n",
      "gendermale                    \n",
      "0.0         0.492575  0.476889\n",
      "1.0         0.507425  0.523111 \n",
      "\n",
      "died                                       0.0       1.0\n",
      "hospitaladmitsource_Acute Care/Floor                    \n",
      "0                                     0.975033  0.976522\n",
      "1                                     0.024967  0.023478 \n",
      "\n",
      "died                                       0.0  1.0\n",
      "hospitaladmitsource_Chest Pain Center              \n",
      "0                                      0.99901  1.0\n",
      "1                                      0.00099  0.0 \n",
      "\n",
      "died                                   0.0       1.0\n",
      "hospitaladmitsource_Direct Admit                    \n",
      "0                                 0.941707  0.939839\n",
      "1                                 0.058293  0.060161 \n",
      "\n",
      "died                                           0.0       1.0\n",
      "hospitaladmitsource_Emergency Department                    \n",
      "0                                         0.598658  0.638298\n",
      "1                                         0.401342  0.361702 \n",
      "\n",
      "died                            0.0       1.0\n",
      "hospitaladmitsource_Floor                    \n",
      "0                          0.848438  0.743947\n",
      "1                          0.151562  0.256053 \n",
      "\n",
      "died                         0.0  1.0\n",
      "hospitaladmitsource_ICU              \n",
      "0                        0.99978  1.0\n",
      "1                        0.00022  0.0 \n",
      "\n",
      "died                                0.0       1.0\n",
      "hospitaladmitsource_ICU to SDU                   \n",
      "0                               0.99956  0.998533\n",
      "1                               0.00044  0.001467 \n",
      "\n",
      "died                                 0.0       1.0\n",
      "hospitaladmitsource_Observation                   \n",
      "0                                0.99989  0.999266\n",
      "1                                0.00011  0.000734 \n",
      "\n",
      "died                                     0.0       1.0\n",
      "hospitaladmitsource_Operating Room                    \n",
      "0                                   0.935108  0.977256\n",
      "1                                   0.064892  0.022744 \n",
      "\n",
      "died                       0.0  1.0\n",
      "hospitaladmitsource_Other          \n",
      "0                          1.0  1.0 \n",
      "\n",
      "died                                     0.0       1.0\n",
      "hospitaladmitsource_Other Hospital                    \n",
      "0                                   0.983172  0.977256\n",
      "1                                   0.016828  0.022744 \n",
      "\n",
      "died                               0.0       1.0\n",
      "hospitaladmitsource_Other ICU                   \n",
      "0                              0.99725  0.997065\n",
      "1                              0.00275  0.002935 \n",
      "\n",
      "died                           0.0       1.0\n",
      "hospitaladmitsource_PACU                    \n",
      "0                         0.993621  0.998533\n",
      "1                         0.006379  0.001467 \n",
      "\n",
      "died                                    0.0       1.0\n",
      "hospitaladmitsource_Recovery Room                    \n",
      "0                                  0.976353  0.993397\n",
      "1                                  0.023647  0.006603 \n",
      "\n",
      "died                                           0.0       1.0\n",
      "hospitaladmitsource_Step-Down Unit (SDU)                    \n",
      "0                                         0.976683  0.953778\n",
      "1                                         0.023317  0.046222 \n",
      "\n",
      "died                            0.0       1.0\n",
      "numbedscategory_100 - 249                    \n",
      "0                          0.770788  0.802641\n",
      "1                          0.229212  0.197359 \n",
      "\n",
      "died                            0.0       1.0\n",
      "numbedscategory_250 - 499                    \n",
      "0                          0.776287  0.757153\n",
      "1                          0.223713  0.242847 \n",
      "\n",
      "died                       0.0       1.0\n",
      "numbedscategory_<100                    \n",
      "0                     0.933788  0.945708\n",
      "1                     0.066212  0.054292 \n",
      "\n",
      "died                         0.0       1.0\n",
      "numbedscategory_>= 500                    \n",
      "0                       0.622745  0.584006\n",
      "1                       0.377255  0.415994 \n",
      "\n",
      "died                        0.0       1.0\n",
      "hospitalregion_Midwest                   \n",
      "0                       0.66586  0.734409\n",
      "1                       0.33414  0.265591 \n",
      "\n",
      "died                           0.0       1.0\n",
      "hospitalregion_Northeast                    \n",
      "0                         0.902442  0.881878\n",
      "1                         0.097558  0.118122 \n",
      "\n",
      "died                       0.0      1.0\n",
      "hospitalregion_South                   \n",
      "0                     0.612077  0.55686\n",
      "1                     0.387923  0.44314 \n",
      "\n",
      "died                      0.0       1.0\n",
      "hospitalregion_West                    \n",
      "0                    0.860537  0.862069\n",
      "1                    0.139463  0.137931 \n",
      "\n"
     ]
    }
   ],
   "source": [
    "# Get proportions of target for each categorical variable\n",
    "categorical_df = data.select_dtypes(include='category')\n",
    "variables = categorical_df.columns.drop('died')  \n",
    "for var in variables:\n",
    "    print(pd.crosstab(categorical_df[var], \n",
    "                      categorical_df['died'], \n",
    "                      normalize='columns'), \"\\n\")"
   ]
  },
  {
   "cell_type": "markdown",
   "id": "4abff80a-74d9-4e59-a576-6adce514444a",
   "metadata": {},
   "source": [
    "There seems to be a significant difference in the proportion of patients who died between the categories of all categorical variables except gender and patients age 70-79."
   ]
  },
  {
   "cell_type": "markdown",
   "id": "c17f9637-5047-40a2-bcb5-b9e00480ccf2",
   "metadata": {},
   "source": [
    "### Mortality by discharge time"
   ]
  },
  {
   "cell_type": "code",
   "execution_count": 63,
   "id": "15ba4edb-adaa-4b83-8a4b-28b3ddb998e9",
   "metadata": {},
   "outputs": [],
   "source": [
    "data.hospitaldischargetime24 = pd.to_datetime(data.hospitaladmittime24, format='%H:%M:%S')\n",
    "data['hospitaldischargetimehr'] = data.hospitaldischargetime24.dt.hour"
   ]
  },
  {
   "cell_type": "code",
   "execution_count": 64,
   "id": "1788d105-feec-418d-a000-3b0979d42434",
   "metadata": {},
   "outputs": [],
   "source": [
    "temp = data.copy()\n",
    "temp['died'] = pd.to_numeric(temp['died'], errors='coerce')\n",
    "\n",
    "discharge_hour_mortality = (\n",
    "    temp.groupby('hospitaldischargetimehr')\n",
    "        .agg(total=pd.NamedAgg(column='died', aggfunc='count'), \n",
    "             mortalitycount=pd.NamedAgg(column='died', aggfunc='sum'))\n",
    ")\n",
    "discharge_hour_mortality = (\n",
    "    discharge_hour_mortality.assign(\n",
    "        mortalityrate=(discharge_hour_mortality['mortalitycount'] / \n",
    "                       discharge_hour_mortality['total'])\n",
    "    )\n",
    ")\n",
    "discharge_hour_mortality = discharge_hour_mortality.reset_index()"
   ]
  },
  {
   "cell_type": "code",
   "execution_count": 65,
   "id": "f56276c1-43a2-4937-bb81-f73317bb4e37",
   "metadata": {},
   "outputs": [
    {
     "data": {
      "image/png": "[encoded data removed]",
      "text/plain": [
       "<Figure size 800x500 with 1 Axes>"
      ]
     },
     "metadata": {},
     "output_type": "display_data"
    }
   ],
   "source": [
    "fig = plt.figure(figsize = (8, 5))\n",
    "plt.bar(discharge_hour_mortality.hospitaldischargetimehr, \n",
    "        discharge_hour_mortality.mortalityrate)\n",
    "plt.xlabel('Hospital Discharge Hour')\n",
    "plt.ylabel('Mortality Rate')\n",
    "plt.title('Mortality Rate by Discharge Hour')\n",
    "plt.show()"
   ]
  },
  {
   "cell_type": "code",
   "execution_count": 66,
   "id": "1b6ae011-5916-4ee7-a3ef-f766e5df47e3",
   "metadata": {},
   "outputs": [],
   "source": [
    "# Create indicator variable that indicates the timespan covering the drop\n",
    "# in mortality rate from hours 8 to 14.\n",
    "data['dischargehour8-14'] = (\n",
    "    np.where((data.hospitaldischargetimehr >= 8) & \n",
    "             (data.hospitaldischargetimehr <= 14), 1, 0)\n",
    ")\n",
    "\n",
    "data.drop(columns=['hospitaladmittime24', 'hospitaldischargetime24', \n",
    "                      'unitadmittime24', 'unitdischargetime24', \n",
    "                      'hospitaldischargetimehr'], inplace=True)"
   ]
  },
  {
   "cell_type": "markdown",
   "id": "082d7784-fd8a-4047-84eb-27c2b9ce5cea",
   "metadata": {},
   "source": [
    "### Check for missing values"
   ]
  },
  {
   "cell_type": "markdown",
   "id": "4dcd916c-8f02-4e9a-89f2-5885943a97e6",
   "metadata": {},
   "source": [
    "We will exclude any columns with more than 50% missing values and impute the other columns that do not exceed this threshold. However, we will first remove all patients who have a missing discharge status."
   ]
  },
  {
   "cell_type": "code",
   "execution_count": 67,
   "id": "2542c616-bb6c-4d07-91de-3dd1885d67e2",
   "metadata": {},
   "outputs": [
    {
     "data": {
      "text/plain": [
       "1888032"
      ]
     },
     "execution_count": 67,
     "metadata": {},
     "output_type": "execute_result"
    }
   ],
   "source": [
    "data.died.isna().sum()"
   ]
  },
  {
   "cell_type": "code",
   "execution_count": 68,
   "id": "8b1ea816-ae40-43d8-ba62-c4ca1cde449c",
   "metadata": {},
   "outputs": [
    {
     "data": {
      "text/plain": [
       "(250920, 360)"
      ]
     },
     "execution_count": 68,
     "metadata": {},
     "output_type": "execute_result"
    }
   ],
   "source": [
    "data.dropna(subset='died', inplace=True)\n",
    "data.shape"
   ]
  },
  {
   "cell_type": "code",
   "execution_count": 69,
   "id": "5f68c837-1b72-4b3f-8758-b97984d91253",
   "metadata": {},
   "outputs": [],
   "source": [
    "missing_val_count = data.isna().sum()\n",
    "missing_df = pd.DataFrame(data={'variable': data.columns, \n",
    "                                'missing_val_count': missing_val_count.values})\n",
    "missing_df['missing_val%'] = (\n",
    "    100 * (missing_df['missing_val_count'] / patient.shape[0])\n",
    ")\n",
    "\n",
    "# Get columns with more than 80% missing data\n",
    "cols_to_drop = (\n",
    "    missing_df.loc[missing_df['missing_val%'] >= 80, 'variable'].tolist()\n",
    ")\n",
    "\n",
    "data.drop(columns=cols_to_drop, inplace=True)"
   ]
  },
  {
   "cell_type": "markdown",
   "id": "b10a0d59-5c06-4b22-94f4-d3724ee70f8b",
   "metadata": {},
   "source": [
    "We will impute the numeric variables with the median and categorical variable with the most frequent label. Before doing so, we will first split the data into training and testing to avoid data leakage."
   ]
  },
  {
   "cell_type": "markdown",
   "id": "28e56957-0cb3-4e1c-bbed-2272069bd979",
   "metadata": {},
   "source": [
    "### Train-Test Split"
   ]
  },
  {
   "cell_type": "markdown",
   "id": "da8d94df-1b62-49fd-8597-59b3dc09f727",
   "metadata": {},
   "source": [
    "We will randomize our train and test sets by patient and use stratified sampling by `hospitalregion` and `teachingstatus` to ensure that the distribution of patients from different regions and whether the hospital they are in is a teaching hospital are equivalent between the training and test data sets."
   ]
  },
  {
   "cell_type": "code",
   "execution_count": 70,
   "id": "17e94b8b-82de-48d7-9e52-5aa0418c7dc6",
   "metadata": {},
   "outputs": [
    {
     "name": "stdout",
     "output_type": "stream",
     "text": [
      "(240840, 265)\n",
      "10035\n",
      "(192672, 259)\n",
      "(48168, 259)\n"
     ]
    }
   ],
   "source": [
    "# Drop missing values by variables that will be used for stratified sampling\n",
    "data.dropna(subset=['hospitalregion', 'teachingstatus'], inplace=True)\n",
    "print(data.shape)\n",
    "print(data.uniquepid.nunique())\n",
    "\n",
    "# Remove irrelevant columns\n",
    "data.drop(columns=['patientunitstayid', 'patienthealthsystemstayid', \n",
    "                      'wardid', 'uniquepid'], \n",
    "             inplace=True)\n",
    "\n",
    "\n",
    "X = data.drop(columns=['died', 'hospitalid'])\n",
    "y = data.died\n",
    "X_train, X_test, y_train, y_test = train_test_split(X, y, \n",
    "                                                    test_size=0.20, \n",
    "                                                    stratify=X[['hospitalregion',\n",
    "                                                                'teachingstatus']],\n",
    "                                                    random_state=607)\n",
    "\n",
    "print(X_train.shape)\n",
    "print(X_test.shape)"
   ]
  },
  {
   "cell_type": "markdown",
   "id": "ff733f12-ee36-4d06-a97d-c1f5342adb42",
   "metadata": {},
   "source": [
    "##### Sanity check for stratified sampling"
   ]
  },
  {
   "cell_type": "code",
   "execution_count": 71,
   "id": "ae24b826-fe7d-4a08-b828-d44abd082888",
   "metadata": {},
   "outputs": [
    {
     "name": "stdout",
     "output_type": "stream",
     "text": [
      "0    0.701145\n",
      "1    0.298855\n",
      "Name: teachingstatus, dtype: float64\n",
      "0    0.70115\n",
      "1    0.29885\n",
      "Name: teachingstatus, dtype: float64\n"
     ]
    }
   ],
   "source": [
    "print(X_train.teachingstatus.value_counts(normalize=True))\n",
    "print(X_test.teachingstatus.value_counts(normalize=True))"
   ]
  },
  {
   "cell_type": "code",
   "execution_count": 72,
   "id": "eff05a70-4920-4e59-bb58-2954ee9f780c",
   "metadata": {},
   "outputs": [
    {
     "name": "stdout",
     "output_type": "stream",
     "text": [
      "South        0.411658\n",
      "Midwest      0.338814\n",
      "West         0.145096\n",
      "Northeast    0.104431\n",
      "Name: hospitalregion, dtype: float64\n",
      "South        0.411663\n",
      "Midwest      0.338814\n",
      "West         0.145076\n",
      "Northeast    0.104447\n",
      "Name: hospitalregion, dtype: float64\n"
     ]
    }
   ],
   "source": [
    "print(X_train.hospitalregion.value_counts(normalize=True))\n",
    "print(X_test.hospitalregion.value_counts(normalize=True))\n",
    "\n",
    "# Drop hospital region column \n",
    "X_train.drop(columns='hospitalregion', inplace=True)\n",
    "X_test.drop(columns='hospitalregion', inplace=True)"
   ]
  },
  {
   "cell_type": "markdown",
   "id": "953210c6-8efb-4c06-ba6d-14205c892bee",
   "metadata": {},
   "source": [
    "### Impute missing values"
   ]
  },
  {
   "cell_type": "code",
   "execution_count": 73,
   "id": "fe96cd38-7f6d-40ae-add2-350ecef2777d",
   "metadata": {},
   "outputs": [],
   "source": [
    "# Impute numeric variables with median\n",
    "numeric_vars = X_train.select_dtypes(include=np.number).columns\n",
    "imputer = SimpleImputer(strategy='median')\n",
    "imputer = imputer.fit(X_train[numeric_vars])\n",
    "X_train[numeric_vars] = imputer.transform(X_train[numeric_vars])\n",
    "X_test[numeric_vars] = imputer.transform(X_test[numeric_vars])"
   ]
  },
  {
   "cell_type": "code",
   "execution_count": 74,
   "id": "962b23df-9e53-4d8c-9cf2-0bd18ac88a42",
   "metadata": {},
   "outputs": [],
   "source": [
    "# Impute categorical variables with most frequent label\n",
    "categorical_vars = X_train.select_dtypes(include='category').columns\n",
    "imputer = SimpleImputer(strategy='most_frequent')\n",
    "imputer = imputer.fit(X_train[categorical_vars])\n",
    "X_train[categorical_vars] = imputer.transform(X_train[categorical_vars])\n",
    "X_test[categorical_vars] = imputer.transform(X_test[categorical_vars])"
   ]
  },
  {
   "cell_type": "code",
   "execution_count": 75,
   "id": "53176e90-b651-45b1-9c63-79546c4cc981",
   "metadata": {},
   "outputs": [
    {
     "data": {
      "text/plain": [
       "2768"
      ]
     },
     "execution_count": 75,
     "metadata": {},
     "output_type": "execute_result"
    }
   ],
   "source": [
    "X_train.isna().sum().sum()"
   ]
  },
  {
   "cell_type": "code",
   "execution_count": 76,
   "id": "af7dc047-3e84-49a5-b77d-ca89c04f1788",
   "metadata": {},
   "outputs": [
    {
     "data": {
      "text/plain": [
       "736"
      ]
     },
     "execution_count": 76,
     "metadata": {},
     "output_type": "execute_result"
    }
   ],
   "source": [
    "X_test.isna().sum().sum()"
   ]
  },
  {
   "cell_type": "code",
   "execution_count": 77,
   "id": "2a08e4c4-ca64-4f4d-8086-fe6d7912e8e8",
   "metadata": {},
   "outputs": [
    {
     "name": "stdout",
     "output_type": "stream",
     "text": [
      "(192672, 259)\n",
      "(48168, 259)\n"
     ]
    }
   ],
   "source": [
    "train = pd.concat([X_train, y_train], axis=1)\n",
    "test = pd.concat([X_test, y_test], axis=1)\n",
    "\n",
    "print(train.shape)\n",
    "print(test.shape)\n",
    "\n",
    "# Save training and test datasets to csv \n",
    "train.to_csv(data_dir + 'train.csv', index=False)\n",
    "test.to_csv(data_dir + 'test.csv', index=False)"
   ]
  }
 ],
 "metadata": {
  "kernelspec": {
   "display_name": "Python 3.9.15 ('base')",
   "language": "python",
   "name": "python3"
  },
  "language_info": {
   "codemirror_mode": {
    "name": "ipython",
    "version": 3
   },
   "file_extension": ".py",
   "mimetype": "text/x-python",
   "name": "python",
   "nbconvert_exporter": "python",
   "pygments_lexer": "ipython3",
   "version": "3.9.15 | packaged by conda-forge | (main, Nov 22 2022, 08:48:25) \n[Clang 14.0.6 ]"
  },
  "vscode": {
   "interpreter": {
    "hash": "e8e217df1a51f16b4118bceccac207465a20dc972e4fca6b2d476b9422120149"
   }
  }
 },
 "nbformat": 4,
 "nbformat_minor": 5
}
