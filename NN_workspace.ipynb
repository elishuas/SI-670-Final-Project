{
 "cells": [
  {
   "cell_type": "markdown",
   "id": "e0d09205",
   "metadata": {},
   "source": [
    "# Neural Net Training Workspace\n",
    "*Work produced by Stephen Toner, Fall 2022*"
   ]
  },
  {
   "cell_type": "code",
   "execution_count": 6,
   "id": "7289fc63",
   "metadata": {},
   "outputs": [],
   "source": [
    "import torch\n",
    "import numpy as np\n",
    "import random\n",
    "from sklearn.preprocessing import StandardScaler\n",
    "from sklearn.preprocessing import MinMaxScaler\n",
    "from keras import models\n",
    "from keras import layers\n",
    "from tensorflow.keras.utils import to_categorical\n",
    "\n",
    "from tensorflow.keras.models import load_model\n",
    "import pandas as pd\n",
    "from sklearn.model_selection import train_test_split\n",
    "import Utils as U"
   ]
  },
  {
   "cell_type": "markdown",
   "id": "ba741e58",
   "metadata": {},
   "source": [
    "params = {'legend.fontsize': 'x-large',\n",
    "        'axes.labelsize': 'x-large',\n",
    "        'axes.titlesize':'x-large',\n",
    "       'xtick.labelsize':'x-large',\n",
    "        'ytick.labelsize':'x-large'}\n",
    "pylab.rcParams.update(params)"
   ]
  },
  {
   "cell_type": "code",
   "execution_count": 4,
   "id": "050aa086",
   "metadata": {},
   "outputs": [],
   "source": [
    "torch.manual_seed(0)\n",
    "np.random.seed(0)\n",
    "random.seed(0)"
   ]
  },
  {
   "cell_type": "code",
   "execution_count": 5,
   "id": "acafe3ef",
   "metadata": {},
   "outputs": [],
   "source": [
    "\n",
    "data = pd.read_csv(\"timeseries_readyformodel.csv\")\n",
    "\n",
    "y = data['died']\n",
    "X = data.drop(columns = ['died', 'patientunitstayid']).to_numpy().astype('float32')\n",
    "\n",
    "X_train, X_test, y_train, y_test = train_test_split(X, y, \n",
    "                                                    test_size=0.20, \n",
    "                                                    # stratify=X[['hospitalregion',\n",
    "                                                    #             'teachingstatus']],\n",
    "                                                    random_state=607)\n"
   ]
  },
  {
   "cell_type": "code",
   "execution_count": 13,
   "id": "073da708",
   "metadata": {},
   "outputs": [],
   "source": [
    "# scaler = StandardScaler()\n",
    "# scaler = MinMaxScaler()\n",
    "# X_train_scaled = scaler.fit_transform(X_train)\n",
    "# X_test_scaled = scaler.transform(X_test)\n",
    "\n",
    "X_train_scaled = X_train\n",
    "X_test_scaled = X_test\n",
    "\n",
    "y_train_cat = to_categorical(y_train)\n",
    "y_test_cat = to_categorical(y_test)"
   ]
  },
  {
   "cell_type": "code",
   "execution_count": null,
   "id": "cc938470",
   "metadata": {},
   "outputs": [],
   "source": [
    "net = models.Sequential()\n",
    "net.add(layers.Dense(16, activation = 'tanh', input_shape = X_train_scaled.shape))\n",
    "net.add(layers.Dense(32, activation = 'tanh'))\n",
    "net.add(layers.Dense(64, activation = 'tanh')) # Up to 82%\n",
    "net.add(layers.Dense(128, activation = 'tanh')) # Up to 82.5%\n",
    "net.add(layers.Dense(256, activation = 'tanh')) # \n",
    "net.add(layers.Dense(512, activation = 'tanh')) # \n",
    "# net.add(layers.Conv1D(256, kernel_size = 2))# \n",
    "net.add(layers.Dense(256, activation = 'relu')) # 85% for flat 256, 3 tanh layers; down to 84% when increasing powers of 2\n",
    "# net.add(layers.Dense(32, activation = 'relu'))\n",
    "# net.add(layers.Dense(16, activation = 'relu'))\n",
    "# net.add(layers.Dense(8, activation = 'relu'))\n",
    "\n",
    "# Output Layer\n",
    "net.add(layers.Dense(2, activation = 'sigmoid'))\n"
   ]
  },
  {
   "cell_type": "code",
   "execution_count": null,
   "id": "374a628f",
   "metadata": {},
   "outputs": [],
   "source": [
    "net.compile(optimizer = 'rmsprop', loss = 'binary_crossentropy', metrics = ['Accuracy'])\n",
    "net.fit(X_train_scaled, y_train_cat, epochs = 1000, batch_size = 200)#, verbose = False)"
   ]
  },
  {
   "cell_type": "code",
   "execution_count": null,
   "id": "fe4a1eea",
   "metadata": {
    "lines_to_next_cell": 2
   },
   "outputs": [],
   "source": [
    "test_accuracy = net.evaluate(X_test_scaled, y_test_cat)[1]"
   ]
  },
  {
   "cell_type": "code",
   "execution_count": null,
   "id": "91067825",
   "metadata": {},
   "outputs": [],
   "source": [
    "print(f'Test Accuracy: {test_accuracy}')\n",
    "eval_metrics = U.evaluation_metrics(X_train_scaled, y_train_cat, X_test_scaled, y_test_cat)"
   ]
  },
  {
   "cell_type": "code",
   "execution_count": null,
   "id": "14849b3d",
   "metadata": {},
   "outputs": [],
   "source": [
    "y_pred_prob = net.predict_prob()\n",
    "results = U.compute_metrics(y_pred_prob, y_test)"
   ]
  },
  {
   "cell_type": "code",
   "execution_count": 11,
   "id": "9cdfd9e9",
   "metadata": {},
   "outputs": [],
   "source": [
    "model = load_model('LSTM_model/')"
   ]
  },
  {
   "cell_type": "code",
   "execution_count": 15,
   "id": "94f20bc5",
   "metadata": {},
   "outputs": [],
   "source": [
    "X_tst_ts = X_test_scaled.reshape((X_test_scaled.shape[0], 1, X_test_scaled.shape[1]))"
   ]
  },
  {
   "cell_type": "code",
   "execution_count": 16,
   "id": "53319128",
   "metadata": {},
   "outputs": [
    {
     "name": "stdout",
     "output_type": "stream",
     "text": [
      "1569/1569 [==============================] - 1s 589us/step - loss: 1.1583 - auc: 0.8726 - recall: 0.8726 - precision: 0.8726\n"
     ]
    },
    {
     "data": {
      "text/plain": [
       "[1.1583129167556763,\n",
       " 0.8725689649581909,\n",
       " 0.8725689649581909,\n",
       " 0.8725689649581909]"
      ]
     },
     "execution_count": 16,
     "metadata": {},
     "output_type": "execute_result"
    }
   ],
   "source": [
    "model.evaluate(X_tst_ts, y_test_cat)"
   ]
  },
  {
   "cell_type": "code",
   "execution_count": null,
   "id": "b54aa093",
   "metadata": {},
   "outputs": [],
   "source": []
  }
 ],
 "metadata": {
  "jupytext": {
   "cell_metadata_filter": "-all",
   "encoding": "# -*- coding: utf-8 -*-",
   "main_language": "python",
   "notebook_metadata_filter": "-all"
  },
  "kernelspec": {
   "display_name": "Python 3.8.15",
   "language": "python",
   "name": "python3"
  },
  "language_info": {
   "codemirror_mode": {
    "name": "ipython",
    "version": 3
   },
   "file_extension": ".py",
   "mimetype": "text/x-python",
   "name": "python",
   "nbconvert_exporter": "python",
   "pygments_lexer": "ipython3",
   "version": "3.8.15 | packaged by conda-forge | (default, Nov 22 2022, 08:52:09) \n[Clang 14.0.6 ]"
  },
  "vscode": {
   "interpreter": {
    "hash": "40165c056c83275d9736ec999f27a3c7fc84a8d56239485103817be2cfc333e0"
   }
  }
 },
 "nbformat": 4,
 "nbformat_minor": 5
}
