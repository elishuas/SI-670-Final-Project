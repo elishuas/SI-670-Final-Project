{
 "cells": [
  {
   "cell_type": "markdown",
   "id": "609908cb-620a-4fc4-990d-b5175aaa226f",
   "metadata": {},
   "source": [
    "# Random Forest "
   ]
  },
  {
   "cell_type": "code",
   "execution_count": 139,
   "id": "66853348-0718-400b-8f9c-cf1a485e5d8a",
   "metadata": {},
   "outputs": [],
   "source": [
    "import pandas as pd\n",
    "import numpy as np\n",
    "from sklearn.ensemble import RandomForestClassifier\n",
    "from sklearn.model_selection import GridSearchCV\n",
    "from sklearn.model_selection import KFold\n",
    "from sklearn.model_selection import validation_curve\n",
    "from sklearn.feature_selection import RFECV\n",
    "from sklearn.metrics import roc_auc_score\n",
    "from sklearn.metrics import roc_curve\n",
    "from sklearn.metrics import precision_score\n",
    "from sklearn.metrics import recall_score\n",
    "import matplotlib.pyplot as plt\n",
    "import warnings\n",
    "warnings.filterwarnings('ignore')"
   ]
  },
  {
   "cell_type": "code",
   "execution_count": 3,
   "id": "90a6d971-4b19-42e0-8a69-686d2e623dbf",
   "metadata": {},
   "outputs": [],
   "source": [
    "# Load data\n",
    "train = pd.read_csv('train.csv')\n",
    "test = pd.read_csv('test.csv')\n",
    "\n",
    "X_train = train.drop(columns='died')\n",
    "X_test = test.drop(columns='died')\n",
    "y_train = train.died\n",
    "y_test = test.died"
   ]
  },
  {
   "cell_type": "markdown",
   "id": "a8c95818-28d5-477c-8ed2-4e1ce5a0ec42",
   "metadata": {},
   "source": [
    "# Train baseline random forest model with default parameters"
   ]
  },
  {
   "cell_type": "code",
   "execution_count": 4,
   "id": "fbcba6e9-6e14-49e8-8782-070e2db60f59",
   "metadata": {},
   "outputs": [
    {
     "name": "stdout",
     "output_type": "stream",
     "text": [
      "1.0\n",
      "0.834\n"
     ]
    }
   ],
   "source": [
    "rf_base = RandomForestClassifier(random_state=670).fit(X_train, y_train)\n",
    "train_auc = roc_auc_score(y_train, rf_base.predict_proba(X_train)[:, 1])\n",
    "test_auc = roc_auc_score(y_test, rf_base.predict_proba(X_test)[:, 1])\n",
    "print(round(train_auc, 3))\n",
    "print(round(test_auc, 3))"
   ]
  },
  {
   "cell_type": "code",
   "execution_count": 44,
   "id": "76ea467e-83f4-42cb-a47f-69121e4e7b97",
   "metadata": {},
   "outputs": [
    {
     "name": "stdout",
     "output_type": "stream",
     "text": [
      "{'class_weight': 'balanced_subsample', 'max_depth': 5, 'n_estimators': 350}\n",
      "0.854\n",
      "0.828\n"
     ]
    }
   ],
   "source": [
    "# Set up k-fold validation set\n",
    "k_folds = KFold(n_splits=5, shuffle=True, random_state=670)\n",
    "splits = list(k_folds.split(X_train, y_train))\n",
    "\n",
    "# Use Grid Search CV to tune hyperparameters\n",
    "rf_mod = RandomForestClassifier(random_state=2022)\n",
    "param_grid = {'n_estimators': range(100, 500, 50),\n",
    "              'max_depth': [2, 3, 4, 5],\n",
    "              'class_weight':['balanced', 'balanced_subsample']\n",
    "             }\n",
    "grid_search = GridSearchCV(rf_mod, \n",
    "                           param_grid=param_grid, \n",
    "                           cv=splits, \n",
    "                           scoring='roc_auc',\n",
    "                           )\n",
    "grid_search.fit(X_train, y_train)\n",
    "\n",
    "# Get best parameters from Grid Search\n",
    "print(grid_search.best_params_)\n",
    "\n",
    "train_auc = grid_search.score(X_train, y_train)\n",
    "test_auc = grid_search.score(X_test, y_test)\n",
    "\n",
    "print(round(train_auc, 3))\n",
    "print(round(test_auc, 3))"
   ]
  },
  {
   "cell_type": "code",
   "execution_count": 130,
   "id": "c5ee4f22-a69a-4d5d-9029-2506c0306c3c",
   "metadata": {},
   "outputs": [],
   "source": [
    "def plot_validation_curves(model, param_range, data, target, param_name, \n",
    "                           scoring, cv, ylabel):\n",
    "    \n",
    "    train_scores, valid_scores = validation_curve(model, \n",
    "                                                  data, \n",
    "                                                  target, \n",
    "                                                  param_name=param_name, \n",
    "                                                  param_range=param_range,\n",
    "                                                  scoring=scoring,\n",
    "                                                  cv=cv)\n",
    "    \n",
    "    train_scores_mean = np.mean(train_scores, axis=1)\n",
    "    train_scores_std = np.std(train_scores, axis=1)\n",
    "    valid_scores_mean = np.mean(valid_scores, axis=1)\n",
    "    valid_scores_std = np.std(valid_scores, axis=1)\n",
    "    \n",
    "    plt.title(f'Validation Curve with {param_name}')\n",
    "    plt.xlabel(f'{param_name}')\n",
    "    plt.ylabel(ylabel)\n",
    "    plt.ylim(0.0, 1.1)\n",
    "    lw = 2\n",
    "    plt.plot(\n",
    "        param_range, \n",
    "        train_scores_mean, \n",
    "        label=\"Training score\", \n",
    "        color=\"darkorange\", \n",
    "        lw=lw\n",
    "    )\n",
    "    plt.fill_between(\n",
    "        param_range,\n",
    "        train_scores_mean - train_scores_std,\n",
    "        train_scores_mean + train_scores_std,\n",
    "        alpha=0.2,\n",
    "        color=\"darkorange\",\n",
    "        lw=lw,\n",
    "    )\n",
    "    plt.plot(\n",
    "        param_range, \n",
    "        valid_scores_mean, \n",
    "        label=\"Cross-validation score\", \n",
    "        color=\"navy\", \n",
    "        lw=lw\n",
    "    )\n",
    "    plt.fill_between(\n",
    "        param_range,\n",
    "        valid_scores_mean - valid_scores_std,\n",
    "        valid_scores_mean + valid_scores_std,\n",
    "        alpha=0.2,\n",
    "        color=\"navy\",\n",
    "        lw=lw,\n",
    "    )\n",
    "    plt.legend(loc=\"best\")\n",
    "    plt.show()"
   ]
  },
  {
   "cell_type": "code",
   "execution_count": 131,
   "id": "12e5d550-bbee-4d78-a1bf-40741b5dab29",
   "metadata": {},
   "outputs": [
    {
     "data": {
      "image/png": "[encoded data removed]",
      "text/plain": [
       "<Figure size 640x480 with 1 Axes>"
      ]
     },
     "metadata": {},
     "output_type": "display_data"
    }
   ],
   "source": [
    "# Plot grid search CV results for n_estimators\n",
    "plot_validation_curves(model=rf_mod, \n",
    "                       param_range=range(100, 500, 50), \n",
    "                       data=X_train, \n",
    "                       target=y_train, \n",
    "                       param_name='n_estimators', \n",
    "                       scoring='roc_auc', \n",
    "                       cv=splits, \n",
    "                       ylabel='AUC Score')"
   ]
  },
  {
   "cell_type": "code",
   "execution_count": 132,
   "id": "b8098fe8-6880-4f3b-9a63-1bf9855e4886",
   "metadata": {},
   "outputs": [
    {
     "data": {
      "image/png": "[encoded data removed]",
      "text/plain": [
       "<Figure size 640x480 with 1 Axes>"
      ]
     },
     "metadata": {},
     "output_type": "display_data"
    }
   ],
   "source": [
    "# Plot grid search CV results for max depth\n",
    "plot_validation_curves(model=rf_mod, \n",
    "                       param_range=range(2, 15, 1), \n",
    "                       data=X_train, \n",
    "                       target=y_train, \n",
    "                       param_name='max_depth', \n",
    "                       scoring='roc_auc', \n",
    "                       cv=splits, \n",
    "                       ylabel='AUC Score')"
   ]
  },
  {
   "cell_type": "markdown",
   "id": "ccd13c3c-34ee-44c3-b3fd-6a3eca684504",
   "metadata": {},
   "source": [
    "### Train Random Forest with features selected by LASSO"
   ]
  },
  {
   "cell_type": "code",
   "execution_count": 135,
   "id": "d563124d-5b02-4941-834a-b7b64170574c",
   "metadata": {},
   "outputs": [],
   "source": [
    "lasso_features = ['admissionheight', 'admissionweight', 'dischargeweight' ,\n",
    "                  'icuduration', 'weightdiffafterdischarge', 'intubated', \n",
    "                  'vent', 'dialysis', 'urine', 'wbc', 'temperature',\n",
    "                  'respiratoryrate', 'sodium', 'heartrate', 'meanbp', \n",
    "                  'creatinine', 'glucose', 'bun', 'meanapachescore',\n",
    "                  'meanpredictedicumortality', 'meanpredictediculos',\n",
    "                  'immunosuppression', 'diabetes', 'teachingstatus', \n",
    "                  'minnoninvasivesystolic', 'meannoninvasivesystolic', \n",
    "                  'maxnoninvasivesystolic', 'minnoninvasivediastolic', \n",
    "                  'meannoninvasivediastolic', 'maxnoninvasivediastolic', \n",
    "                  'noninvasivemeanmin', 'noninvasivemeanavg', \n",
    "                  'noninvasivemeanmax', 'age0-9', 'age10-19', 'age20-29',\n",
    "                  'age30-39', 'age40-49', 'age50-59', 'age60-69', 'age>89', \n",
    "                  'gendermale', 'ethnicity_African American', 'ethnicity_Asian',\n",
    "                  'ethnicity_Caucasian', 'ethnicity_Hispanic', \n",
    "                  'ethnicity_Native American', 'ethnicity_Other/Unknown',\n",
    "                  'hospitaladmitsource_Acute Care/Floor', \n",
    "                  'hospitaladmitsource_Chest Pain Center', \n",
    "                  'hospitaladmitsource_Direct Admit', \n",
    "                  'hospitaladmitsource_Emergency Department', \n",
    "                  'hospitaladmitsource_Floor', 'hospitaladmitsource_ICU', \n",
    "                  'hospitaladmitsource_ICU to SDU', \n",
    "                  'hospitaladmitsource_Observation', \n",
    "                  'hospitaladmitsource_Operating Room', \n",
    "                  'hospitaladmitsource_Other Hospital', \n",
    "                  'hospitaladmitsource_Other ICU', \n",
    "                  'hospitaladmitsource_Step-Down Unit (SDU)', \n",
    "                  'unittype_CCU-CTICU', 'unittype_CSICU', 'unittype_CTICU', \n",
    "                  'unittype_Cardiac ICU', 'unittype_MICU', \n",
    "                  'unittype_Med-Surg ICU', 'unittype_Neuro ICU', \n",
    "                  'unitadmitsource_Acute Care/Floor', \n",
    "                  'unitadmitsource_Chest Pain Center', \n",
    "                  'unitadmitsource_Direct Admit', \n",
    "                  'unitadmitsource_Emergency Department', \n",
    "                  'unitadmitsource_Floor', 'unitadmitsource_ICU',\n",
    "                  'unitadmitsource_ICU to SDU', 'unitadmitsource_Observation',\n",
    "                  'unitadmitsource_Operating Room', \n",
    "                  'unitadmitsource_Other Hospital', 'unitadmitsource_Other ICU',\n",
    "                  'unitadmitsource_PACU', 'unitadmitsource_Recovery Room', \n",
    "                  'unitadmitsource_Step-Down Unit (SDU)', \n",
    "                  'numbedscategory_100 - 249', 'numbedscategory_250 - 499',\n",
    "                  'numbedscategory_<100', 'numbedscategory_>= 500', \n",
    "                  'hospitalregion_Midwest', 'hospitalregion_South', \n",
    "                  'dischargehour8-14']"
   ]
  },
  {
   "cell_type": "code",
   "execution_count": 136,
   "id": "b4b1d090-7df9-4b6c-b4c7-9f6669b60ce7",
   "metadata": {},
   "outputs": [
    {
     "name": "stdout",
     "output_type": "stream",
     "text": [
      "{'max_depth': 5, 'n_estimators': 300}\n",
      "0.849\n",
      "0.828\n"
     ]
    }
   ],
   "source": [
    "X_train_lasso = X_train.loc[:, lasso_features]\n",
    "X_test_lasso = X_test.loc[:, lasso_features]\n",
    "\n",
    "grid_search_lasso = GridSearchCV(rf_mod, \n",
    "                                 param_grid=param_grid, \n",
    "                                 cv=splits, \n",
    "                                 scoring='roc_auc'\n",
    "                                )\n",
    "grid_search_lasso.fit(X_train_lasso, y_train)\n",
    "\n",
    "# Get best parameters from Grid Search\n",
    "print(grid_search_lasso.best_params_)\n",
    "\n",
    "train_auc = grid_search_lasso.score(X_train_lasso, y_train)\n",
    "test_auc = grid_search_lasso.score(X_test_lasso, y_test)\n",
    "\n",
    "print(round(train_auc, 3))\n",
    "print(round(test_auc, 3))"
   ]
  },
  {
   "cell_type": "markdown",
   "id": "8e048178-157c-48ef-b958-62f16f875c19",
   "metadata": {},
   "source": [
    "### Train Random Forest with features selected by RFE"
   ]
  },
  {
   "cell_type": "code",
   "execution_count": 117,
   "id": "0e22fac1-9106-436b-aefb-262461d37d36",
   "metadata": {},
   "outputs": [
    {
     "name": "stdout",
     "output_type": "stream",
     "text": [
      "Index(['admissionheight', 'admissionweight', 'dischargeweight', 'icuduration',\n",
      "       'weightdiffafterdischarge', 'intubated', 'vent', 'urine', 'wbc',\n",
      "       'temperature', 'respiratoryrate', 'sodium', 'heartrate', 'meanbp',\n",
      "       'creatinine', 'glucose', 'bun', 'meanapachescore',\n",
      "       'meanpredictedicumortality', 'meanpredictediculos', 'immunosuppression',\n",
      "       'diabetes', 'teachingstatus', 'minnoninvasivesystolic',\n",
      "       'meannoninvasivesystolic', 'maxnoninvasivesystolic',\n",
      "       'minnoninvasivediastolic', 'meannoninvasivediastolic',\n",
      "       'maxnoninvasivediastolic', 'noninvasivemeanmin', 'noninvasivemeanavg',\n",
      "       'noninvasivemeanmax', 'age50-59', 'age60-69', 'age>89', 'gendermale',\n",
      "       'ethnicity_African American', 'ethnicity_Caucasian',\n",
      "       'ethnicity_Hispanic', 'ethnicity_Other/Unknown',\n",
      "       'hospitaladmitsource_Direct Admit',\n",
      "       'hospitaladmitsource_Emergency Department', 'hospitaladmitsource_Floor',\n",
      "       'hospitaladmitsource_Step-Down Unit (SDU)', 'unittype_CCU-CTICU',\n",
      "       'unittype_Cardiac ICU', 'unittype_MICU', 'unittype_Med-Surg ICU',\n",
      "       'unittype_Neuro ICU', 'unittype_SICU', 'unitadmitsource_Direct Admit',\n",
      "       'unitadmitsource_Emergency Department', 'unitadmitsource_Floor',\n",
      "       'unitadmitsource_Other Hospital',\n",
      "       'unitadmitsource_Step-Down Unit (SDU)', 'numbedscategory_100 - 249',\n",
      "       'numbedscategory_250 - 499', 'numbedscategory_<100',\n",
      "       'numbedscategory_>= 500', 'hospitalregion_Midwest',\n",
      "       'hospitalregion_Northeast', 'hospitalregion_South',\n",
      "       'hospitalregion_West', 'dischargehour8-14'],\n",
      "      dtype='object')\n"
     ]
    }
   ],
   "source": [
    "rfecv = RFECV(\n",
    "    estimator=RandomForestClassifier(random_state=670),\n",
    "    min_features_to_select=10,\n",
    "    n_jobs=-1,\n",
    "    scoring=\"roc_auc\",\n",
    "    cv=splits\n",
    ")\n",
    "\n",
    "_ = rfecv.fit(X_train, y_train)\n",
    "rfe_features = X_train.columns[rfecv.support_]\n",
    "print(rfe_features)"
   ]
  },
  {
   "cell_type": "code",
   "execution_count": 121,
   "id": "cba9bbc5-f96c-49db-8cf7-df7570315baa",
   "metadata": {},
   "outputs": [
    {
     "name": "stdout",
     "output_type": "stream",
     "text": [
      "{'max_depth': 5, 'n_estimators': 400}\n",
      "0.85\n",
      "0.828\n"
     ]
    }
   ],
   "source": [
    "X_train_rfe = X_train.loc[:, rfe_features]\n",
    "X_test_rfe = X_test.loc[:, rfe_features]\n",
    "\n",
    "grid_search_rfe = GridSearchCV(rf_mod, \n",
    "                               param_grid=param_grid, \n",
    "                               cv=splits, \n",
    "                               scoring='roc_auc'\n",
    "                              )\n",
    "grid_search_rfe.fit(X_train_rfe, y_train)\n",
    "\n",
    "# Get best parameters from Grid Search\n",
    "print(grid_search_rfe.best_params_)\n",
    "\n",
    "train_auc = grid_search_rfe.score(X_train_rfe, y_train)\n",
    "test_auc = grid_search_rfe.score(X_test_rfe, y_test)\n",
    "\n",
    "print(round(train_auc, 3))\n",
    "print(round(test_auc, 3))"
   ]
  },
  {
   "cell_type": "markdown",
   "id": "fcc95110-46ef-4785-9bc3-6bbfb281a09c",
   "metadata": {},
   "source": [
    "### Train Random Forest with features selected by Boruta"
   ]
  },
  {
   "cell_type": "code",
   "execution_count": 122,
   "id": "6b9dcd12-b8dd-4fb9-826f-03771f4b1b1a",
   "metadata": {},
   "outputs": [],
   "source": [
    "boruta_features = ['admissionweight', 'dischargeweight', 'icuduration', \n",
    "                   'weightdiffafterdischarge', 'intubated', 'vent', 'urine', \n",
    "                   'wbc', 'temperature', 'respiratoryrate', 'sodium', \n",
    "                   'heartrate', 'meanbp', 'creatinine', 'bun', \n",
    "                   'meanapachescore', 'meanpredictedicumortality', \n",
    "                   'meanpredictediculos', 'minnoninvasivesystolic', \n",
    "                   'meannoninvasivesystolic', 'maxnoninvasivesystolic', \n",
    "                   'minnoninvasivediastolic', 'meannoninvasivediastolic', \n",
    "                   'maxnoninvasivediastolic', 'noninvasivemeanmin', \n",
    "                   'noninvasivemeanavg', 'noninvasivemeanmax', \n",
    "                   'hospitaladmitsource_Floor', 'unitadmitsource_Floor', \n",
    "                   'unitadmitsource_Operating Room']"
   ]
  },
  {
   "cell_type": "code",
   "execution_count": 124,
   "id": "f1b79ccc-c673-4f25-900f-37de1d4b58f5",
   "metadata": {},
   "outputs": [
    {
     "name": "stdout",
     "output_type": "stream",
     "text": [
      "{'max_depth': 5, 'n_estimators': 200}\n",
      "0.848\n",
      "0.827\n"
     ]
    }
   ],
   "source": [
    "X_train_boruta = X_train.loc[:, boruta_features]\n",
    "X_test_boruta = X_test.loc[:, boruta_features]\n",
    "\n",
    "grid_search_boruta = GridSearchCV(rf_mod, \n",
    "                                  param_grid=param_grid, \n",
    "                                  cv=splits, \n",
    "                                  scoring='roc_auc'\n",
    "                                 )\n",
    "grid_search_boruta.fit(X_train_boruta, y_train)\n",
    "\n",
    "# Get best parameters from Grid Search\n",
    "print(grid_search_boruta.best_params_)\n",
    "\n",
    "train_auc = grid_search_boruta.score(X_train_boruta, y_train)\n",
    "test_auc = grid_search_boruta.score(X_test_boruta, y_test)\n",
    "\n",
    "print(round(train_auc, 3))\n",
    "print(round(test_auc, 3))"
   ]
  },
  {
   "cell_type": "markdown",
   "id": "c7a1d5fb-815e-4071-ab7d-f117cd73e352",
   "metadata": {},
   "source": [
    "### Evaluate final model "
   ]
  },
  {
   "cell_type": "code",
   "execution_count": 133,
   "id": "18ecfca5-6fcd-4806-805b-26f10da3cbbd",
   "metadata": {},
   "outputs": [],
   "source": [
    "def calculate_youden_index_cutoff(y_true, y_pred):\n",
    "    \n",
    "    # Calculate probability cut-off that maximizes the Youden index\n",
    "    fpr, tpr, thresholds = roc_curve(y_true, y_pred)\n",
    "    idx = np.argmax(tpr - fpr)\n",
    "    return thresholds[idx]"
   ]
  },
  {
   "cell_type": "code",
   "execution_count": 140,
   "id": "ef941f99-d222-4953-a9f3-b32cf3dd6e87",
   "metadata": {},
   "outputs": [
    {
     "name": "stdout",
     "output_type": "stream",
     "text": [
      "Train Precision: 0.3023996082272282\n",
      "Test Precision: 0.2902930402930403\n",
      "Train Recall: 0.7816455696202531\n",
      "Test Recall: 0.782716049382716\n"
     ]
    }
   ],
   "source": [
    "train_pred_probs = grid_search_lasso.predict_proba(X_train_lasso)[:, 1]\n",
    "test_pred_probs = grid_search_lasso.predict_proba(X_test_lasso)[:, 1]\n",
    "\n",
    "train_cutoff = calculate_youden_index_cutoff(y_train, train_pred_probs)\n",
    "test_cutoff = calculate_youden_index_cutoff(y_test, test_pred_probs)\n",
    "y_pred_train = np.where(train_pred_probs > train_cutoff, 1, 0)\n",
    "y_pred_test = np.where(test_pred_probs > test_cutoff, 1, 0)\n",
    "\n",
    "train_precision = precision_score(y_train, y_pred_train)\n",
    "test_precision = precision_score(y_test, y_pred_test)\n",
    "\n",
    "train_recall = recall_score(y_train, y_pred_train)\n",
    "test_recall = recall_score(y_test, y_pred_test)\n",
    "\n",
    "print(f'Train Precision: {train_precision}')\n",
    "print(f'Test Precision: {test_precision}')\n",
    "print(f'Train Recall: {train_recall}')\n",
    "print(f'Test Recall: {test_recall}')"
   ]
  }
 ],
 "metadata": {
  "kernelspec": {
   "display_name": "Python 3 (ipykernel)",
   "language": "python",
   "name": "python3"
  },
  "language_info": {
   "codemirror_mode": {
    "name": "ipython",
    "version": 3
   },
   "file_extension": ".py",
   "mimetype": "text/x-python",
   "name": "python",
   "nbconvert_exporter": "python",
   "pygments_lexer": "ipython3",
   "version": "3.9.13"
  }
 },
 "nbformat": 4,
 "nbformat_minor": 5
}
