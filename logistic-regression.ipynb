{
 "cells": [
  {
   "cell_type": "markdown",
   "id": "b7bd8e0a-ff3b-407a-8933-8eddd65c767a",
   "metadata": {},
   "source": [
    "# Logistic Regression and Feature Selection"
   ]
  },
  {
   "cell_type": "code",
   "execution_count": 2,
   "id": "787d7b52-3507-47bc-9259-05f620bc339b",
   "metadata": {},
   "outputs": [],
   "source": [
    "import pandas as pd\n",
    "import numpy as np\n",
    "from sklearn.pipeline import Pipeline\n",
    "from sklearn.preprocessing import StandardScaler\n",
    "from sklearn.linear_model import LogisticRegression\n",
    "from sklearn.model_selection import GridSearchCV\n",
    "from sklearn.model_selection import KFold\n",
    "import statsmodels.api as sm\n",
    "from sklearn.metrics import auc\n",
    "from sklearn.metrics import precision_recall_curve\n",
    "from sklearn.metrics import precision_score\n",
    "from sklearn.metrics import recall_score\n",
    "from sklearn.metrics import fbeta_score\n",
    "import matplotlib.pyplot as plt\n",
    "import warnings\n",
    "warnings.filterwarnings('ignore')"
   ]
  },
  {
   "cell_type": "code",
   "execution_count": 3,
   "id": "84b780cc-1074-4000-bffb-dc63a3a8674c",
   "metadata": {},
   "outputs": [],
   "source": [
    "# Load data\n",
    "train = pd.read_csv('train.csv')\n",
    "test = pd.read_csv('test.csv')\n",
    "\n",
    "X_train = train.drop(columns='died')\n",
    "X_test = test.drop(columns='died')\n",
    "y_train = train.died\n",
    "y_test = test.died"
   ]
  },
  {
   "cell_type": "markdown",
   "id": "40f6a1a5-0487-45b7-ad10-7bc5b945e218",
   "metadata": {},
   "source": [
    "We will use logistic regression as a baseline using attributes from the patient baseline table including variables related to patient demographics and admission and discharge details for the ICU stay. Then, we will progressively add subsets of variables to see if there is any improvement."
   ]
  },
  {
   "cell_type": "markdown",
   "id": "ac6d1419-5edc-4c60-82a3-fee9ba8da6be",
   "metadata": {},
   "source": [
    "### Baseline Logistic Regression Model with patient variables"
   ]
  },
  {
   "cell_type": "code",
   "execution_count": 4,
   "id": "af37e594-91e0-4f64-8036-415273b33080",
   "metadata": {},
   "outputs": [],
   "source": [
    "X_train_patient = X_train.iloc[:, np.r_[0:5, 95:195, 203]]\n",
    "X_test_patient = X_test.iloc[:, np.r_[0:5, 95:195, 203]]"
   ]
  },
  {
   "cell_type": "code",
   "execution_count": 5,
   "id": "fa0eb47d-ffdc-4b04-af6a-031b5bdc00f2",
   "metadata": {},
   "outputs": [
    {
     "name": "stdout",
     "output_type": "stream",
     "text": [
      "0.29\n",
      "0.275\n"
     ]
    }
   ],
   "source": [
    "lr_base = LogisticRegression(penalty='none',\n",
    "                             max_iter=1000).fit(X_train_patient, y_train)\n",
    "\n",
    "train_precision, train_recall, _ = (\n",
    "    precision_recall_curve(y_train, lr_base.predict_proba(X_train_patient)[:, 1])\n",
    ")\n",
    "test_precision, test_recall, _ = (\n",
    "    precision_recall_curve(y_test, lr_base.predict_proba(X_test_patient)[:, 1])\n",
    ")\n",
    "\n",
    "train_auprc = auc(train_recall, train_precision)\n",
    "test_auprc = auc(test_recall, test_precision)\n",
    "\n",
    "print(round(train_auprc, 3))\n",
    "print(round(test_auprc, 3))"
   ]
  },
  {
   "cell_type": "markdown",
   "id": "1ec2ad7c-c0dc-4306-9b73-c6a29887996f",
   "metadata": {},
   "source": [
    "### Logistic Regression with APACHE prediction data and data on other patient conditions added"
   ]
  },
  {
   "cell_type": "code",
   "execution_count": 33,
   "id": "3eaffa74-763e-4907-82fb-3c0596ae5164",
   "metadata": {},
   "outputs": [],
   "source": [
    "X_train_2 = X_train.iloc[:, np.r_[0:30, 95:195, 203]]\n",
    "X_test_2 = X_test.iloc[:, np.r_[0:30, 95:195, 203]]"
   ]
  },
  {
   "cell_type": "code",
   "execution_count": 35,
   "id": "120a5e09-f81a-43e6-a3f6-f6a5c0b6484d",
   "metadata": {},
   "outputs": [
    {
     "name": "stdout",
     "output_type": "stream",
     "text": [
      "0.448\n",
      "0.411\n"
     ]
    }
   ],
   "source": [
    "lr_mod_2 = LogisticRegression(penalty='none',\n",
    "                              max_iter=1000).fit(X_train_2, y_train)\n",
    "\n",
    "train_precision, train_recall, _ = (\n",
    "    precision_recall_curve(y_train, lr_mod_2.predict_proba(X_train_2)[:, 1])\n",
    ")\n",
    "test_precision, test_recall, _ = (\n",
    "    precision_recall_curve(y_test, lr_mod_2.predict_proba(X_test_2)[:, 1])\n",
    ")\n",
    "\n",
    "train_auprc = auc(train_recall, train_precision)\n",
    "test_auprc = auc(test_recall, test_precision)\n",
    "\n",
    "print(round(train_auprc, 3))\n",
    "print(round(test_auprc, 3))"
   ]
  },
  {
   "cell_type": "markdown",
   "id": "75393985-05ff-4cdf-914a-13df085c8350",
   "metadata": {},
   "source": [
    "### Logistic Regression with hospital attributes added"
   ]
  },
  {
   "cell_type": "code",
   "execution_count": 37,
   "id": "4682a2a9-4dba-46db-9bf4-8d426bd28b37",
   "metadata": {},
   "outputs": [],
   "source": [
    "X_train_3 = X_train.iloc[:, np.r_[0:31, 95:203]]\n",
    "X_test_3 = X_test.iloc[:, np.r_[0:31, 95:203]]"
   ]
  },
  {
   "cell_type": "code",
   "execution_count": 38,
   "id": "c48f2c7e-60e0-49e7-bcc6-d2a6b0f8e875",
   "metadata": {},
   "outputs": [
    {
     "name": "stdout",
     "output_type": "stream",
     "text": [
      "0.394\n",
      "0.39\n"
     ]
    }
   ],
   "source": [
    "lr_mod_3 = LogisticRegression(penalty='none').fit(X_train_3, y_train)\n",
    "\n",
    "train_precision, train_recall, _ = (\n",
    "    precision_recall_curve(y_train, lr_mod_3.predict_proba(X_train_3)[:, 1])\n",
    ")\n",
    "test_precision, test_recall, _ = (\n",
    "    precision_recall_curve(y_test, lr_mod_3.predict_proba(X_test_3)[:, 1])\n",
    ")\n",
    "\n",
    "train_auprc = auc(train_recall, train_precision)\n",
    "test_auprc = auc(test_recall, test_precision)\n",
    "\n",
    "print(round(train_auprc, 3))\n",
    "print(round(test_auprc, 3))"
   ]
  },
  {
   "cell_type": "markdown",
   "id": "bf69b534-44da-4fad-ac1d-17146a54e12c",
   "metadata": {},
   "source": [
    "### Logistic Regression with drug attribute (number of infusions) added"
   ]
  },
  {
   "cell_type": "code",
   "execution_count": 39,
   "id": "3a2fff1c-bbba-4b81-92bb-7c5fdf2e9661",
   "metadata": {},
   "outputs": [],
   "source": [
    "X_train_4 = X_train.iloc[:, np.r_[0:32, 95:203]]\n",
    "X_test_4 = X_test.iloc[:, np.r_[0:32, 95:203]]"
   ]
  },
  {
   "cell_type": "code",
   "execution_count": 40,
   "id": "f2608580-7c63-4ee3-b7af-41403025e01a",
   "metadata": {},
   "outputs": [
    {
     "name": "stdout",
     "output_type": "stream",
     "text": [
      "0.395\n",
      "0.382\n"
     ]
    }
   ],
   "source": [
    "lr_mod_4 = LogisticRegression(penalty='none').fit(X_train_4, y_train)\n",
    "\n",
    "train_precision, train_recall, _ = (\n",
    "    precision_recall_curve(y_train, lr_mod_4.predict_proba(X_train_4)[:, 1])\n",
    ")\n",
    "test_precision, test_recall, _ = (\n",
    "    precision_recall_curve(y_test, lr_mod_4.predict_proba(X_test_4)[:, 1])\n",
    ")\n",
    "\n",
    "train_auprc = auc(train_recall, train_precision)\n",
    "test_auprc = auc(test_recall, test_precision)\n",
    "\n",
    "print(round(train_auprc, 3))\n",
    "print(round(test_auprc, 3))"
   ]
  },
  {
   "cell_type": "markdown",
   "id": "a63238cb-fcd4-40fb-bf25-57712542f405",
   "metadata": {},
   "source": [
    "### Logistic Regression with lab result data"
   ]
  },
  {
   "cell_type": "code",
   "execution_count": 42,
   "id": "fb2bb16d-a366-4294-a88c-7b0d152e61e9",
   "metadata": {},
   "outputs": [],
   "source": [
    "X_train_5 = X_train.iloc[:, np.r_[0:77, 95:203]]\n",
    "X_test_5 = X_test.iloc[:, np.r_[0:77, 95:203]]"
   ]
  },
  {
   "cell_type": "code",
   "execution_count": 43,
   "id": "dfa609d5-639e-4027-9c92-7e3486e8e951",
   "metadata": {},
   "outputs": [
    {
     "name": "stdout",
     "output_type": "stream",
     "text": [
      "0.405\n",
      "0.383\n"
     ]
    }
   ],
   "source": [
    "lr_mod_5 = LogisticRegression(penalty='none').fit(X_train_5, y_train)\n",
    "\n",
    "train_precision, train_recall, _ = (\n",
    "    precision_recall_curve(y_train, lr_mod_5.predict_proba(X_train_5)[:, 1])\n",
    ")\n",
    "test_precision, test_recall, _ = (\n",
    "    precision_recall_curve(y_test, lr_mod_5.predict_proba(X_test_5)[:, 1])\n",
    ")\n",
    "\n",
    "train_auprc = auc(train_recall, train_precision)\n",
    "test_auprc = auc(test_recall, test_precision)\n",
    "\n",
    "print(round(train_auprc, 3))\n",
    "print(round(test_auprc, 3))"
   ]
  },
  {
   "cell_type": "markdown",
   "id": "c3338208-4aa2-4684-8bc8-cbd3c3ee4add",
   "metadata": {},
   "source": [
    "### Logistic Regression with respiratory charting data added"
   ]
  },
  {
   "cell_type": "code",
   "execution_count": 45,
   "id": "675a1746-e4ec-4e72-8971-e8f56eafd960",
   "metadata": {},
   "outputs": [],
   "source": [
    "X_train_6 = X_train.iloc[:, np.r_[0:77, 83:86, 95:203]]\n",
    "X_test_6 = X_test.iloc[:, np.r_[0:77, 83:86, 95:203]]"
   ]
  },
  {
   "cell_type": "code",
   "execution_count": 46,
   "id": "210f4ed5-0db9-469a-adde-8e7ece4c29cb",
   "metadata": {},
   "outputs": [
    {
     "name": "stdout",
     "output_type": "stream",
     "text": [
      "0.412\n",
      "0.38\n"
     ]
    }
   ],
   "source": [
    "lr_mod_6 = LogisticRegression(penalty='none').fit(X_train_6, y_train)\n",
    "\n",
    "train_precision, train_recall, _ = (\n",
    "    precision_recall_curve(y_train, lr_mod_6.predict_proba(X_train_6)[:, 1])\n",
    ")\n",
    "test_precision, test_recall, _ = (\n",
    "    precision_recall_curve(y_test, lr_mod_6.predict_proba(X_test_6)[:, 1])\n",
    ")\n",
    "\n",
    "train_auprc = auc(train_recall, train_precision)\n",
    "test_auprc = auc(test_recall, test_precision)\n",
    "\n",
    "print(round(train_auprc, 3))\n",
    "print(round(test_auprc, 3))"
   ]
  },
  {
   "cell_type": "markdown",
   "id": "8054178e-be5e-4847-aa37-26417d948893",
   "metadata": {},
   "source": [
    "### Logistic Regression with vital sign data added"
   ]
  },
  {
   "cell_type": "code",
   "execution_count": 8,
   "id": "9a582fd7-c98f-485f-a57a-3e6797f0c562",
   "metadata": {},
   "outputs": [
    {
     "name": "stdout",
     "output_type": "stream",
     "text": [
      "0.529\n",
      "0.477\n"
     ]
    }
   ],
   "source": [
    "lr_mod_7 = LogisticRegression(penalty='none',\n",
    "                              max_iter=1000).fit(X_train, y_train)\n",
    "\n",
    "train_precision, train_recall, _ = (\n",
    "    precision_recall_curve(y_train, lr_mod_7.predict_proba(X_train)[:, 1])\n",
    ")\n",
    "test_precision, test_recall, _ = (\n",
    "    precision_recall_curve(y_test, lr_mod_7.predict_proba(X_test)[:, 1])\n",
    ")\n",
    "\n",
    "train_auprc = auc(train_recall, train_precision)\n",
    "test_auprc = auc(test_recall, test_precision)\n",
    "\n",
    "print(round(train_auprc, 3))\n",
    "print(round(test_auprc, 3))"
   ]
  },
  {
   "cell_type": "markdown",
   "id": "1d89079e-da1c-49ef-a8ce-122447132790",
   "metadata": {},
   "source": [
    "### Logistic Regression with lasso penalty"
   ]
  },
  {
   "cell_type": "code",
   "execution_count": 15,
   "id": "142a582f-7a20-46f3-8fba-409dd36a00d7",
   "metadata": {},
   "outputs": [
    {
     "name": "stdout",
     "output_type": "stream",
     "text": [
      "0.565\n",
      "0.501\n"
     ]
    }
   ],
   "source": [
    "# Set up k-fold validation set\n",
    "k_folds = KFold(n_splits=5, shuffle=True, random_state=670)\n",
    "splits = list(k_folds.split(X_train, y_train))\n",
    "\n",
    "param_grid = {'logit__C': [0.001, 0.01, 0.1, 1, 10, 100]}\n",
    "    \n",
    "components = [('scaler', StandardScaler()), \n",
    "              ('logit', LogisticRegression(penalty='l1',\n",
    "                                           solver='liblinear'))]\n",
    "\n",
    "pipe = Pipeline(components)\n",
    "grid = GridSearchCV(pipe, param_grid, cv=splits, scoring='average_precision')\n",
    "\n",
    "grid.fit(X_train, y_train)\n",
    "\n",
    "train_auprc = grid.score(X_train, y_train)\n",
    "test_auprc = grid.score(X_test, y_test)\n",
    "print(round(train_auprc, 3))\n",
    "print(round(test_auprc, 3))"
   ]
  },
  {
   "cell_type": "code",
   "execution_count": 64,
   "id": "b491852f-8459-4e11-aec2-51a160788cd0",
   "metadata": {},
   "outputs": [
    {
     "name": "stdout",
     "output_type": "stream",
     "text": [
      "['admissionweight' 'dischargeweight' 'icuduration'\n",
      " 'weightdiffafterdischarge' 'intubated' 'vent' 'dialysis' 'urine' 'wbc'\n",
      " 'temperature' 'respiratoryrate' 'sodium' 'heartrate' 'meanbp' 'ph'\n",
      " 'albumin' 'glucose' 'bilirubin' 'fio2' 'pao2' 'pco2' 'bun'\n",
      " 'meanapachescore' 'meanpredictedicumortality' 'meanpredictediculos'\n",
      " 'meanventdays' 'immunosuppression' 'diabetes' 'numberofinfusions'\n",
      " 'lab_mean_ALT (SGPT)' 'lab_mean_AST (SGOT)' 'lab_mean_BUN'\n",
      " 'lab_mean_Base Excess' 'lab_mean_FiO2' 'lab_mean_Hct' 'lab_mean_Hgb'\n",
      " 'lab_mean_MCH' 'lab_mean_MPV' 'lab_mean_O2 Sat (%)' 'lab_mean_PT'\n",
      " 'lab_mean_PTT' 'lab_mean_RDW' 'lab_mean_WBC x 1000' 'lab_mean_albumin'\n",
      " 'lab_mean_alkaline phos.' 'lab_mean_anion gap' 'lab_mean_bicarbonate'\n",
      " 'lab_mean_calcium' 'lab_mean_chloride' 'lab_mean_creatinine'\n",
      " 'lab_mean_eos' 'lab_mean_glucose' 'lab_mean_lactate' 'lab_mean_lymphs'\n",
      " 'lab_mean_magnesium' 'lab_mean_monos' 'lab_mean_pH' 'lab_mean_paO2'\n",
      " 'lab_mean_phosphate' 'lab_mean_platelets x 1000' 'lab_mean_polys'\n",
      " 'lab_mean_potassium' 'lab_mean_sodium' 'lab_mean_total bilirubin'\n",
      " 'lab_mean_total protein' 'lab_mean_urinary specific gravity'\n",
      " 'sao2_roll_mean' 'heartrate_roll_mean' 'respiration_roll_mean'\n",
      " 'st3_roll_mean' 'resp_mean_FiO2' 'resp_mean_PEEP'\n",
      " 'resp_mean_RR (patient)' 'aperiodic_minnoninvasivesystolic'\n",
      " 'aperiodic_meannoninvasivesystolic' 'aperiodic_maxnoninvasivesystolic'\n",
      " 'aperiodic_meannoninvasivediastolic' 'aperiodic_maxnoninvasivediastolic'\n",
      " 'aperiodic_noninvasivemeanmin' 'aperiodic_noninvasivemeanavg' 'age0-9'\n",
      " 'age10-19' 'age20-29' 'age30-39' 'age40-49' 'age50-59' 'age60-69'\n",
      " 'age70-79' 'age>89' 'gendermale' 'ethnicity_African American'\n",
      " 'ethnicity_Asian' 'ethnicity_Native American' 'ethnicity_Other/Unknown'\n",
      " 'apacheadmissiondx_ARDS-adult respiratory distress syndrome, non-cardiogenic pulmonary edema'\n",
      " 'apacheadmissiondx_Arrest, respiratory (without cardiac arrest)'\n",
      " 'apacheadmissiondx_Asthma' 'apacheadmissiondx_Atelectasis'\n",
      " 'apacheadmissiondx_Biopsy, open lung'\n",
      " 'apacheadmissiondx_Cancer, laryngeal' 'apacheadmissiondx_Cancer, lung'\n",
      " 'apacheadmissiondx_Cancer, oral/sinus, surgery for'\n",
      " 'apacheadmissiondx_Emphysema/bronchitis'\n",
      " 'apacheadmissiondx_Facial surgery (if related to trauma, see Trauma)'\n",
      " 'apacheadmissiondx_Hemothorax'\n",
      " 'apacheadmissiondx_Hypertension-pulmonary, primary/idiopathic'\n",
      " 'apacheadmissiondx_Infection/abscess, other surgery for'\n",
      " 'apacheadmissiondx_Near drowning accident'\n",
      " 'apacheadmissiondx_Obstruction-airway (i.e., acute epiglottitis, post-extubation edema, foreign body, etc)'\n",
      " 'apacheadmissiondx_Pneumonia, aspiration'\n",
      " 'apacheadmissiondx_Pneumonia, bacterial'\n",
      " 'apacheadmissiondx_Pneumonia, parasitic (i.e., Pneumocystic pneumonia)'\n",
      " 'apacheadmissiondx_Pneumonia, viral' 'apacheadmissiondx_Pneumothorax'\n",
      " 'apacheadmissiondx_Respiratory - medical, other'\n",
      " 'apacheadmissiondx_Restrictive lung disease (i.e., Sarcoidosis, pulmonary fibrosis)'\n",
      " 'apacheadmissiondx_Thoracotomy for benign tumor (i.e. mediastinal chest wall mass, thymectomy)'\n",
      " 'apacheadmissiondx_Thoracotomy for bronchopleural fistula'\n",
      " 'apacheadmissiondx_Thoracotomy for esophageal cancer'\n",
      " 'apacheadmissiondx_Thoracotomy for lung reduction'\n",
      " 'apacheadmissiondx_Thoracotomy for other malignancy in chest'\n",
      " 'apacheadmissiondx_Thoracotomy for other reasons'\n",
      " 'apacheadmissiondx_Thoracotomy for pleural disease'\n",
      " 'apacheadmissiondx_Thoracotomy for thoracic/respiratory infection'\n",
      " 'apacheadmissiondx_Tracheostomy'\n",
      " 'apacheadmissiondx_Weaning from mechanical ventilation (transfer from other unit or hospital only)'\n",
      " 'hospitaladmitsource_Chest Pain Center' 'hospitaladmitsource_Floor'\n",
      " 'hospitaladmitsource_ICU' 'hospitaladmitsource_ICU to SDU'\n",
      " 'hospitaladmitsource_Operating Room' 'hospitaladmitsource_Other Hospital'\n",
      " 'hospitaladmitsource_Other ICU'\n",
      " 'hospitaladmitsource_Step-Down Unit (SDU)' 'unittype_CCU-CTICU'\n",
      " 'unittype_CSICU' 'unittype_CTICU' 'unittype_Cardiac ICU' 'unittype_MICU'\n",
      " 'unittype_Med-Surg ICU' 'unittype_Neuro ICU'\n",
      " 'unitadmitsource_Acute Care/Floor' 'unitadmitsource_Emergency Department'\n",
      " 'unitadmitsource_Floor' 'unitadmitsource_ICU to SDU'\n",
      " 'unitadmitsource_Operating Room' 'unitadmitsource_Other ICU'\n",
      " 'unitadmitsource_Recovery Room' 'numbedscategory_100 - 249'\n",
      " 'numbedscategory_<100' 'hospitalregion_Midwest' 'hospitalregion_South'\n",
      " 'dischargehour8-14']\n",
      "['admissionheight' 'creatinine' 'teachingstatus' 'lab_mean_HCO3'\n",
      " 'lab_mean_MCHC' 'lab_mean_MCV' 'lab_mean_PT - INR' 'lab_mean_RBC'\n",
      " 'lab_mean_basos' 'lab_mean_bedside glucose' 'lab_mean_paCO2'\n",
      " 'st1_roll_mean' 'st2_roll_mean' 'aperiodic_minnoninvasivediastolic'\n",
      " 'aperiodic_noninvasivemeanmax' 'ethnicity_Caucasian' 'ethnicity_Hispanic'\n",
      " 'apacheadmissiondx_Apnea, sleep'\n",
      " 'apacheadmissiondx_Apnea-sleep; surgery for (i.e., UPPP - uvulopalatopharyngoplasty)'\n",
      " 'apacheadmissiondx_Bullectomy' 'apacheadmissiondx_Cancer, oral'\n",
      " 'apacheadmissiondx_Cancer, tracheal'\n",
      " 'apacheadmissiondx_Cancer-laryngeal/tracheal, surgery for'\n",
      " 'apacheadmissiondx_Effusions, pleural'\n",
      " 'apacheadmissiondx_Embolus, pulmonary'\n",
      " 'apacheadmissiondx_Hemorrhage/hemoptysis, pulmonary'\n",
      " 'apacheadmissiondx_Pneumonia, fungal'\n",
      " 'apacheadmissiondx_Pneumonia, other'\n",
      " 'apacheadmissiondx_Respiratory surgery, other'\n",
      " 'apacheadmissiondx_Smoke inhalation'\n",
      " 'apacheadmissiondx_Thoracotomy for lung cancer'\n",
      " 'hospitaladmitsource_Acute Care/Floor' 'hospitaladmitsource_Direct Admit'\n",
      " 'hospitaladmitsource_Emergency Department'\n",
      " 'hospitaladmitsource_Observation' 'hospitaladmitsource_Other'\n",
      " 'hospitaladmitsource_PACU' 'hospitaladmitsource_Recovery Room'\n",
      " 'unittype_SICU' 'unitadmitsource_Chest Pain Center'\n",
      " 'unitadmitsource_Direct Admit' 'unitadmitsource_ICU'\n",
      " 'unitadmitsource_Observation' 'unitadmitsource_Other'\n",
      " 'unitadmitsource_Other Hospital' 'unitadmitsource_PACU'\n",
      " 'unitadmitsource_Step-Down Unit (SDU)' 'numbedscategory_250 - 499'\n",
      " 'numbedscategory_>= 500' 'hospitalregion_Northeast' 'hospitalregion_West']\n"
     ]
    }
   ],
   "source": [
    "# Get variables with zero and non-zero coefficients from LASSO\n",
    "coefficients = grid.best_estimator_.named_steps['logit'].coef_\n",
    "importance = np.abs(coefficients[0])\n",
    "non_zero_vars = np.array(X_train.columns)[importance > 0]\n",
    "non_zero_vars2 = np.array(X_train.columns)[importance > 0]\n",
    "zero_vars = np.array(X_train.columns)[importance == 0]\n",
    "\n",
    "print(non_zero_vars)\n",
    "print(zero_vars)"
   ]
  },
  {
   "cell_type": "markdown",
   "id": "753c0fd7-af56-41d3-8df9-632956dd5241",
   "metadata": {},
   "source": [
    "### Evaluate final model"
   ]
  },
  {
   "cell_type": "code",
   "execution_count": 9,
   "id": "8dab1beb-2f2e-4d4e-9dbe-745447aca814",
   "metadata": {},
   "outputs": [],
   "source": [
    "# Create function to compute optimal F-beta score using threshold tuning\n",
    "def compute_metrics(y_pred_prob, y_true):\n",
    "    \n",
    "    thresholds = np.arange(0, 1.01, 0.01)\n",
    "    results = pd.DataFrame(columns=['threshold', 'precision', 'recall', \n",
    "                                    'f-score'])\n",
    "    \n",
    "    for threshold in thresholds:\n",
    "        y_pred = np.where(y_pred_prob >= threshold, 1, 0)\n",
    "          \n",
    "        # Compute precision\n",
    "        precision = precision_score(y_true, y_pred)\n",
    "        \n",
    "        # Compute recall\n",
    "        recall = recall_score(y_true, y_pred)\n",
    "        \n",
    "        # Compute F-beta score\n",
    "        f_score = fbeta_score(y_true, y_pred, beta=2)\n",
    "        \n",
    "        results = results.append({'threshold': threshold,\n",
    "                                  'precision': precision,\n",
    "                                  'recall': recall,\n",
    "                                  'f-score': f_score}, \n",
    "                                 ignore_index=True)\n",
    "        \n",
    "    return results.loc[results['f-score'] == results['f-score'].max(), :]"
   ]
  },
  {
   "cell_type": "code",
   "execution_count": 10,
   "id": "bc7433f3-8209-4515-a632-f618c2f71702",
   "metadata": {},
   "outputs": [
    {
     "name": "stdout",
     "output_type": "stream",
     "text": [
      "    threshold  precision    recall   f-score\n",
      "11       0.11   0.212001  0.775949  0.506486\n",
      "    threshold  precision  recall   f-score\n",
      "10        0.1   0.199262     0.8  0.499076\n"
     ]
    }
   ],
   "source": [
    "# Baseline Model with patient variables\n",
    "train_pred_probs = lr_base.predict_proba(X_train_patient)[:, 1]\n",
    "test_pred_probs = lr_base.predict_proba(X_test_patient)[:, 1]\n",
    "\n",
    "train_results = compute_metrics(train_pred_probs, y_train)\n",
    "test_results = compute_metrics(test_pred_probs, y_test)\n",
    "\n",
    "print(train_results)\n",
    "print(test_results)"
   ]
  },
  {
   "cell_type": "code",
   "execution_count": 16,
   "id": "1cc2422d-9b5c-4e02-b9c2-a9972197b073",
   "metadata": {},
   "outputs": [
    {
     "name": "stdout",
     "output_type": "stream",
     "text": [
      "    threshold  precision    recall   f-score\n",
      "14       0.14   0.354905  0.760127  0.618817\n",
      "    threshold  precision    recall   f-score\n",
      "11       0.11   0.305052  0.790123  0.599475\n"
     ]
    }
   ],
   "source": [
    "# Logistic Regression with lasso penalty\n",
    "train_pred_probs = grid.predict_proba(X_train)[:, 1]\n",
    "test_pred_probs = grid.predict_proba(X_test)[:, 1]\n",
    "\n",
    "train_results = compute_metrics(train_pred_probs, y_train)\n",
    "test_results = compute_metrics(test_pred_probs, y_test)\n",
    "\n",
    "print(train_results)\n",
    "print(test_results)"
   ]
  }
 ],
 "metadata": {
  "kernelspec": {
   "display_name": "Python 3 (ipykernel)",
   "language": "python",
   "name": "python3"
  },
  "language_info": {
   "codemirror_mode": {
    "name": "ipython",
    "version": 3
   },
   "file_extension": ".py",
   "mimetype": "text/x-python",
   "name": "python",
   "nbconvert_exporter": "python",
   "pygments_lexer": "ipython3",
   "version": "3.9.13"
  }
 },
 "nbformat": 4,
 "nbformat_minor": 5
}
