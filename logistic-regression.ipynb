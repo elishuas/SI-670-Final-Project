{
 "cells": [
  {
   "cell_type": "markdown",
   "id": "b7bd8e0a-ff3b-407a-8933-8eddd65c767a",
   "metadata": {},
   "source": [
    "# Logistic Regression and Feature Selection"
   ]
  },
  {
   "cell_type": "code",
   "execution_count": 37,
   "id": "787d7b52-3507-47bc-9259-05f620bc339b",
   "metadata": {},
   "outputs": [],
   "source": [
    "import pandas as pd\n",
    "import numpy as np\n",
    "from sklearn.pipeline import Pipeline\n",
    "from sklearn.preprocessing import StandardScaler\n",
    "from sklearn.linear_model import LogisticRegression\n",
    "from sklearn.model_selection import GridSearchCV\n",
    "from sklearn.model_selection import KFold\n",
    "from sklearn.dummy import DummyClassifier\n",
    "import matplotlib.pyplot as plt\n",
    "from evaluation_utils import *\n",
    "import warnings\n",
    "warnings.filterwarnings('ignore')"
   ]
  },
  {
   "cell_type": "code",
   "execution_count": 11,
   "id": "84b780cc-1074-4000-bffb-dc63a3a8674c",
   "metadata": {},
   "outputs": [],
   "source": [
    "# Load data\n",
    "train = pd.read_csv('train.csv')\n",
    "test = pd.read_csv('test.csv')\n",
    "\n",
    "X_train = train.drop(columns='died')\n",
    "X_test = test.drop(columns='died')\n",
    "y_train = train.died\n",
    "y_test = test.died"
   ]
  },
  {
   "cell_type": "markdown",
   "id": "40f6a1a5-0487-45b7-ad10-7bc5b945e218",
   "metadata": {},
   "source": [
    "We will use logistic regression as a baseline using attributes from the patient baseline table including variables related to patient demographics and admission and discharge details for the ICU stay. Then, we will progressively add subsets of variables to see if there is any improvement."
   ]
  },
  {
   "cell_type": "markdown",
   "id": "ac6d1419-5edc-4c60-82a3-fee9ba8da6be",
   "metadata": {},
   "source": [
    "### Baseline Logistic Regression Model with patient variables"
   ]
  },
  {
   "cell_type": "code",
   "execution_count": 18,
   "id": "af37e594-91e0-4f64-8036-415273b33080",
   "metadata": {},
   "outputs": [],
   "source": [
    "X_train_patient = X_train.iloc[:, np.r_[0:5, 128:228, 236]]\n",
    "X_test_patient = X_test.iloc[:, np.r_[0:5, 128:228, 236]]"
   ]
  },
  {
   "cell_type": "code",
   "execution_count": 19,
   "id": "fa0eb47d-ffdc-4b04-af6a-031b5bdc00f2",
   "metadata": {},
   "outputs": [
    {
     "name": "stdout",
     "output_type": "stream",
     "text": [
      "0.29\n",
      "0.275\n"
     ]
    }
   ],
   "source": [
    "lr_base = LogisticRegression(penalty='none',\n",
    "                             max_iter=1000).fit(X_train_patient, y_train)\n",
    "\n",
    "train_precision, train_recall, _ = (\n",
    "    precision_recall_curve(y_train, lr_base.predict_proba(X_train_patient)[:, 1])\n",
    ")\n",
    "test_precision, test_recall, _ = (\n",
    "    precision_recall_curve(y_test, lr_base.predict_proba(X_test_patient)[:, 1])\n",
    ")\n",
    "\n",
    "train_auprc = auc(train_recall, train_precision)\n",
    "test_auprc = auc(test_recall, test_precision)\n",
    "\n",
    "print(round(train_auprc, 3))\n",
    "print(round(test_auprc, 3))"
   ]
  },
  {
   "cell_type": "markdown",
   "id": "1ec2ad7c-c0dc-4306-9b73-c6a29887996f",
   "metadata": {},
   "source": [
    "### Logistic Regression with APACHE prediction data and data on other patient conditions added"
   ]
  },
  {
   "cell_type": "code",
   "execution_count": 20,
   "id": "3eaffa74-763e-4907-82fb-3c0596ae5164",
   "metadata": {},
   "outputs": [],
   "source": [
    "X_train_2 = X_train.iloc[:, np.r_[0:30, 128:228, 236]]\n",
    "X_test_2 = X_test.iloc[:, np.r_[0:30, 128:228, 236]]"
   ]
  },
  {
   "cell_type": "code",
   "execution_count": 21,
   "id": "120a5e09-f81a-43e6-a3f6-f6a5c0b6484d",
   "metadata": {},
   "outputs": [
    {
     "name": "stdout",
     "output_type": "stream",
     "text": [
      "0.448\n",
      "0.411\n"
     ]
    }
   ],
   "source": [
    "lr_mod_2 = LogisticRegression(penalty='none',\n",
    "                              max_iter=1000).fit(X_train_2, y_train)\n",
    "\n",
    "train_precision, train_recall, _ = (\n",
    "    precision_recall_curve(y_train, lr_mod_2.predict_proba(X_train_2)[:, 1])\n",
    ")\n",
    "test_precision, test_recall, _ = (\n",
    "    precision_recall_curve(y_test, lr_mod_2.predict_proba(X_test_2)[:, 1])\n",
    ")\n",
    "\n",
    "train_auprc = auc(train_recall, train_precision)\n",
    "test_auprc = auc(test_recall, test_precision)\n",
    "\n",
    "print(round(train_auprc, 3))\n",
    "print(round(test_auprc, 3))"
   ]
  },
  {
   "cell_type": "markdown",
   "id": "75393985-05ff-4cdf-914a-13df085c8350",
   "metadata": {},
   "source": [
    "### Logistic Regression with hospital attributes added"
   ]
  },
  {
   "cell_type": "code",
   "execution_count": 22,
   "id": "4682a2a9-4dba-46db-9bf4-8d426bd28b37",
   "metadata": {},
   "outputs": [],
   "source": [
    "X_train_3 = X_train.iloc[:, np.r_[0:31, 128:237]]\n",
    "X_test_3 = X_test.iloc[:, np.r_[0:31, 128:237]]"
   ]
  },
  {
   "cell_type": "code",
   "execution_count": 23,
   "id": "c48f2c7e-60e0-49e7-bcc6-d2a6b0f8e875",
   "metadata": {},
   "outputs": [
    {
     "name": "stdout",
     "output_type": "stream",
     "text": [
      "0.394\n",
      "0.388\n"
     ]
    }
   ],
   "source": [
    "lr_mod_3 = LogisticRegression(penalty='none').fit(X_train_3, y_train)\n",
    "\n",
    "train_precision, train_recall, _ = (\n",
    "    precision_recall_curve(y_train, lr_mod_3.predict_proba(X_train_3)[:, 1])\n",
    ")\n",
    "test_precision, test_recall, _ = (\n",
    "    precision_recall_curve(y_test, lr_mod_3.predict_proba(X_test_3)[:, 1])\n",
    ")\n",
    "\n",
    "train_auprc = auc(train_recall, train_precision)\n",
    "test_auprc = auc(test_recall, test_precision)\n",
    "\n",
    "print(round(train_auprc, 3))\n",
    "print(round(test_auprc, 3))"
   ]
  },
  {
   "cell_type": "markdown",
   "id": "bf69b534-44da-4fad-ac1d-17146a54e12c",
   "metadata": {},
   "source": [
    "### Logistic Regression with drug attribute (number of infusions) added"
   ]
  },
  {
   "cell_type": "code",
   "execution_count": 24,
   "id": "3a2fff1c-bbba-4b81-92bb-7c5fdf2e9661",
   "metadata": {},
   "outputs": [],
   "source": [
    "X_train_4 = X_train.iloc[:, np.r_[0:32, 128:237]]\n",
    "X_test_4 = X_test.iloc[:, np.r_[0:32, 128:237]]"
   ]
  },
  {
   "cell_type": "code",
   "execution_count": 25,
   "id": "f2608580-7c63-4ee3-b7af-41403025e01a",
   "metadata": {},
   "outputs": [
    {
     "name": "stdout",
     "output_type": "stream",
     "text": [
      "0.397\n",
      "0.386\n"
     ]
    }
   ],
   "source": [
    "lr_mod_4 = LogisticRegression(penalty='none').fit(X_train_4, y_train)\n",
    "\n",
    "train_precision, train_recall, _ = (\n",
    "    precision_recall_curve(y_train, lr_mod_4.predict_proba(X_train_4)[:, 1])\n",
    ")\n",
    "test_precision, test_recall, _ = (\n",
    "    precision_recall_curve(y_test, lr_mod_4.predict_proba(X_test_4)[:, 1])\n",
    ")\n",
    "\n",
    "train_auprc = auc(train_recall, train_precision)\n",
    "test_auprc = auc(test_recall, test_precision)\n",
    "\n",
    "print(round(train_auprc, 3))\n",
    "print(round(test_auprc, 3))"
   ]
  },
  {
   "cell_type": "markdown",
   "id": "a63238cb-fcd4-40fb-bf25-57712542f405",
   "metadata": {},
   "source": [
    "### Logistic Regression with lab result data"
   ]
  },
  {
   "cell_type": "code",
   "execution_count": 26,
   "id": "fb2bb16d-a366-4294-a88c-7b0d152e61e9",
   "metadata": {},
   "outputs": [],
   "source": [
    "X_train_5 = X_train.iloc[:, np.r_[0:77, 128:237]]\n",
    "X_test_5 = X_test.iloc[:, np.r_[0:77, 128:237]]"
   ]
  },
  {
   "cell_type": "code",
   "execution_count": 27,
   "id": "dfa609d5-639e-4027-9c92-7e3486e8e951",
   "metadata": {},
   "outputs": [
    {
     "name": "stdout",
     "output_type": "stream",
     "text": [
      "0.406\n",
      "0.383\n"
     ]
    }
   ],
   "source": [
    "lr_mod_5 = LogisticRegression(penalty='none').fit(X_train_5, y_train)\n",
    "\n",
    "train_precision, train_recall, _ = (\n",
    "    precision_recall_curve(y_train, lr_mod_5.predict_proba(X_train_5)[:, 1])\n",
    ")\n",
    "test_precision, test_recall, _ = (\n",
    "    precision_recall_curve(y_test, lr_mod_5.predict_proba(X_test_5)[:, 1])\n",
    ")\n",
    "\n",
    "train_auprc = auc(train_recall, train_precision)\n",
    "test_auprc = auc(test_recall, test_precision)\n",
    "\n",
    "print(round(train_auprc, 3))\n",
    "print(round(test_auprc, 3))"
   ]
  },
  {
   "cell_type": "markdown",
   "id": "c3338208-4aa2-4684-8bc8-cbd3c3ee4add",
   "metadata": {},
   "source": [
    "### Logistic Regression with respiratory charting data added"
   ]
  },
  {
   "cell_type": "code",
   "execution_count": 28,
   "id": "675a1746-e4ec-4e72-8971-e8f56eafd960",
   "metadata": {},
   "outputs": [],
   "source": [
    "X_train_6 = X_train.iloc[:, np.r_[0:77, 125:128, 128:237]]\n",
    "X_test_6 = X_test.iloc[:, np.r_[0:77, 125:128, 128:237]]"
   ]
  },
  {
   "cell_type": "code",
   "execution_count": 29,
   "id": "210f4ed5-0db9-469a-adde-8e7ece4c29cb",
   "metadata": {},
   "outputs": [
    {
     "name": "stdout",
     "output_type": "stream",
     "text": [
      "0.414\n",
      "0.381\n"
     ]
    }
   ],
   "source": [
    "lr_mod_6 = LogisticRegression(penalty='none').fit(X_train_6, y_train)\n",
    "\n",
    "train_precision, train_recall, _ = (\n",
    "    precision_recall_curve(y_train, lr_mod_6.predict_proba(X_train_6)[:, 1])\n",
    ")\n",
    "test_precision, test_recall, _ = (\n",
    "    precision_recall_curve(y_test, lr_mod_6.predict_proba(X_test_6)[:, 1])\n",
    ")\n",
    "\n",
    "train_auprc = auc(train_recall, train_precision)\n",
    "test_auprc = auc(test_recall, test_precision)\n",
    "\n",
    "print(round(train_auprc, 3))\n",
    "print(round(test_auprc, 3))"
   ]
  },
  {
   "cell_type": "markdown",
   "id": "8054178e-be5e-4847-aa37-26417d948893",
   "metadata": {},
   "source": [
    "### Logistic Regression with vital sign data added"
   ]
  },
  {
   "cell_type": "code",
   "execution_count": 30,
   "id": "9a582fd7-c98f-485f-a57a-3e6797f0c562",
   "metadata": {},
   "outputs": [
    {
     "name": "stdout",
     "output_type": "stream",
     "text": [
      "0.468\n",
      "0.409\n"
     ]
    }
   ],
   "source": [
    "lr_mod_7 = LogisticRegression(penalty='none',\n",
    "                              max_iter=1000).fit(X_train, y_train)\n",
    "\n",
    "train_precision, train_recall, _ = (\n",
    "    precision_recall_curve(y_train, lr_mod_7.predict_proba(X_train)[:, 1])\n",
    ")\n",
    "test_precision, test_recall, _ = (\n",
    "    precision_recall_curve(y_test, lr_mod_7.predict_proba(X_test)[:, 1])\n",
    ")\n",
    "\n",
    "train_auprc = auc(train_recall, train_precision)\n",
    "test_auprc = auc(test_recall, test_precision)\n",
    "\n",
    "print(round(train_auprc, 3))\n",
    "print(round(test_auprc, 3))"
   ]
  },
  {
   "cell_type": "markdown",
   "id": "1d89079e-da1c-49ef-a8ce-122447132790",
   "metadata": {},
   "source": [
    "### Logistic Regression with lasso penalty"
   ]
  },
  {
   "cell_type": "code",
   "execution_count": 31,
   "id": "142a582f-7a20-46f3-8fba-409dd36a00d7",
   "metadata": {},
   "outputs": [
    {
     "name": "stdout",
     "output_type": "stream",
     "text": [
      "{'logit__C': 0.1}\n",
      "0.516\n",
      "0.447\n"
     ]
    }
   ],
   "source": [
    "# Set up k-fold validation set\n",
    "k_folds = KFold(n_splits=5, shuffle=True, random_state=670)\n",
    "splits = list(k_folds.split(X_train, y_train))\n",
    "\n",
    "param_grid = {'logit__C': [0.001, 0.01, 0.1, 1]}\n",
    "    \n",
    "components = [('scaler', StandardScaler()), \n",
    "              ('logit', LogisticRegression(penalty='l1',\n",
    "                                           solver='liblinear'))]\n",
    "\n",
    "pipe = Pipeline(components)\n",
    "grid = GridSearchCV(pipe, param_grid, cv=splits, scoring='average_precision')\n",
    "\n",
    "grid.fit(X_train, y_train)\n",
    "\n",
    "print(grid.best_params_)\n",
    "\n",
    "train_auprc = grid.score(X_train, y_train)\n",
    "test_auprc = grid.score(X_test, y_test)\n",
    "print(round(train_auprc, 3))\n",
    "print(round(test_auprc, 3))"
   ]
  },
  {
   "cell_type": "code",
   "execution_count": 36,
   "id": "b491852f-8459-4e11-aec2-51a160788cd0",
   "metadata": {},
   "outputs": [
    {
     "name": "stdout",
     "output_type": "stream",
     "text": [
      "['admissionweight' 'dischargeweight' 'icuduration'\n",
      " 'weightdiffafterdischarge' 'intubated' 'vent' 'dialysis' 'urine' 'wbc'\n",
      " 'temperature' 'respiratoryrate' 'sodium' 'heartrate' 'meanbp' 'ph'\n",
      " 'albumin' 'glucose' 'bilirubin' 'fio2' 'pao2' 'pco2' 'bun'\n",
      " 'meanapachescore' 'meanpredictedicumortality' 'meanpredictediculos'\n",
      " 'meanventdays' 'immunosuppression' 'diabetes' 'teachingstatus'\n",
      " 'numberofinfusions' 'lab_mean_ALT (SGPT)' 'lab_mean_AST (SGOT)'\n",
      " 'lab_mean_BUN' 'lab_mean_Hct' 'lab_mean_Hgb' 'lab_mean_MCH'\n",
      " 'lab_mean_MPV' 'lab_mean_O2 Sat (%)' 'lab_mean_PT' 'lab_mean_PTT'\n",
      " 'lab_mean_RDW' 'lab_mean_WBC x 1000' 'lab_mean_albumin'\n",
      " 'lab_mean_alkaline phos.' 'lab_mean_anion gap' 'lab_mean_bicarbonate'\n",
      " 'lab_mean_calcium' 'lab_mean_chloride' 'lab_mean_creatinine'\n",
      " 'lab_mean_eos' 'lab_mean_glucose' 'lab_mean_lactate' 'lab_mean_lymphs'\n",
      " 'lab_mean_magnesium' 'lab_mean_monos' 'lab_mean_pH' 'lab_mean_paCO2'\n",
      " 'lab_mean_paO2' 'lab_mean_phosphate' 'lab_mean_platelets x 1000'\n",
      " 'lab_mean_sodium' 'lab_mean_total bilirubin' 'lab_mean_total protein'\n",
      " 'lab_mean_urinary specific gravity' 'maxFi02' 'minbedsideglucose'\n",
      " 'meancvp' 'maxcvp' 'meanheartrate' 'minnoninvasivediastolic'\n",
      " 'meannoninvasivemean' 'minnoninvasivesystolic' 'maxnoninvasivesystolic'\n",
      " 'meanrespiration' 'maxrespiration' 'minsao2' 'meansao2' 'maxsao2'\n",
      " 'minst1' 'minst2' 'maxst2' 'minst3' 'maxst3' 'minsystemicdiastolic'\n",
      " 'meansystemicdiastolic' 'maxsystemicdiastolic' 'maxsystemicmean'\n",
      " 'minsystemicsystolic' 'mintemperature' 'maxtemperature' 'resp_mean_FiO2'\n",
      " 'resp_mean_PEEP' 'resp_mean_RR (patient)' 'age0-9' 'age10-19' 'age20-29'\n",
      " 'age30-39' 'age40-49' 'age50-59' 'age60-69' 'age70-79' 'age>89'\n",
      " 'gendermale' 'ethnicity_African American' 'ethnicity_Asian'\n",
      " 'ethnicity_Native American' 'ethnicity_Other/Unknown'\n",
      " 'apacheadmissiondx_ARDS-adult respiratory distress syndrome, non-cardiogenic pulmonary edema'\n",
      " 'apacheadmissiondx_Apnea-sleep; surgery for (i.e., UPPP - uvulopalatopharyngoplasty)'\n",
      " 'apacheadmissiondx_Arrest, respiratory (without cardiac arrest)'\n",
      " 'apacheadmissiondx_Asthma' 'apacheadmissiondx_Atelectasis'\n",
      " 'apacheadmissiondx_Biopsy, open lung'\n",
      " 'apacheadmissiondx_Cancer, laryngeal' 'apacheadmissiondx_Cancer, lung'\n",
      " 'apacheadmissiondx_Cancer, oral'\n",
      " 'apacheadmissiondx_Cancer, oral/sinus, surgery for'\n",
      " 'apacheadmissiondx_Effusions, pleural'\n",
      " 'apacheadmissiondx_Emphysema/bronchitis'\n",
      " 'apacheadmissiondx_Facial surgery (if related to trauma, see Trauma)'\n",
      " 'apacheadmissiondx_Hemothorax'\n",
      " 'apacheadmissiondx_Hypertension-pulmonary, primary/idiopathic'\n",
      " 'apacheadmissiondx_Infection/abscess, other surgery for'\n",
      " 'apacheadmissiondx_Near drowning accident'\n",
      " 'apacheadmissiondx_Obstruction-airway (i.e., acute epiglottitis, post-extubation edema, foreign body, etc)'\n",
      " 'apacheadmissiondx_Pneumonia, aspiration'\n",
      " 'apacheadmissiondx_Pneumonia, viral' 'apacheadmissiondx_Pneumothorax'\n",
      " 'apacheadmissiondx_Restrictive lung disease (i.e., Sarcoidosis, pulmonary fibrosis)'\n",
      " 'apacheadmissiondx_Thoracotomy for benign tumor (i.e. mediastinal chest wall mass, thymectomy)'\n",
      " 'apacheadmissiondx_Thoracotomy for bronchopleural fistula'\n",
      " 'apacheadmissiondx_Thoracotomy for esophageal cancer'\n",
      " 'apacheadmissiondx_Thoracotomy for lung cancer'\n",
      " 'apacheadmissiondx_Thoracotomy for lung reduction'\n",
      " 'apacheadmissiondx_Thoracotomy for other malignancy in chest'\n",
      " 'apacheadmissiondx_Thoracotomy for other reasons'\n",
      " 'apacheadmissiondx_Thoracotomy for pleural disease'\n",
      " 'apacheadmissiondx_Thoracotomy for thoracic/respiratory infection'\n",
      " 'apacheadmissiondx_Weaning from mechanical ventilation (transfer from other unit or hospital only)'\n",
      " 'hospitaladmitsource_Chest Pain Center' 'hospitaladmitsource_Floor'\n",
      " 'hospitaladmitsource_ICU' 'hospitaladmitsource_ICU to SDU'\n",
      " 'hospitaladmitsource_Other ICU'\n",
      " 'hospitaladmitsource_Step-Down Unit (SDU)' 'unittype_CCU-CTICU'\n",
      " 'unittype_CSICU' 'unittype_CTICU' 'unittype_Med-Surg ICU'\n",
      " 'unittype_Neuro ICU' 'unitadmitsource_Acute Care/Floor'\n",
      " 'unitadmitsource_Emergency Department' 'unitadmitsource_Floor'\n",
      " 'unitadmitsource_ICU to SDU' 'unitadmitsource_Operating Room'\n",
      " 'unitadmitsource_Other ICU' 'unitadmitsource_Recovery Room'\n",
      " 'numbedscategory_100 - 249' 'numbedscategory_<100'\n",
      " 'hospitalregion_Midwest' 'hospitalregion_Northeast'\n",
      " 'hospitalregion_South' 'dischargehour8-14']\n",
      "['admissionheight' 'creatinine' 'lab_mean_Base Excess' 'lab_mean_FiO2'\n",
      " 'lab_mean_HCO3' 'lab_mean_MCHC' 'lab_mean_MCV' 'lab_mean_PT - INR'\n",
      " 'lab_mean_RBC' 'lab_mean_basos' 'lab_mean_bedside glucose'\n",
      " 'lab_mean_polys' 'lab_mean_potassium' 'minFi02' 'meanFi02'\n",
      " 'meanbedsideglucose' 'maxbedsideglucose' 'mincvp' 'minheartrate'\n",
      " 'maxheartrate' 'meannoninvasivediastolic' 'maxnoninvasivediastolic'\n",
      " 'minnoninvasivemean' 'maxnoninvasivemean' 'meannoninvasivesystolic'\n",
      " 'minrespiration' 'meanst1' 'maxst1' 'meanst2' 'meanst3' 'minsystemicmean'\n",
      " 'meansystemicmean' 'meansystemicsystolic' 'maxsystemicsystolic'\n",
      " 'meantemperature' 'ethnicity_Caucasian' 'ethnicity_Hispanic'\n",
      " 'apacheadmissiondx_Apnea, sleep' 'apacheadmissiondx_Bullectomy'\n",
      " 'apacheadmissiondx_Cancer, tracheal'\n",
      " 'apacheadmissiondx_Cancer-laryngeal/tracheal, surgery for'\n",
      " 'apacheadmissiondx_Embolus, pulmonary'\n",
      " 'apacheadmissiondx_Hemorrhage/hemoptysis, pulmonary'\n",
      " 'apacheadmissiondx_Pneumonia, bacterial'\n",
      " 'apacheadmissiondx_Pneumonia, fungal'\n",
      " 'apacheadmissiondx_Pneumonia, other'\n",
      " 'apacheadmissiondx_Pneumonia, parasitic (i.e., Pneumocystic pneumonia)'\n",
      " 'apacheadmissiondx_Respiratory - medical, other'\n",
      " 'apacheadmissiondx_Respiratory surgery, other'\n",
      " 'apacheadmissiondx_Smoke inhalation' 'apacheadmissiondx_Tracheostomy'\n",
      " 'hospitaladmitsource_Acute Care/Floor' 'hospitaladmitsource_Direct Admit'\n",
      " 'hospitaladmitsource_Emergency Department'\n",
      " 'hospitaladmitsource_Observation' 'hospitaladmitsource_Operating Room'\n",
      " 'hospitaladmitsource_Other' 'hospitaladmitsource_Other Hospital'\n",
      " 'hospitaladmitsource_PACU' 'hospitaladmitsource_Recovery Room'\n",
      " 'unittype_Cardiac ICU' 'unittype_MICU' 'unittype_SICU'\n",
      " 'unitadmitsource_Chest Pain Center' 'unitadmitsource_Direct Admit'\n",
      " 'unitadmitsource_ICU' 'unitadmitsource_Observation'\n",
      " 'unitadmitsource_Other' 'unitadmitsource_Other Hospital'\n",
      " 'unitadmitsource_PACU' 'unitadmitsource_Step-Down Unit (SDU)'\n",
      " 'numbedscategory_250 - 499' 'numbedscategory_>= 500'\n",
      " 'hospitalregion_West']\n"
     ]
    }
   ],
   "source": [
    "# Get variables with zero and non-zero coefficients from LASSO\n",
    "coefficients = grid.best_estimator_.named_steps['logit'].coef_\n",
    "importance = np.abs(coefficients[0])\n",
    "non_zero_vars = np.array(X_train.columns)[importance > 0]\n",
    "non_zero_vars2 = np.array(X_train.columns)[importance > 0]\n",
    "zero_vars = np.array(X_train.columns)[importance == 0]\n",
    "\n",
    "print(non_zero_vars)\n",
    "print(zero_vars)"
   ]
  },
  {
   "cell_type": "markdown",
   "id": "753c0fd7-af56-41d3-8df9-632956dd5241",
   "metadata": {},
   "source": [
    "### Evaluate final model"
   ]
  },
  {
   "cell_type": "code",
   "execution_count": 38,
   "id": "25ef988b-9915-49cd-8811-2d204cc97f7f",
   "metadata": {},
   "outputs": [
    {
     "name": "stdout",
     "output_type": "stream",
     "text": [
      "0.0 0.0\n",
      "0.0 0.0\n",
      "0.0 0.0\n"
     ]
    }
   ],
   "source": [
    "# Evaluate baseline model\n",
    "dummy_clf = DummyClassifier(strategy=\"most_frequent\")\n",
    "dummy_clf.fit(X_train, y_train)\n",
    "\n",
    "train_preds = dummy_clf.predict(X_train)\n",
    "test_preds = dummy_clf.predict(X_test)\n",
    "\n",
    "# Compute precision\n",
    "train_precision = precision_score(y_train, train_preds)\n",
    "test_precision = precision_score(y_test, test_preds)\n",
    "\n",
    "# Compute recall\n",
    "train_recall = recall_score(y_train, train_preds)\n",
    "test_recall = recall_score(y_test, test_preds)\n",
    "        \n",
    "# Compute F-beta score\n",
    "train_f_score = fbeta_score(y_train, train_preds, beta=2)\n",
    "test_f_score = fbeta_score(y_test, test_preds, beta=2)\n",
    "\n",
    "print(train_precision, test_precision)\n",
    "print(train_recall, test_recall)\n",
    "print(train_f_score, test_f_score)"
   ]
  },
  {
   "cell_type": "code",
   "execution_count": 42,
   "id": "1cc2422d-9b5c-4e02-b9c2-a9972197b073",
   "metadata": {},
   "outputs": [
    {
     "name": "stdout",
     "output_type": "stream",
     "text": [
      "   threshold  precision    recall   f-score\n",
      "9       0.09    0.24409  0.803797  0.551072\n",
      "    threshold  precision   recall   f-score\n",
      "12       0.12   0.277722  0.68642  0.530332\n",
      "0.414\n",
      "0.351\n"
     ]
    }
   ],
   "source": [
    "# Logistic Regression with lasso penalty\n",
    "lasso_features = np.r_[1:16, 17:  18:35, 38:41, 43:46, 47, 49, 50:54, 56:71,\n",
    "                       73:77, 79:81, 84:86, 87, 89, 93, 95, 97, 99:105, 107, \n",
    "                       109:111, 112:116, 118:120, 122, 124:140, 142:145, \n",
    "                       146:151, 152:156, 158, 160:162, 163:169, 173:175, 177, \n",
    "                       179:188, 189, 191, 194:197, 201, 204:208, 210:212, 213, \n",
    "                       216:218, 219, 221, 224, 226, 228, 230, 232:235, 236]\n",
    "\n",
    "X_train_lasso = X_train.iloc[:, lasso_features]\n",
    "X_test_lasso = X_test.iloc[:, lasso_features]\n",
    "\n",
    "lr_lasso_mod = LogisticRegression(penalty='none',\n",
    "                                  max_iter=1000).fit(X_train_lasso, y_train)\n",
    "\n",
    "train_pred_probs = lr_lasso_mod.predict_proba(X_train_lasso)[:, 1]\n",
    "test_pred_probs = lr_lasso_mod.predict_proba(X_test_lasso)[:, 1]\n",
    "\n",
    "train_results = compute_metrics(train_pred_probs, y_train)\n",
    "test_results = compute_metrics(test_pred_probs, y_test)\n",
    "\n",
    "train_precision, train_recall, _ = (\n",
    "    precision_recall_curve(y_train, \n",
    "                           lr_lasso_mod.predict_proba(X_train_lasso)[:, 1])\n",
    ")\n",
    "test_precision, test_recall, _ = (\n",
    "    precision_recall_curve(y_test, \n",
    "                           lr_lasso_mod.predict_proba(X_test_lasso)[:, 1])\n",
    ")\n",
    "\n",
    "train_auprc = auc(train_recall, train_precision)\n",
    "test_auprc = auc(test_recall, test_precision)\n",
    "\n",
    "print(train_results)\n",
    "print(test_results)\n",
    "print(round(train_auprc, 3))\n",
    "print(round(test_auprc, 3))"
   ]
  }
 ],
 "metadata": {
  "kernelspec": {
   "display_name": "Python 3 (ipykernel)",
   "language": "python",
   "name": "python3"
  },
  "language_info": {
   "codemirror_mode": {
    "name": "ipython",
    "version": 3
   },
   "file_extension": ".py",
   "mimetype": "text/x-python",
   "name": "python",
   "nbconvert_exporter": "python",
   "pygments_lexer": "ipython3",
   "version": "3.9.13"
  }
 },
 "nbformat": 4,
 "nbformat_minor": 5
}
