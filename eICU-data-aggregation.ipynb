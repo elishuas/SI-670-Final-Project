{
 "cells": [
  {
   "cell_type": "markdown",
   "id": "171207ef-c3e8-4399-b9e1-06a3839aaa8a",
   "metadata": {},
   "source": [
    "# eICU Data Aggregation"
   ]
  },
  {
   "cell_type": "code",
   "execution_count": 31,
   "id": "0f819a09-3a1b-48f0-9dab-f3d2f44ca0fb",
   "metadata": {},
   "outputs": [],
   "source": [
    "import pandas as pd\n",
    "import numpy as np\n",
    "from sklearn.preprocessing import StandardScaler"
   ]
  },
  {
   "cell_type": "code",
   "execution_count": 32,
   "id": "d6b1272a-89d4-4c0d-ba05-75341f18228f",
   "metadata": {},
   "outputs": [],
   "source": [
    "# Read data files for patient and admissions data\n",
    "patient = pd.read_csv('./eicu-research-database/patient.csv')\n",
    "admission = pd.read_csv('./eicu-research-database/admissionDx.csv')"
   ]
  },
  {
   "cell_type": "markdown",
   "id": "39072999-f50d-4ba6-a06d-1e9f154978e9",
   "metadata": {},
   "source": [
    "We want to predict the occurrence of mortality and length of stay for ICU patients with respiratory diseases so we will filter for only respiratory patients in the admissions table and merge it with the patient table."
   ]
  },
  {
   "cell_type": "code",
   "execution_count": 33,
   "id": "4627b251-79b8-4efa-a204-927b4a973089",
   "metadata": {},
   "outputs": [
    {
     "name": "stdout",
     "output_type": "stream",
     "text": [
      "(25813, 29)\n",
      "21528\n"
     ]
    }
   ],
   "source": [
    "# Filter for respiratory patients in the patients table\n",
    "resp_admission = admission.loc[admission.admitdxname == 'Respiratory', :]\n",
    "resp_patient_ids = resp_admission.patientunitstayid\n",
    "\n",
    "patient = patient.loc[patient.patientunitstayid.isin(resp_patient_ids), :]\n",
    "\n",
    "print(patient.shape)\n",
    "print(patient.uniquepid.nunique())"
   ]
  },
  {
   "cell_type": "code",
   "execution_count": 34,
   "id": "92d3f1d9-d4f5-4001-894d-ceb4488db803",
   "metadata": {},
   "outputs": [
    {
     "data": {
      "text/html": [
       "<div>\n",
       "<style scoped>\n",
       "    .dataframe tbody tr th:only-of-type {\n",
       "        vertical-align: middle;\n",
       "    }\n",
       "\n",
       "    .dataframe tbody tr th {\n",
       "        vertical-align: top;\n",
       "    }\n",
       "\n",
       "    .dataframe thead th {\n",
       "        text-align: right;\n",
       "    }\n",
       "</style>\n",
       "<table border=\"1\" class=\"dataframe\">\n",
       "  <thead>\n",
       "    <tr style=\"text-align: right;\">\n",
       "      <th></th>\n",
       "      <th>patientunitstayid</th>\n",
       "      <th>patienthealthsystemstayid</th>\n",
       "      <th>gender</th>\n",
       "      <th>age</th>\n",
       "      <th>ethnicity</th>\n",
       "      <th>hospitalid</th>\n",
       "      <th>wardid</th>\n",
       "      <th>apacheadmissiondx</th>\n",
       "      <th>admissionheight</th>\n",
       "      <th>hospitaladmittime24</th>\n",
       "      <th>hospitaladmitoffset</th>\n",
       "      <th>hospitaladmitsource</th>\n",
       "      <th>hospitaldischargeyear</th>\n",
       "      <th>hospitaldischargetime24</th>\n",
       "      <th>hospitaldischargeoffset</th>\n",
       "      <th>hospitaldischargelocation</th>\n",
       "      <th>hospitaldischargestatus</th>\n",
       "      <th>unittype</th>\n",
       "      <th>unitadmittime24</th>\n",
       "      <th>unitadmitsource</th>\n",
       "      <th>unitvisitnumber</th>\n",
       "      <th>unitstaytype</th>\n",
       "      <th>admissionweight</th>\n",
       "      <th>dischargeweight</th>\n",
       "      <th>unitdischargetime24</th>\n",
       "      <th>unitdischargeoffset</th>\n",
       "      <th>unitdischargelocation</th>\n",
       "      <th>unitdischargestatus</th>\n",
       "      <th>uniquepid</th>\n",
       "    </tr>\n",
       "  </thead>\n",
       "  <tbody>\n",
       "    <tr>\n",
       "      <th>6</th>\n",
       "      <td>141203</td>\n",
       "      <td>128948</td>\n",
       "      <td>Female</td>\n",
       "      <td>77</td>\n",
       "      <td>Caucasian</td>\n",
       "      <td>66</td>\n",
       "      <td>90</td>\n",
       "      <td>Arrest, respiratory (without cardiac arrest)</td>\n",
       "      <td>160.0</td>\n",
       "      <td>22:23:00</td>\n",
       "      <td>-1336</td>\n",
       "      <td>Floor</td>\n",
       "      <td>2014</td>\n",
       "      <td>16:22:00</td>\n",
       "      <td>4063</td>\n",
       "      <td>Other External</td>\n",
       "      <td>Alive</td>\n",
       "      <td>Med-Surg ICU</td>\n",
       "      <td>20:39:00</td>\n",
       "      <td>Floor</td>\n",
       "      <td>1</td>\n",
       "      <td>admit</td>\n",
       "      <td>70.2</td>\n",
       "      <td>70.3</td>\n",
       "      <td>03:48:00</td>\n",
       "      <td>1869</td>\n",
       "      <td>Floor</td>\n",
       "      <td>Alive</td>\n",
       "      <td>002-23234</td>\n",
       "    </tr>\n",
       "    <tr>\n",
       "      <th>12</th>\n",
       "      <td>141260</td>\n",
       "      <td>128995</td>\n",
       "      <td>Female</td>\n",
       "      <td>43</td>\n",
       "      <td>African American</td>\n",
       "      <td>73</td>\n",
       "      <td>99</td>\n",
       "      <td>Asthma</td>\n",
       "      <td>172.7</td>\n",
       "      <td>01:57:00</td>\n",
       "      <td>-18</td>\n",
       "      <td>Emergency Department</td>\n",
       "      <td>2015</td>\n",
       "      <td>09:34:00</td>\n",
       "      <td>1879</td>\n",
       "      <td>Other</td>\n",
       "      <td>Alive</td>\n",
       "      <td>Med-Surg ICU</td>\n",
       "      <td>02:15:00</td>\n",
       "      <td>Emergency Department</td>\n",
       "      <td>1</td>\n",
       "      <td>admit</td>\n",
       "      <td>69.9</td>\n",
       "      <td>70.3</td>\n",
       "      <td>20:08:00</td>\n",
       "      <td>1073</td>\n",
       "      <td>Floor</td>\n",
       "      <td>Alive</td>\n",
       "      <td>002-55885</td>\n",
       "    </tr>\n",
       "    <tr>\n",
       "      <th>17</th>\n",
       "      <td>141276</td>\n",
       "      <td>129009</td>\n",
       "      <td>Female</td>\n",
       "      <td>59</td>\n",
       "      <td>Caucasian</td>\n",
       "      <td>63</td>\n",
       "      <td>95</td>\n",
       "      <td>Arrest, respiratory (without cardiac arrest)</td>\n",
       "      <td>165.1</td>\n",
       "      <td>14:43:00</td>\n",
       "      <td>-1</td>\n",
       "      <td>Operating Room</td>\n",
       "      <td>2015</td>\n",
       "      <td>19:20:00</td>\n",
       "      <td>1716</td>\n",
       "      <td>Home</td>\n",
       "      <td>Alive</td>\n",
       "      <td>Med-Surg ICU</td>\n",
       "      <td>14:44:00</td>\n",
       "      <td>Direct Admit</td>\n",
       "      <td>1</td>\n",
       "      <td>admit</td>\n",
       "      <td>156.6</td>\n",
       "      <td>156.6</td>\n",
       "      <td>18:48:00</td>\n",
       "      <td>1684</td>\n",
       "      <td>Home</td>\n",
       "      <td>Alive</td>\n",
       "      <td>002-9090</td>\n",
       "    </tr>\n",
       "    <tr>\n",
       "      <th>20</th>\n",
       "      <td>141289</td>\n",
       "      <td>129020</td>\n",
       "      <td>Female</td>\n",
       "      <td>61</td>\n",
       "      <td>Caucasian</td>\n",
       "      <td>67</td>\n",
       "      <td>109</td>\n",
       "      <td>Pneumothorax</td>\n",
       "      <td>162.6</td>\n",
       "      <td>17:32:00</td>\n",
       "      <td>-7593</td>\n",
       "      <td>Emergency Department</td>\n",
       "      <td>2014</td>\n",
       "      <td>21:28:00</td>\n",
       "      <td>1283</td>\n",
       "      <td>Other Hospital</td>\n",
       "      <td>Alive</td>\n",
       "      <td>Med-Surg ICU</td>\n",
       "      <td>00:05:00</td>\n",
       "      <td>Floor</td>\n",
       "      <td>2</td>\n",
       "      <td>readmit</td>\n",
       "      <td>NaN</td>\n",
       "      <td>NaN</td>\n",
       "      <td>21:28:00</td>\n",
       "      <td>1283</td>\n",
       "      <td>Other Hospital</td>\n",
       "      <td>Alive</td>\n",
       "      <td>002-67735</td>\n",
       "    </tr>\n",
       "    <tr>\n",
       "      <th>28</th>\n",
       "      <td>141337</td>\n",
       "      <td>129059</td>\n",
       "      <td>Female</td>\n",
       "      <td>72</td>\n",
       "      <td>Hispanic</td>\n",
       "      <td>71</td>\n",
       "      <td>113</td>\n",
       "      <td>Thoracotomy for other reasons</td>\n",
       "      <td>154.9</td>\n",
       "      <td>20:27:12</td>\n",
       "      <td>-7</td>\n",
       "      <td>Operating Room</td>\n",
       "      <td>2015</td>\n",
       "      <td>18:02:00</td>\n",
       "      <td>2728</td>\n",
       "      <td>Home</td>\n",
       "      <td>Alive</td>\n",
       "      <td>Med-Surg ICU</td>\n",
       "      <td>20:34:00</td>\n",
       "      <td>Operating Room</td>\n",
       "      <td>1</td>\n",
       "      <td>admit</td>\n",
       "      <td>67.8</td>\n",
       "      <td>68.5</td>\n",
       "      <td>15:40:00</td>\n",
       "      <td>1146</td>\n",
       "      <td>Floor</td>\n",
       "      <td>Alive</td>\n",
       "      <td>002-48469</td>\n",
       "    </tr>\n",
       "  </tbody>\n",
       "</table>\n",
       "</div>"
      ],
      "text/plain": [
       "    patientunitstayid  patienthealthsystemstayid  gender age  \\\n",
       "6              141203                     128948  Female  77   \n",
       "12             141260                     128995  Female  43   \n",
       "17             141276                     129009  Female  59   \n",
       "20             141289                     129020  Female  61   \n",
       "28             141337                     129059  Female  72   \n",
       "\n",
       "           ethnicity  hospitalid  wardid  \\\n",
       "6          Caucasian          66      90   \n",
       "12  African American          73      99   \n",
       "17         Caucasian          63      95   \n",
       "20         Caucasian          67     109   \n",
       "28          Hispanic          71     113   \n",
       "\n",
       "                               apacheadmissiondx  admissionheight  \\\n",
       "6   Arrest, respiratory (without cardiac arrest)            160.0   \n",
       "12                                        Asthma            172.7   \n",
       "17  Arrest, respiratory (without cardiac arrest)            165.1   \n",
       "20                                  Pneumothorax            162.6   \n",
       "28                 Thoracotomy for other reasons            154.9   \n",
       "\n",
       "   hospitaladmittime24  hospitaladmitoffset   hospitaladmitsource  \\\n",
       "6             22:23:00                -1336                 Floor   \n",
       "12            01:57:00                  -18  Emergency Department   \n",
       "17            14:43:00                   -1        Operating Room   \n",
       "20            17:32:00                -7593  Emergency Department   \n",
       "28            20:27:12                   -7        Operating Room   \n",
       "\n",
       "    hospitaldischargeyear hospitaldischargetime24  hospitaldischargeoffset  \\\n",
       "6                    2014                16:22:00                     4063   \n",
       "12                   2015                09:34:00                     1879   \n",
       "17                   2015                19:20:00                     1716   \n",
       "20                   2014                21:28:00                     1283   \n",
       "28                   2015                18:02:00                     2728   \n",
       "\n",
       "   hospitaldischargelocation hospitaldischargestatus      unittype  \\\n",
       "6             Other External                   Alive  Med-Surg ICU   \n",
       "12                     Other                   Alive  Med-Surg ICU   \n",
       "17                      Home                   Alive  Med-Surg ICU   \n",
       "20            Other Hospital                   Alive  Med-Surg ICU   \n",
       "28                      Home                   Alive  Med-Surg ICU   \n",
       "\n",
       "   unitadmittime24       unitadmitsource  unitvisitnumber unitstaytype  \\\n",
       "6         20:39:00                 Floor                1        admit   \n",
       "12        02:15:00  Emergency Department                1        admit   \n",
       "17        14:44:00          Direct Admit                1        admit   \n",
       "20        00:05:00                 Floor                2      readmit   \n",
       "28        20:34:00        Operating Room                1        admit   \n",
       "\n",
       "    admissionweight  dischargeweight unitdischargetime24  unitdischargeoffset  \\\n",
       "6              70.2             70.3            03:48:00                 1869   \n",
       "12             69.9             70.3            20:08:00                 1073   \n",
       "17            156.6            156.6            18:48:00                 1684   \n",
       "20              NaN              NaN            21:28:00                 1283   \n",
       "28             67.8             68.5            15:40:00                 1146   \n",
       "\n",
       "   unitdischargelocation unitdischargestatus  uniquepid  \n",
       "6                  Floor               Alive  002-23234  \n",
       "12                 Floor               Alive  002-55885  \n",
       "17                  Home               Alive   002-9090  \n",
       "20        Other Hospital               Alive  002-67735  \n",
       "28                 Floor               Alive  002-48469  "
      ]
     },
     "execution_count": 34,
     "metadata": {},
     "output_type": "execute_result"
    }
   ],
   "source": [
    "pd.set_option('display.max_columns', None)\n",
    "patient.head()"
   ]
  },
  {
   "cell_type": "markdown",
   "id": "f6d13309-0dc0-4eb0-bb4d-8acb70f5b1a3",
   "metadata": {},
   "source": [
    "### Create total length of stay variable"
   ]
  },
  {
   "cell_type": "code",
   "execution_count": 35,
   "id": "aa4ccebf-1a2b-408d-bf31-db18c231ce47",
   "metadata": {},
   "outputs": [],
   "source": [
    "patient['icuduration'] = (\n",
    "    patient.hospitaldischargeoffset - patient.hospitaladmitoffset\n",
    ")\n",
    "patient.drop(columns=['hospitaldischargeoffset', 'hospitaladmitoffset', \n",
    "                      'hospitaldischargeyear', 'unitdischargeoffset'], \n",
    "             inplace=True)\n",
    "\n",
    "# Get duration in days\n",
    "patient.icuduration = patient.icuduration / 1440"
   ]
  },
  {
   "cell_type": "markdown",
   "id": "828fc99c-deb6-4ed2-b288-34a18b9d6a58",
   "metadata": {},
   "source": [
    "### Create death indicator"
   ]
  },
  {
   "cell_type": "code",
   "execution_count": 36,
   "id": "cfa9c546-92f9-4ce8-a0c6-18f593c03ed9",
   "metadata": {},
   "outputs": [],
   "source": [
    "patient['died'] = np.nan\n",
    "patient.loc[(patient.hospitaldischargestatus == 'Expired'), \n",
    "            'died'] = 1\n",
    "patient.loc[(patient.hospitaldischargestatus == 'Alive'), \n",
    "            'died'] = 0\n",
    "patient.drop(columns=['hospitaldischargestatus', 'unitdischargestatus'], \n",
    "             inplace=True)"
   ]
  },
  {
   "cell_type": "code",
   "execution_count": 37,
   "id": "eaaac339-6b2e-4477-b0a4-b3fca891eb66",
   "metadata": {},
   "outputs": [],
   "source": [
    "# Drop columns that may cause data leakage in predicting mortality\n",
    "patient.drop(columns=['hospitaldischargelocation', 'unitdischargelocation'],\n",
    "             inplace=True)"
   ]
  },
  {
   "cell_type": "markdown",
   "id": "87384ee0-8836-4788-b397-c28707a7007b",
   "metadata": {},
   "source": [
    "### Create variable to calculate difference in admission and discharge weight"
   ]
  },
  {
   "cell_type": "code",
   "execution_count": 38,
   "id": "c6c8d20c-7804-4ece-acfa-16ba778c41a2",
   "metadata": {},
   "outputs": [],
   "source": [
    "patient['weightdiffafterdischarge'] = (\n",
    "    patient.dischargeweight - patient.admissionweight\n",
    ")"
   ]
  },
  {
   "cell_type": "markdown",
   "id": "9eb91ac3-01a7-43f5-8de0-681b3e105ea2",
   "metadata": {},
   "source": [
    "We know that there is multiple records (admissions) for some patients. For simplicity, we will only consider the first stay for each patient. "
   ]
  },
  {
   "cell_type": "code",
   "execution_count": 39,
   "id": "1c149f56-d9e8-402b-81e7-f975ea3881ad",
   "metadata": {},
   "outputs": [
    {
     "name": "stdout",
     "output_type": "stream",
     "text": [
      "(21007, 23)\n",
      "18802\n"
     ]
    }
   ],
   "source": [
    "patient = patient.loc[patient.unitvisitnumber == 1, :]\n",
    "patient.drop(columns='unitvisitnumber', inplace=True)\n",
    "\n",
    "print(patient.shape)\n",
    "print(patient.uniquepid.nunique())"
   ]
  },
  {
   "cell_type": "markdown",
   "id": "c783d1d5-3435-4767-a938-9bfba459f5a4",
   "metadata": {},
   "source": [
    "### Drop duplicate records/admissions for patients"
   ]
  },
  {
   "cell_type": "code",
   "execution_count": 40,
   "id": "b9125a61-0e76-4066-ac3e-0d78fd9ffb87",
   "metadata": {},
   "outputs": [
    {
     "name": "stdout",
     "output_type": "stream",
     "text": [
      "(17167, 23)\n",
      "17167\n"
     ]
    }
   ],
   "source": [
    "duplicates = patient.loc[patient.duplicated(['uniquepid'], keep=False), :]\n",
    "pids_to_drop = duplicates.uniquepid.unique().tolist()\n",
    "\n",
    "patient = patient.loc[~(patient.uniquepid.isin(pids_to_drop)), :]\n",
    "print(patient.shape)\n",
    "print(patient.uniquepid.nunique())"
   ]
  },
  {
   "cell_type": "markdown",
   "id": "eafcaba8-80c4-416c-b0ea-d77db9415419",
   "metadata": {},
   "source": [
    "### Merge APACHE data to patient table"
   ]
  },
  {
   "cell_type": "code",
   "execution_count": 41,
   "id": "043d6a5f-98b6-4dc1-8eb6-7032b9913b1d",
   "metadata": {},
   "outputs": [
    {
     "name": "stdout",
     "output_type": "stream",
     "text": [
      "(171177, 20)\n",
      "171177\n"
     ]
    }
   ],
   "source": [
    "# Load data on APACHE APS variables\n",
    "apache_aps_vars = pd.read_csv('./eicu-research-database/apacheApsVar.csv')\n",
    "selected_cols = ['patientunitstayid', 'intubated', 'vent', 'dialysis', 'urine',\n",
    "                 'wbc', 'temperature', 'respiratoryrate', 'sodium', 'heartrate', \n",
    "                 'meanbp', 'ph', 'creatinine', 'albumin', 'glucose', 'bilirubin', \n",
    "                 'fio2', 'pao2', 'pco2', 'bun']\n",
    "apache_aps_vars = apache_aps_vars.loc[:, selected_cols]\n",
    "\n",
    "print(apache_aps_vars.shape)\n",
    "print(apache_aps_vars.patientunitstayid.nunique())"
   ]
  },
  {
   "cell_type": "code",
   "execution_count": 42,
   "id": "62239f26-558c-4580-b806-05f4c070d2b5",
   "metadata": {},
   "outputs": [
    {
     "name": "stdout",
     "output_type": "stream",
     "text": [
      "(17167, 42)\n",
      "17167\n"
     ]
    }
   ],
   "source": [
    "patient = patient.merge(apache_aps_vars, how='left', on='patientunitstayid')\n",
    "print(patient.shape)\n",
    "print(patient.uniquepid.nunique())"
   ]
  },
  {
   "cell_type": "markdown",
   "id": "ccfedbbe-3376-4e08-a8c6-7bf9ae9f6e2d",
   "metadata": {},
   "source": [
    "### Merge APACHE patient results data to patient table"
   ]
  },
  {
   "cell_type": "code",
   "execution_count": 43,
   "id": "5edfdc69-0121-4901-9db6-bdebe77f16de",
   "metadata": {},
   "outputs": [
    {
     "name": "stdout",
     "output_type": "stream",
     "text": [
      "(297064, 10)\n",
      "148532\n"
     ]
    }
   ],
   "source": [
    "apache_patient_result = (\n",
    "    pd.read_csv('./eicu-research-database/apachePatientResult.csv')\n",
    ")\n",
    "selected_cols = ['patientunitstayid', 'apachescore', 'predictedicumortality', \n",
    "                 'actualicumortality', 'predictediculos', 'actualiculos', \n",
    "                 'actualhospitalmortality', 'predictedhospitallos', \n",
    "                 'unabridgedactualventdays', 'unabridgedunitlos']\n",
    "apache_patient_result = apache_patient_result.loc[:, selected_cols]\n",
    "\n",
    "print(apache_patient_result.shape)\n",
    "print(apache_patient_result.patientunitstayid.nunique())"
   ]
  },
  {
   "cell_type": "markdown",
   "id": "427fdb85-1488-4726-8d0f-fed6feab0e8e",
   "metadata": {},
   "source": [
    "Since there are duplicate records for `patientunitstayid`, we will aggregate the data by this key."
   ]
  },
  {
   "cell_type": "code",
   "execution_count": 44,
   "id": "c7edf881-951c-4049-be41-ec2821f23954",
   "metadata": {},
   "outputs": [
    {
     "name": "stdout",
     "output_type": "stream",
     "text": [
      "(17167, 46)\n",
      "17167\n"
     ]
    }
   ],
   "source": [
    "apache_patient_result_agg = (\n",
    "    apache_patient_result.groupby('patientunitstayid')\n",
    "                         .agg(meanapachescore = ('apachescore', 'mean'),\n",
    "                              meanpredictedicumortality = ('predictedicumortality', \n",
    "                                                           'mean'), \n",
    "                              meanpredictediculos = ('predictediculos', 'mean'),\n",
    "                              meanventdays = ('unabridgedactualventdays', 'mean')\n",
    "                             )\n",
    "                         .reset_index()\n",
    ")\n",
    "\n",
    "patient = patient.merge(apache_patient_result_agg, how='left', \n",
    "                        on='patientunitstayid')\n",
    "\n",
    "print(patient.shape)\n",
    "print(patient.uniquepid.nunique())"
   ]
  },
  {
   "cell_type": "markdown",
   "id": "f0f69048-593f-4371-9355-2098d6242ab9",
   "metadata": {},
   "source": [
    "### Merge data of variables from APACHE predictions to patient table"
   ]
  },
  {
   "cell_type": "code",
   "execution_count": 45,
   "id": "5b48b091-ed2a-4d9c-b126-1d06eb911505",
   "metadata": {},
   "outputs": [
    {
     "name": "stdout",
     "output_type": "stream",
     "text": [
      "(171177, 51)\n",
      "171177\n"
     ]
    }
   ],
   "source": [
    "apache_pred_var = pd.read_csv('./eicu-research-database/apachePredVar.csv')\n",
    "print(apache_pred_var.shape)\n",
    "print(apache_pred_var.patientunitstayid.nunique())\n",
    "\n",
    "selected_cols = ['patientunitstayid', 'aids', 'lymphoma', 'immunosuppression',\n",
    "                 'diabetes']\n",
    "apache_pred_var = apache_pred_var.loc[:, selected_cols]"
   ]
  },
  {
   "cell_type": "code",
   "execution_count": 46,
   "id": "ae0e4ba1-dd90-4a90-b117-e13e68b58841",
   "metadata": {},
   "outputs": [
    {
     "name": "stdout",
     "output_type": "stream",
     "text": [
      "(17167, 50)\n",
      "17167\n"
     ]
    }
   ],
   "source": [
    "patient = patient.merge(apache_pred_var, how='left', on='patientunitstayid')\n",
    "print(patient.shape)\n",
    "print(patient.uniquepid.nunique())"
   ]
  },
  {
   "cell_type": "markdown",
   "id": "851bff6b-d1cc-4780-829f-ea0a0a136153",
   "metadata": {},
   "source": [
    "### Merge hospital data to patient table"
   ]
  },
  {
   "cell_type": "code",
   "execution_count": 47,
   "id": "6b007fab-1459-4d74-b96c-0a2c441aa9ef",
   "metadata": {},
   "outputs": [
    {
     "name": "stdout",
     "output_type": "stream",
     "text": [
      "(208, 4)\n",
      "208\n",
      "(17167, 53)\n",
      "17167\n"
     ]
    }
   ],
   "source": [
    "hospital = pd.read_csv('./eicu-research-database/hospital.csv')\n",
    "hospital.rename(columns = {'region':'hospitalregion'}, inplace = True)\n",
    "print(hospital.shape)\n",
    "print(hospital.hospitalid.nunique())\n",
    "\n",
    "patient = patient.merge(hospital, how='left', on='hospitalid')\n",
    "print(patient.shape)\n",
    "print(patient.uniquepid.nunique())"
   ]
  },
  {
   "cell_type": "markdown",
   "id": "2a4a23b1-7e6e-46ea-9640-f9b75d83031b",
   "metadata": {},
   "source": [
    "### Merge drug data to patient table"
   ]
  },
  {
   "cell_type": "code",
   "execution_count": 48,
   "id": "c5484f0b-a3ae-428e-ad48-7f16f64e616e",
   "metadata": {},
   "outputs": [
    {
     "name": "stdout",
     "output_type": "stream",
     "text": [
      "(4803719, 9)\n",
      "73547\n"
     ]
    }
   ],
   "source": [
    "drug = pd.read_csv('./eicu-research-database/infusionDrug.csv', \n",
    "                   low_memory=False)\n",
    "print(drug.shape)\n",
    "print(drug.patientunitstayid.nunique())"
   ]
  },
  {
   "cell_type": "markdown",
   "id": "b2100a08-b697-4717-a311-16c2f8717f26",
   "metadata": {},
   "source": [
    "There are duplicate values for each patient which would suggest that some of the patients were given multiple drugs during their visit. So, we must aggregate the data for each patient visit. However, the drug amount measurements are measured differently based on the drug, therefore, we will standardize these variables so that all measurements are on the same scale."
   ]
  },
  {
   "cell_type": "code",
   "execution_count": 49,
   "id": "181abb39-5fc5-4ebc-9284-9a65878d6f5d",
   "metadata": {},
   "outputs": [],
   "source": [
    "selected_cols = ['infusionrate', 'drugamount', 'volumeoffluid']\n",
    "temp = drug.loc[:, selected_cols]\n",
    "\n",
    "# Standardize infusionrate, drugamount, and volumneoffluid\n",
    "temp_scaled = StandardScaler().fit_transform(temp)\n",
    "drugs_scaled = pd.DataFrame(temp_scaled, index=temp.index, columns=temp.columns)\n",
    "drugs_scaled['patientunitstayid'] = drug['patientunitstayid']"
   ]
  },
  {
   "cell_type": "code",
   "execution_count": 50,
   "id": "001f8f84-d07d-40fe-9e1a-ee925efe6c87",
   "metadata": {},
   "outputs": [
    {
     "name": "stdout",
     "output_type": "stream",
     "text": [
      "(17167, 63)\n",
      "17167\n"
     ]
    }
   ],
   "source": [
    "drug_agg = (\n",
    "    drugs_scaled.groupby('patientunitstayid')\n",
    "                .agg(numberofinfusions = ('patientunitstayid', 'size'),\n",
    "                     mininfusionrate = ('infusionrate', 'min'),\n",
    "                     meaninfusionrate = ('infusionrate', 'mean'),\n",
    "                     maxinfusionrate = ('infusionrate', 'max'),\n",
    "                     mindrugamount = ('drugamount', 'min'),\n",
    "                     meandrugamount = ('drugamount', 'mean'),\n",
    "                     maxdrugamount = ('drugamount', 'max'),\n",
    "                     minvolumeoffluid = ('volumeoffluid', 'min'),\n",
    "                     meanvolumeoffluid = ('volumeoffluid', 'mean'),\n",
    "                     maxvolumeoffluid = ('volumeoffluid', 'max')) \n",
    "                .reset_index()\n",
    ")\n",
    "\n",
    "patient = patient.merge(drug_agg, how='left', on='patientunitstayid')\n",
    "print(patient.shape)\n",
    "print(patient.uniquepid.nunique())"
   ]
  },
  {
   "cell_type": "markdown",
   "id": "a967622c-31a9-4572-b9d2-c1ddce24db0f",
   "metadata": {},
   "source": [
    "### Merge lab test data to patient table"
   ]
  },
  {
   "cell_type": "code",
   "execution_count": 51,
   "id": "77d685b6-c427-4d80-8f47-206f59a11345",
   "metadata": {},
   "outputs": [
    {
     "name": "stdout",
     "output_type": "stream",
     "text": [
      "(6814790, 4)\n",
      "88664\n"
     ]
    }
   ],
   "source": [
    "lab = pd.read_csv('./eicu-research-database/timeserieslab.csv')\n",
    "print(lab.shape)\n",
    "print(lab.patientunitstayid.nunique())"
   ]
  },
  {
   "cell_type": "code",
   "execution_count": 52,
   "id": "d86e7ef0-dba5-4ad0-baea-2dcf9c97ddb1",
   "metadata": {},
   "outputs": [
    {
     "name": "stdout",
     "output_type": "stream",
     "text": [
      "(17167, 109)\n",
      "17167\n"
     ]
    }
   ],
   "source": [
    "selected_cols = ['patientunitstayid', 'labname', 'labresult']\n",
    "lab = lab.loc[:, selected_cols]\n",
    "\n",
    "lab_agg = (\n",
    "    lab.groupby(['patientunitstayid', 'labname'])\n",
    "       .agg(meanlabresult = ('labresult', 'mean'))\n",
    "       .reset_index()\n",
    ")\n",
    "\n",
    "lab_agg['labname'] = lab_agg['labname'].replace({'-basos': 'basos', \n",
    "                                                 '-eos': 'eos', \n",
    "                                                 '-lymphs': 'lymphs', \n",
    "                                                 '-monos': 'monos', \n",
    "                                                 '-polys': 'polys'})\n",
    "\n",
    "lab_wide = (\n",
    "    pd.pivot(lab_agg, \n",
    "             index=['patientunitstayid'], \n",
    "             columns = 'labname',\n",
    "             values = 'meanlabresult').add_prefix('lab_mean_').reset_index()\n",
    ")\n",
    "\n",
    "patient = patient.merge(lab_wide, how='left', on='patientunitstayid')\n",
    "print(patient.shape)\n",
    "print(patient.uniquepid.nunique())"
   ]
  },
  {
   "cell_type": "markdown",
   "id": "17e0f947-124d-4aa8-b5dd-5eb33d59d230",
   "metadata": {},
   "source": [
    "### Merge periodic vital sign data with patient table"
   ]
  },
  {
   "cell_type": "code",
   "execution_count": 53,
   "id": "fad9e319-503a-4ddf-9caa-126399f065eb",
   "metadata": {},
   "outputs": [
    {
     "name": "stdout",
     "output_type": "stream",
     "text": [
      "(250920, 38)\n",
      "10455\n"
     ]
    }
   ],
   "source": [
    "vital_periodic = (\n",
    "    pd.read_csv('./eicu-research-database/timeseries_readyformodel.csv')\n",
    ")\n",
    "print(vital_periodic.shape)\n",
    "print(vital_periodic.patientunitstayid.nunique())"
   ]
  },
  {
   "cell_type": "code",
   "execution_count": 54,
   "id": "b5e7a20f-8329-4dfb-b538-9374a73a8bbd",
   "metadata": {},
   "outputs": [
    {
     "data": {
      "text/plain": [
       "Index(['patient', 'time', 'FiO2', 'bedside glucose', 'cvp', 'heartrate',\n",
       "       'noninvasivediastolic', 'noninvasivemean', 'noninvasivesystolic',\n",
       "       'respiration', 'sao2', 'st1', 'st2', 'st3', 'systemicdiastolic',\n",
       "       'systemicmean', 'systemicsystolic', 'temperature', 'FiO2_mask',\n",
       "       'bedside glucose_mask', 'cvp_mask', 'heartrate_mask',\n",
       "       'noninvasivediastolic_mask', 'noninvasivemean_mask',\n",
       "       'noninvasivesystolic_mask', 'respiration_mask', 'sao2_mask', 'st1_mask',\n",
       "       'st2_mask', 'st3_mask', 'systemicdiastolic_mask', 'systemicmean_mask',\n",
       "       'systemicsystolic_mask', 'temperature_mask', 'hour',\n",
       "       'patientunitstayid', 'died', 'urine'],\n",
       "      dtype='object')"
      ]
     },
     "execution_count": 54,
     "metadata": {},
     "output_type": "execute_result"
    }
   ],
   "source": [
    "vital_periodic.columns"
   ]
  },
  {
   "cell_type": "code",
   "execution_count": 55,
   "id": "81ea41b5-1230-4dd3-ac7d-11ceb456dc20",
   "metadata": {},
   "outputs": [
    {
     "name": "stdout",
     "output_type": "stream",
     "text": [
      "(17167, 158)\n",
      "17167\n"
     ]
    }
   ],
   "source": [
    "vital_agg = (\n",
    "    vital_periodic.groupby('patient')\n",
    "                  .agg(minFi02 = ('FiO2', 'min'),\n",
    "                       meanFi02 = ('FiO2', 'mean'),\n",
    "                       maxFi02 = ('FiO2', 'max'),\n",
    "                       minbedsideglucose = ('bedside glucose', 'min'),\n",
    "                       meanbedsideglucose = ('bedside glucose', 'mean'),\n",
    "                       maxbedsideglucose = ('bedside glucose', 'max'),\n",
    "                       mincvp = ('cvp', 'min'),\n",
    "                       meancvp = ('cvp', 'mean'),\n",
    "                       maxcvp = ('cvp', 'max'),\n",
    "                       minheartrate = ('heartrate', 'min'),\n",
    "                       meanheartrate = ('heartrate', 'mean'),\n",
    "                       maxheartrate = ('heartrate', 'max'),\n",
    "                       minnoninvasivediastolic = ('noninvasivediastolic', 'min'),\n",
    "                       meannoninvasivediastolic = ('noninvasivediastolic', 'mean'),\n",
    "                       maxnoninvasivediastolic = ('noninvasivediastolic', 'max'),\n",
    "                       minnoninvasivemean = ('noninvasivemean', 'min'),\n",
    "                       meannoninvasivemean = ('noninvasivemean', 'mean'),\n",
    "                       maxnoninvasivemean = ('noninvasivemean', 'max'),\n",
    "                       minnoninvasivesystolic = ('noninvasivesystolic', 'min'),\n",
    "                       meannoninvasivesystolic = ('noninvasivesystolic', 'mean'),\n",
    "                       maxnoninvasivesystolic = ('noninvasivesystolic', 'max'),\n",
    "                       minrespiration = ('respiration', 'min'),\n",
    "                       meanrespiration = ('respiration', 'mean'),\n",
    "                       maxrespiration = ('respiration', 'max'),\n",
    "                       minsao2 = ('sao2', 'min'),\n",
    "                       meansao2 = ('sao2', 'mean'),\n",
    "                       maxsao2 = ('sao2', 'max'),\n",
    "                       minst1 = ('st1', 'min'),\n",
    "                       meanst1 = ('st1', 'mean'),\n",
    "                       maxst1 = ('st1', 'max'),\n",
    "                       minst2 = ('st2', 'min'),\n",
    "                       meanst2 = ('st2', 'mean'),\n",
    "                       maxst2 = ('st2', 'max'),\n",
    "                       minst3 = ('st3', 'min'),\n",
    "                       meanst3 = ('st3', 'mean'),\n",
    "                       maxst3 = ('st3', 'max'),\n",
    "                       minsystemicdiastolic = ('systemicdiastolic', 'min'),\n",
    "                       meansystemicdiastolic = ('systemicdiastolic', 'mean'),\n",
    "                       maxsystemicdiastolic = ('systemicdiastolic', 'max'),\n",
    "                       minsystemicmean = ('systemicmean', 'min'),\n",
    "                       meansystemicmean = ('systemicmean', 'mean'),\n",
    "                       maxsystemicmean = ('systemicmean', 'max'),\n",
    "                       minsystemicsystolic = ('systemicsystolic', 'min'),\n",
    "                       meansystemicsystolic = ('systemicsystolic', 'mean'),\n",
    "                       maxsystemicsystolic = ('systemicsystolic', 'max'),\n",
    "                       mintemperature = ('temperature', 'min'),\n",
    "                       meantemperature = ('temperature', 'mean'),\n",
    "                       maxtemperature = ('temperature', 'max'))\n",
    "                  .reset_index()\n",
    ")\n",
    "\n",
    "patient = patient.merge(vital_agg, how='left', left_on='patientunitstayid', \n",
    "                        right_on='patient')\n",
    "print(patient.shape)\n",
    "print(patient.uniquepid.nunique())"
   ]
  },
  {
   "cell_type": "markdown",
   "id": "cf22850d-6a12-42c6-aa95-5a8c79ddd4a5",
   "metadata": {},
   "source": [
    "### Merge respiratory charting data with patient table"
   ]
  },
  {
   "cell_type": "code",
   "execution_count": 56,
   "id": "99cb97e6-151e-44ad-9146-21e5fc6e320d",
   "metadata": {},
   "outputs": [
    {
     "name": "stdout",
     "output_type": "stream",
     "text": [
      "(2308984, 4)\n",
      "52166\n"
     ]
    }
   ],
   "source": [
    "resp = pd.read_csv('./eicu-research-database/timeseriesresp.csv', \n",
    "                   low_memory=False)\n",
    "print(resp.shape)\n",
    "print(resp.patientunitstayid.nunique())"
   ]
  },
  {
   "cell_type": "code",
   "execution_count": 57,
   "id": "ae438012-bc22-4467-8701-8e2accb2378f",
   "metadata": {},
   "outputs": [],
   "source": [
    "# Clean up respchartvalue column given that it is a mixed data type\n",
    "resp['respchartvalue'] = resp.respchartvalue.str.extract(r'(\\d+)', expand=False)\n",
    "resp.respchartvalue = resp.respchartvalue.astype(float)"
   ]
  },
  {
   "cell_type": "code",
   "execution_count": 58,
   "id": "a9be0756-9d45-4822-9d72-6eb02ce1899b",
   "metadata": {},
   "outputs": [
    {
     "name": "stdout",
     "output_type": "stream",
     "text": [
      "(17167, 171)\n",
      "17167\n"
     ]
    }
   ],
   "source": [
    "selected_cols = ['patientunitstayid', 'respchartvaluelabel', 'respchartvalue']\n",
    "resp = resp.loc[:, selected_cols]\n",
    "\n",
    "resp_agg = (\n",
    "    resp.groupby(['patientunitstayid', 'respchartvaluelabel'])\n",
    "        .agg(meanrespchartvalue = ('respchartvalue', 'mean'))\n",
    "        .reset_index()\n",
    ")\n",
    "\n",
    "resp_wide = (\n",
    "    pd.pivot(resp_agg, \n",
    "             index=['patientunitstayid'], \n",
    "             columns = 'respchartvaluelabel',\n",
    "             values = 'meanrespchartvalue').add_prefix('resp_mean_').reset_index()\n",
    ")\n",
    "\n",
    "patient = patient.merge(resp_wide, how='left', on='patientunitstayid')\n",
    "print(patient.shape)\n",
    "print(patient.uniquepid.nunique())"
   ]
  },
  {
   "cell_type": "markdown",
   "id": "e94386d0-7296-48f2-bac8-1fa0095fe29b",
   "metadata": {},
   "source": [
    "### Merge aperiodic vital sign data with patient table"
   ]
  },
  {
   "cell_type": "code",
   "execution_count": 59,
   "id": "01ff6191-f007-4e32-ad1a-52253860289b",
   "metadata": {},
   "outputs": [
    {
     "name": "stdout",
     "output_type": "stream",
     "text": [
      "(25075074, 13)\n",
      "189753\n"
     ]
    }
   ],
   "source": [
    "vital_aperiodic = pd.read_csv('./eicu-research-database/vitalAperiodic.csv')\n",
    "print(vital_aperiodic.shape)\n",
    "print(vital_aperiodic.patientunitstayid.nunique())"
   ]
  },
  {
   "cell_type": "code",
   "execution_count": 60,
   "id": "f3799ba0-7cf4-40f8-b182-4b234cab62fa",
   "metadata": {},
   "outputs": [
    {
     "name": "stdout",
     "output_type": "stream",
     "text": [
      "(17167, 192)\n",
      "17167\n"
     ]
    }
   ],
   "source": [
    "# Aggregate vital sign data for each patient stay\n",
    "vital_agg = (\n",
    "    vital_aperiodic.groupby('patientunitstayid')\n",
    "                   .agg(minpaop = ('paop', 'min'),\n",
    "                        meanpaop = ('paop', 'mean'),\n",
    "                        maxpaop = ('paop', 'max'),\n",
    "                        mincardiacoutput = ('cardiacoutput', 'min'),\n",
    "                        meancardiacoutput = ('cardiacoutput', 'mean'),\n",
    "                        maxcardiacoutput = ('cardiacoutput', 'max'),\n",
    "                        mincardiacinput = ('cardiacinput', 'min'),\n",
    "                        meancardiacinput = ('cardiacinput', 'mean'), \n",
    "                        maxcardiacinput = ('cardiacinput', 'max'),\n",
    "                        minsvr = ('svr', 'min'),\n",
    "                        meansvr = ('svr', 'mean'),\n",
    "                        maxsvr = ('svr', 'max'),\n",
    "                        minsvri = ('svri', 'min'),\n",
    "                        meansvri = ('svri', 'mean'),\n",
    "                        maxsvri = ('svri', 'max'),\n",
    "                        minpvr = ('pvr', 'min'),\n",
    "                        meanpvr = ('pvr', 'mean'),\n",
    "                        maxpvr = ('pvr', 'max'),\n",
    "                        minpvri = ('pvri', 'min'),\n",
    "                        meanpvri = ('pvri', 'mean'),\n",
    "                        maxpvri = ('pvri', 'max')) \n",
    "                   .add_prefix('aperiodic_')\n",
    "                   .reset_index()\n",
    ")\n",
    "\n",
    "patient = patient.merge(vital_agg, how='left', on='patientunitstayid')\n",
    "print(patient.shape)\n",
    "print(patient.uniquepid.nunique())\n",
    "\n",
    "# Save aggregated patient table to csv\n",
    "patient.to_csv('raw_agg_patient_table.csv', index=False)"
   ]
  }
 ],
 "metadata": {
  "kernelspec": {
   "display_name": "Python 3",
   "language": "python",
   "name": "python3"
  },
  "language_info": {
   "codemirror_mode": {
    "name": "ipython",
    "version": 3
   },
   "file_extension": ".py",
   "mimetype": "text/x-python",
   "name": "python",
   "nbconvert_exporter": "python",
   "pygments_lexer": "ipython3",
   "version": "3.9.15"
  },
  "vscode": {
   "interpreter": {
    "hash": "c4d4636af150902c0b8e2ebc5c53dc0d60b9e7578f34b889186f73c8befe193e"
   }
  }
 },
 "nbformat": 4,
 "nbformat_minor": 5
}
