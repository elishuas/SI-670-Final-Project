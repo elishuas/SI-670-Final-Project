{
 "cells": [
  {
   "cell_type": "markdown",
   "id": "503be9be-803b-4b03-bbb3-92d079a7a609",
   "metadata": {},
   "source": [
    "# SI 670 Project Proposal\n",
    "##### Elishua Shumpert and Steve Toner"
   ]
  },
  {
   "cell_type": "markdown",
   "id": "485c31e2-01fe-4efe-a103-1a73a47cf7f3",
   "metadata": {},
   "source": [
    "The cost of prescription drugs are very expensive and costs continue to rise. The costs often hurt individuals who don't have insurance, and because they are so high these individuals cannot afford the medication they need to maintain their health. We would like to develop a model to forecast Medicare prescription drug costs so that consumers as end users are informed on future prices of various medications."
   ]
  },
  {
   "cell_type": "markdown",
   "id": "40be077a-9204-4884-916f-acaabc06a527",
   "metadata": {},
   "source": [
    "### Methods"
   ]
  },
  {
   "cell_type": "markdown",
   "id": "90dfed80-047b-43b6-9647-911068288041",
   "metadata": {},
   "source": [
    "Some of the machine learning models that we intend to use include linear regression as a baseline, KNN, Random Forest, Boosting and an artificial neural network (ANN)."
   ]
  },
  {
   "cell_type": "markdown",
   "id": "0ab2d063-01d3-428e-8344-149cfff40f20",
   "metadata": {},
   "source": [
    "### Datasets"
   ]
  },
  {
   "cell_type": "markdown",
   "id": "e01aef8d-56a2-4855-847f-ff0659848bba",
   "metadata": {},
   "source": [
    "We plan to construct a data set using multiple data tables on historical data for drug spending and Medicare Rx spending from data.world. Most of the preprocessing required will includde merging multiple data tables, handling missing values, and engineering features. The data sources include:\n",
    "\n",
    "- https://data.world/data4democracy/drug-spending\n",
    "- https://data.world/carlvlewis/medicare-rx-spending-10-15"
   ]
  },
  {
   "cell_type": "markdown",
   "id": "18c8579c-6717-418e-be89-b99101b59a26",
   "metadata": {},
   "source": [
    "### Evaluation"
   ]
  },
  {
   "cell_type": "markdown",
   "id": "23571451-dc40-4856-9e4b-097ab921e81b",
   "metadata": {},
   "source": [
    "Given that we are predicting a real-valued target variable, we will use the mean squared error as our evaluation metric to assess the different learners. Along with experimenting with different classifiers, we plan on also experimenting with different subsets of features using variable selection algorithms and techniques as a part of tuning the model and doing an error analysis to see where the model is struggling in terms of performance. We can define success for the project as achieving a significant improvement in the mean squared error compared to the baseline and other models attempted."
   ]
  },
  {
   "cell_type": "markdown",
   "id": "839c21b0-18c9-4b38-ac72-e0c790106cb4",
   "metadata": {},
   "source": [
    "### Computing "
   ]
  },
  {
   "cell_type": "markdown",
   "id": "75f21691-af76-48a2-b0f2-c9866ef9d9f8",
   "metadata": {},
   "source": [
    "We won't need any major computing resources. We plan to do most of the work in Jupyter notebook."
   ]
  },
  {
   "cell_type": "markdown",
   "id": "a474c8a7-fd7e-4536-83d3-a561ecf56663",
   "metadata": {},
   "source": [
    "### Existing work"
   ]
  },
  {
   "cell_type": "markdown",
   "id": "cf0f028e-a0e3-4cb2-9f72-be768848686b",
   "metadata": {},
   "source": [
    "We couldn't find any existing work or research articles on this data set provided by data.world. However, there has been work that researchers have done to predict the number of drug claims. "
   ]
  },
  {
   "cell_type": "markdown",
   "id": "da797df9-646d-4fee-90e6-9adbd60740af",
   "metadata": {},
   "source": [
    "### Duty of each group member"
   ]
  },
  {
   "cell_type": "markdown",
   "id": "338e873e-0c0d-4c27-b95d-380856c12758",
   "metadata": {},
   "source": [
    "- Elishua: Data pre-processing, EDA, linear regression, KNN\n",
    "- Steve: Random Forest, Boosting, ANN, error analysis\n",
    "\n",
    "We plan to work together on feature engineering and writing the final report."
   ]
  }
 ],
 "metadata": {
  "kernelspec": {
   "display_name": "Python 3.9.13 ('base')",
   "language": "python",
   "name": "python3"
  },
  "language_info": {
   "codemirror_mode": {
    "name": "ipython",
    "version": 3
   },
   "file_extension": ".py",
   "mimetype": "text/x-python",
   "name": "python",
   "nbconvert_exporter": "python",
   "pygments_lexer": "ipython3",
   "version": "3.9.13"
  },
  "vscode": {
   "interpreter": {
    "hash": "c4d4636af150902c0b8e2ebc5c53dc0d60b9e7578f34b889186f73c8befe193e"
   }
  }
 },
 "nbformat": 4,
 "nbformat_minor": 5
}
